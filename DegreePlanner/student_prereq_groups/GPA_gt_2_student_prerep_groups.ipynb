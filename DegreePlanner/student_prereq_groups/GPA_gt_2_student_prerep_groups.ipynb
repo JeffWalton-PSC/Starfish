{
 "cells": [
  {
   "cell_type": "code",
   "execution_count": 1,
   "metadata": {},
   "outputs": [
    {
     "name": "stdout",
     "output_type": "stream",
     "text": [
      "(2973, 7)\n"
     ]
    }
   ],
   "source": [
    "\"\"\"\n",
    "Outputs group file for students with greater than a 2.0 GPA\n",
    "\"\"\"\n",
    "\n",
    "import pandas as pd\n",
    "from datetime import date\n",
    "from pathlib import Path\n",
    "\n",
    "output_path = Path(\n",
    "    r\"\\\\psc-data\\E\\Applications\\Starfish\\Files\\workingfiles\\student_prereq_groups\"\n",
    ")\n",
    "fn_output = output_path / \"higherthan20gpa_student_prereq_groups.txt\"\n",
    "\n",
    "# local connection information\n",
    "import local_db\n",
    "\n",
    "connection = local_db.connection()\n",
    "\n",
    "# utility functions\n",
    "import util\n",
    "\n",
    "today = date.today()\n",
    "today_str = today.strftime(\"%Y%m%d\")\n",
    "\n",
    "sql_str = (\n",
    "    \"SELECT PEOPLE_CODE_ID, ACADEMIC_YEAR, ACADEMIC_TERM, ACADEMIC_SESSION, \"\n",
    "    + \"RECORD_TYPE, TOTAL_CREDITS, GPA \"\n",
    "    + \"FROM TRANSCRIPTGPA WHERE \"\n",
    "    + \"RECORD_TYPE = 'O' \"\n",
    "    + \"AND TOTAL_CREDITS >= 0 \"\n",
    ")\n",
    "df_tgpa = pd.read_sql_query(sql_str, connection)\n",
    "\n",
    "\n",
    "# keep records for active students with email_address\n",
    "df = util.apply_active_with_email_address(in_df=df_tgpa)\n",
    "\n",
    "# filter results to only have cumulative GPA's equal to or above a 2.0,\n",
    "#                   and Fall, Spring or Summer term\n",
    "df = df[(~df[\"GPA\"].isnull())]\n",
    "df = df[(df[\"GPA\"] >= 2)]\n",
    "df = df[df[\"ACADEMIC_TERM\"].isin([\"SPRING\", \"SUMMER\", \"FALL\"])]\n",
    "\n",
    "\n",
    "print(df.shape)\n"
   ]
  },
  {
   "cell_type": "code",
   "execution_count": 2,
   "metadata": {},
   "outputs": [
    {
     "name": "stdout",
     "output_type": "stream",
     "text": [
      "(762, 10)\n"
     ]
    }
   ],
   "source": [
    "# find the latest year\n",
    "df = util.latest_year_term(df)\n",
    "\n",
    "print(df.shape)\n",
    "#print(df.head())\n"
   ]
  },
  {
   "cell_type": "code",
   "execution_count": 3,
   "metadata": {
    "collapsed": true
   },
   "outputs": [
    {
     "name": "stdout",
     "output_type": "stream",
     "text": [
      "(762, 11)\n"
     ]
    }
   ],
   "source": [
    "# create prereq group identifier\n",
    "df[\"prereq_group_identifier\"] = \"GPA_GT_2.0\"\n",
    "\n",
    "print(df.shape)\n",
    "#print(df.head())\n"
   ]
  },
  {
   "cell_type": "code",
   "execution_count": 4,
   "metadata": {
    "collapsed": true
   },
   "outputs": [
    {
     "name": "stdout",
     "output_type": "stream",
     "text": [
      "(762, 2)\n"
     ]
    }
   ],
   "source": [
    "# rename columns\n",
    "df = df.rename(columns={\"PEOPLE_CODE_ID\": \"student_integration_id\"})\n",
    "\n",
    "# columns to keep\n",
    "df = df[[\"student_integration_id\", \"prereq_group_identifier\"]]\n",
    "\n",
    "print(df.shape)\n",
    "#print(df.head())\n"
   ]
  },
  {
   "cell_type": "code",
   "execution_count": 5,
   "metadata": {},
   "outputs": [
    {
     "name": "stdout",
     "output_type": "stream",
     "text": [
      "(762, 2)\n"
     ]
    }
   ],
   "source": [
    "df = df.sort_values(\n",
    "    [\"student_integration_id\", \"prereq_group_identifier\"]\n",
    ").drop_duplicates([\"student_integration_id\", \"prereq_group_identifier\"], keep=\"last\")\n",
    "\n",
    "print(df.shape)\n"
   ]
  },
  {
   "cell_type": "code",
   "execution_count": 6,
   "metadata": {
    "collapsed": true
   },
   "outputs": [],
   "source": [
    "df.to_csv(fn_output, index=False)\n"
   ]
  },
  {
   "cell_type": "code",
   "execution_count": null,
   "metadata": {
    "collapsed": true
   },
   "outputs": [],
   "source": []
  }
 ],
 "metadata": {
  "anaconda-cloud": {},
  "kernelspec": {
   "display_name": "Python 3",
   "language": "python",
   "name": "python3"
  },
  "language_info": {
   "codemirror_mode": {
    "name": "ipython",
    "version": 3
   },
   "file_extension": ".py",
   "mimetype": "text/x-python",
   "name": "python",
   "nbconvert_exporter": "python",
   "pygments_lexer": "ipython3",
   "version": "3.7.1"
  }
 },
 "nbformat": 4,
 "nbformat_minor": 2
}
