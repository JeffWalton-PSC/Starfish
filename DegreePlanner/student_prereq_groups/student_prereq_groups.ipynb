{
 "cells": [
  {
   "cell_type": "code",
   "execution_count": 10,
   "metadata": {},
   "outputs": [],
   "source": [
    "import numpy as np\n",
    "import pandas as pd\n",
    "from datetime import date\n"
   ]
  },
  {
   "cell_type": "code",
   "execution_count": 11,
   "metadata": {},
   "outputs": [],
   "source": [
    "# local connection information\n",
    "import local_db\n",
    "connection = local_db.connection()\n"
   ]
  },
  {
   "cell_type": "code",
   "execution_count": 12,
   "metadata": {},
   "outputs": [],
   "source": [
    "# utility functions\n",
    "import util\n"
   ]
  },
  {
   "cell_type": "code",
   "execution_count": 14,
   "metadata": {},
   "outputs": [],
   "source": [
    "today = date.today()\n",
    "today_str = today.strftime('%Y%m%d')\n"
   ]
  },
  {
   "cell_type": "code",
   "execution_count": 20,
   "metadata": {},
   "outputs": [
    {
     "name": "stdout",
     "output_type": "stream",
     "text": [
      "(81405, 7)\n"
     ]
    }
   ],
   "source": [
    "sql_str = \"SELECT PEOPLE_CODE_ID, ACADEMIC_YEAR, ACADEMIC_TERM, ACADEMIC_SESSION, \" + \\\n",
    "          \"CREDITS, PRIMARY_FLAG, CLASS_LEVEL \" + \\\n",
    "          \"FROM ACADEMIC WHERE \" + \\\n",
    "          \"PRIMARY_FLAG = 'Y' \" + \\\n",
    "          \"AND CREDITS > 0 \"\n",
    "df_aca = pd.read_sql_query(sql_str, connection)\n",
    "\n",
    "df_aca = df_aca[['PEOPLE_CODE_ID', 'ACADEMIC_YEAR', 'ACADEMIC_TERM', 'ACADEMIC_SESSION', \n",
    "                 'CREDITS', 'PRIMARY_FLAG', 'CLASS_LEVEL', \n",
    "                 ]]\n",
    "\n",
    "print(df_aca.shape)"
   ]
  },
  {
   "cell_type": "code",
   "execution_count": 32,
   "metadata": {},
   "outputs": [
    {
     "name": "stdout",
     "output_type": "stream",
     "text": [
      "(9830, 7)\n"
     ]
    }
   ],
   "source": [
    "# keep records for active students\n",
    "df = util.apply_active(in_df=df_aca)\n",
    "\n",
    "print(df.shape)"
   ]
  },
  {
   "cell_type": "code",
   "execution_count": null,
   "metadata": {},
   "outputs": [],
   "source": []
  },
  {
   "cell_type": "code",
   "execution_count": null,
   "metadata": {},
   "outputs": [],
   "source": []
  },
  {
   "cell_type": "code",
   "execution_count": null,
   "metadata": {},
   "outputs": [],
   "source": []
  },
  {
   "cell_type": "code",
   "execution_count": 33,
   "metadata": {},
   "outputs": [
    {
     "name": "stdout",
     "output_type": "stream",
     "text": [
      "(9830, 7)\n",
      "  PEOPLE_CODE_ID ACADEMIC_YEAR ACADEMIC_TERM ACADEMIC_SESSION  CREDITS  \\\n",
      "0     P000000006          2000        SPRING                       3.0   \n",
      "1     P000000006          2000        SPRING             MAIN      3.0   \n",
      "2     P000000006          2011        SUMMER                       3.0   \n",
      "3     P000000006          2011        SUMMER             CULN      3.0   \n",
      "4     P000000006          2018        SPRING                       3.0   \n",
      "\n",
      "  PRIMARY_FLAG CLASS_LEVEL  \n",
      "0            Y        FRES  \n",
      "1            Y        FRES  \n",
      "2            Y        FRES  \n",
      "3            Y        FRES  \n",
      "4            Y        FRES  \n",
      "(1199, 10)\n",
      "   PEOPLE_CODE_ID  ACADEMIC_YEAR ACADEMIC_TERM ACADEMIC_SESSION  CREDITS  \\\n",
      "4      P000000006         2018.0        SPRING                       3.0   \n",
      "23     P000003107         2017.0          FALL                      15.0   \n",
      "39     P000021089         2017.0          FALL                       3.0   \n",
      "47     P000023459         2018.0        SPRING                       3.0   \n",
      "67     P000024201         2018.0        SUMMER                       3.0   \n",
      "\n",
      "   PRIMARY_FLAG CLASS_LEVEL  seq    term  term_seq  \n",
      "4             Y        FRES    1  SPRING  201801.0  \n",
      "23            Y         SEN    3    FALL  201703.0  \n",
      "39            Y         SEN    3    FALL  201703.0  \n",
      "47            Y        FRES    1  SPRING  201801.0  \n",
      "67            Y         SEN    2  SUMMER  201802.0  \n"
     ]
    }
   ],
   "source": [
    "# find the latest year\n",
    "df = df[(~df['ACADEMIC_YEAR'].isnull())]\n",
    "print(df.shape)\n",
    "print(df.head())\n",
    "df['ACADEMIC_YEAR'] = (pd.to_numeric(df['ACADEMIC_YEAR'], errors='coerce'))\n",
    "df_seq = pd.DataFrame([{'term': 'SPRING', 'seq': 1},\n",
    "                       {'term': 'SUMMER', 'seq': 2},\n",
    "                       {'term': 'FALL', 'seq': 3}])\n",
    "df = pd.merge(df, df_seq, left_on='ACADEMIC_TERM', right_on='term', how='left')\n",
    "df['term_seq'] = df['ACADEMIC_YEAR'] * 100 + df['seq']\n",
    "df = (df.loc[df.reset_index()\n",
    "               .groupby(['PEOPLE_CODE_ID'])['term_seq']\n",
    "               .idxmax()])\n",
    "\n",
    "print(df.shape)\n",
    "print(df.head())\n"
   ]
  },
  {
   "cell_type": "code",
   "execution_count": 34,
   "metadata": {},
   "outputs": [
    {
     "data": {
      "text/plain": [
       "array([201801., 201703., 201802., 201701., 201803., 201702.])"
      ]
     },
     "execution_count": 34,
     "metadata": {},
     "output_type": "execute_result"
    }
   ],
   "source": [
    "df['term_seq'].unique()"
   ]
  },
  {
   "cell_type": "code",
   "execution_count": null,
   "metadata": {},
   "outputs": [],
   "source": []
  },
  {
   "cell_type": "code",
   "execution_count": null,
   "metadata": {},
   "outputs": [],
   "source": []
  },
  {
   "cell_type": "code",
   "execution_count": null,
   "metadata": {},
   "outputs": [],
   "source": []
  },
  {
   "cell_type": "code",
   "execution_count": null,
   "metadata": {},
   "outputs": [],
   "source": []
  },
  {
   "cell_type": "code",
   "execution_count": null,
   "metadata": {},
   "outputs": [],
   "source": []
  },
  {
   "cell_type": "code",
   "execution_count": null,
   "metadata": {},
   "outputs": [],
   "source": [
    "df = df.rename(columns={'PEOPLE_CODE_ID': 'student_integration_id',\n",
    "                        'CREDIT': 'credits',\n",
    "                        'EVENT_MED_NAME': 'course_title',\n",
    "                        'ACADEMIC_YEAR': 'term_year',\n",
    "                        'ACADEMIC_TERM': 'term_season',\n",
    "                       })\n"
   ]
  },
  {
   "cell_type": "code",
   "execution_count": null,
   "metadata": {},
   "outputs": [],
   "source": [
    "df = df.loc[:, ['student_integration_id', 'prereq_group_identifier',\n",
    "               ]]\n"
   ]
  },
  {
   "cell_type": "code",
   "execution_count": null,
   "metadata": {},
   "outputs": [],
   "source": [
    "df = (df.sort_values(['student_integration_id', \n",
    "                      'prereq_group_identifier'])\n",
    "        .drop_duplicates(['student_integration_id', \n",
    "                          'prereq_group_identifier'],\n",
    "                         keep='last')\n",
    "     )\n"
   ]
  },
  {
   "cell_type": "code",
   "execution_count": null,
   "metadata": {},
   "outputs": [],
   "source": [
    "fn_output = f'{today_str}_student_prereq_groups.txt'\n",
    "df.to_csv(fn_output, index=False)\n"
   ]
  }
 ],
 "metadata": {
  "kernelspec": {
   "display_name": "Python 3",
   "language": "python",
   "name": "python3"
  },
  "language_info": {
   "codemirror_mode": {
    "name": "ipython",
    "version": 3
   },
   "file_extension": ".py",
   "mimetype": "text/x-python",
   "name": "python",
   "nbconvert_exporter": "python",
   "pygments_lexer": "ipython3",
   "version": "3.6.5"
  }
 },
 "nbformat": 4,
 "nbformat_minor": 2
}
