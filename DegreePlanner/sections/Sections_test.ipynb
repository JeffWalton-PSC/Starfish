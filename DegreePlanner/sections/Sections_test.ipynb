{
 "cells": [
  {
   "cell_type": "code",
   "execution_count": 1,
   "metadata": {
    "collapsed": true
   },
   "outputs": [],
   "source": [
    "import numpy as np\n",
    "import pandas as pd\n",
    "from datetime import date, datetime\n"
   ]
  },
  {
   "cell_type": "code",
   "execution_count": 2,
   "metadata": {
    "collapsed": true
   },
   "outputs": [],
   "source": [
    "# local connection information\n",
    "import local_db\n",
    "connection = local_db.connection()\n"
   ]
  },
  {
   "cell_type": "code",
   "execution_count": 3,
   "metadata": {
    "collapsed": true
   },
   "outputs": [],
   "source": [
    "sections_begin_year = '2011'\n"
   ]
  },
  {
   "cell_type": "code",
   "execution_count": 4,
   "metadata": {
    "collapsed": true
   },
   "outputs": [],
   "source": [
    "sql_str = \"SELECT * FROM SECTIONS WHERE \" + \\\n",
    "          \"EVENT_SUB_TYPE NOT IN ('ADV') \" + \\\n",
    "          f\"AND ACADEMIC_YEAR >= '{sections_begin_year}' \" + \\\n",
    "          \"AND ACADEMIC_TERM IN ('FALL', 'SPRING', 'SUMMER') \" + \\\n",
    "          \"AND ACADEMIC_SESSION IN ('MAIN', 'CULN', 'EXT', 'FNRR', 'HEOP',\" + \\\n",
    "          \" 'SLAB', 'BLOCK A', 'BLOCK AB', 'BLOCK B') \"\n",
    "df_sections = pd.read_sql_query(sql_str, connection)\n"
   ]
  },
  {
   "cell_type": "code",
   "execution_count": 5,
   "metadata": {
    "collapsed": false
   },
   "outputs": [
    {
     "name": "stdout",
     "output_type": "stream",
     "text": [
      "(5063, 111)\n"
     ]
    }
   ],
   "source": [
    "print(df_sections.shape)"
   ]
  },
  {
   "cell_type": "code",
   "execution_count": null,
   "metadata": {
    "collapsed": true
   },
   "outputs": [],
   "source": [
    "# load transfer courses (ACADEMIC_YEAR=1999, ACADEMIC_TERM='TR' and append\n",
    "sql_str = \"SELECT * FROM SECTIONS WHERE \" + \\\n",
    "          \"EVENT_SUB_TYPE NOT IN ('ADV') \" + \\\n",
    "          f\"AND ACADEMIC_YEAR >= '1999' \" + \\\n",
    "          \"AND ACADEMIC_TERM IN ('FALL', 'SPRING', 'SUMMER') \" + \\\n",
    "          \"AND ACADEMIC_SESSION IN ('MAIN', 'CULN', 'EXT', 'FNRR', 'HEOP',\" + \\\n",
    "          \" 'SLAB', 'BLOCK A', 'BLOCK AB', 'BLOCK B') \"\n",
    "df_transfer = pd.read_sql_query(sql_str, connection)\n"
   ]
  },
  {
   "cell_type": "code",
   "execution_count": null,
   "metadata": {
    "collapsed": true
   },
   "outputs": [],
   "source": []
  },
  {
   "cell_type": "code",
   "execution_count": null,
   "metadata": {
    "collapsed": true
   },
   "outputs": [],
   "source": [
    "df = df_sections[['EVENT_ID', 'EVENT_SUB_TYPE', 'EVENT_MED_NAME',\n",
    "                  'SECTION', 'CREDITS', 'MAX_PARTICIPANT',\n",
    "                  'ACADEMIC_YEAR', 'ACADEMIC_TERM', 'ACADEMIC_SESSION',\n",
    "                  'START_DATE', 'END_DATE', 'CIP_CODE',\n",
    "                  'REVISION_DATE', 'REVISION_TIME',\n",
    "                  ]]\n"
   ]
  }
 ],
 "metadata": {
  "kernelspec": {
   "display_name": "Python 3",
   "language": "python",
   "name": "python3"
  },
  "language_info": {
   "codemirror_mode": {
    "name": "ipython",
    "version": 3
   },
   "file_extension": ".py",
   "mimetype": "text/x-python",
   "name": "python",
   "nbconvert_exporter": "python",
   "pygments_lexer": "ipython3",
   "version": "3.6.5"
  }
 },
 "nbformat": 4,
 "nbformat_minor": 2
}
