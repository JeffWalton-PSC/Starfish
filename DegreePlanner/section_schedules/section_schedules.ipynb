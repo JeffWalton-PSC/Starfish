{
 "cells": [
  {
   "cell_type": "code",
   "execution_count": 1,
   "metadata": {},
   "outputs": [],
   "source": [
    "import numpy as np\n",
    "import pandas as pd\n",
    "from datetime import date\n"
   ]
  },
  {
   "cell_type": "code",
   "execution_count": 2,
   "metadata": {},
   "outputs": [],
   "source": [
    "# local connection information\n",
    "import local_db\n",
    "connection = local_db.connection()\n"
   ]
  },
  {
   "cell_type": "code",
   "execution_count": 3,
   "metadata": {},
   "outputs": [
    {
     "name": "stdout",
     "output_type": "stream",
     "text": [
      "20180523\n"
     ]
    }
   ],
   "source": [
    "today = date.today()\n",
    "today_str = today.strftime('%Y%m%d')\n",
    "print(today_str)"
   ]
  },
  {
   "cell_type": "code",
   "execution_count": 4,
   "metadata": {},
   "outputs": [],
   "source": [
    "sections_begin_year = '2011'\n"
   ]
  },
  {
   "cell_type": "code",
   "execution_count": 5,
   "metadata": {},
   "outputs": [],
   "source": [
    "sql_str = \"SELECT * FROM SECTIONSCHEDULE WHERE \" + \\\n",
    "          f\"ACADEMIC_YEAR >= '{sections_begin_year}' \" + \\\n",
    "          \"AND ACADEMIC_TERM IN ('FALL', 'SPRING', 'SUMMER') \" + \\\n",
    "          \"AND ACADEMIC_SESSION IN ('MAIN', 'CULN', 'EXT', 'FNRR', 'HEOP', \" + \\\n",
    "          \" 'SLAB', 'BLOCK A', 'BLOCK AB', 'BLOCK B') \"\n",
    "df_ss = pd.read_sql_query(sql_str, connection)\n"
   ]
  },
  {
   "cell_type": "code",
   "execution_count": 6,
   "metadata": {},
   "outputs": [],
   "source": [
    "df = df_ss[['ACADEMIC_YEAR', 'ACADEMIC_TERM', 'ACADEMIC_SESSION',\n",
    "            'EVENT_ID', 'EVENT_SUB_TYPE',\n",
    "            'SECTION', 'DAY',\n",
    "            'START_TIME', 'END_TIME',\n",
    "            'BUILDING_CODE', 'ROOM_ID',\n",
    "           ]]\n"
   ]
  },
  {
   "cell_type": "code",
   "execution_count": 7,
   "metadata": {},
   "outputs": [],
   "source": [
    "df = df[~(df['EVENT_ID'].str.contains('REG', case=False))]\n",
    "df = df[~(df['EVENT_ID'].str.contains('STDY', case=False))]\n"
   ]
  },
  {
   "cell_type": "code",
   "execution_count": null,
   "metadata": {},
   "outputs": [],
   "source": [
    "print(df.shape)\n",
    "df.head()"
   ]
  },
  {
   "cell_type": "code",
   "execution_count": 8,
   "metadata": {},
   "outputs": [],
   "source": [
    "df.loc[:, 'section_integration_id'] = (df['EVENT_ID'] + '.' +\n",
    "                                       df['EVENT_SUB_TYPE'] + '.' +\n",
    "                                       df['ACADEMIC_YEAR'] + '.' +\n",
    "                                       df['ACADEMIC_TERM'].str.title() + '.' +\n",
    "                                       df['SECTION']\n",
    "                                      )\n"
   ]
  },
  {
   "cell_type": "code",
   "execution_count": null,
   "metadata": {},
   "outputs": [],
   "source": [
    "df['EVENT_SUB_TYPE'].value_counts()"
   ]
  },
  {
   "cell_type": "code",
   "execution_count": null,
   "metadata": {},
   "outputs": [],
   "source": [
    "df['DAY'].value_counts()"
   ]
  },
  {
   "cell_type": "code",
   "execution_count": null,
   "metadata": {},
   "outputs": [],
   "source": [
    "df['BUILDING_CODE'].value_counts()"
   ]
  },
  {
   "cell_type": "code",
   "execution_count": 9,
   "metadata": {},
   "outputs": [
    {
     "name": "stdout",
     "output_type": "stream",
     "text": [
      "(5092, 12)\n"
     ]
    }
   ],
   "source": [
    "print(df.shape)"
   ]
  },
  {
   "cell_type": "code",
   "execution_count": 10,
   "metadata": {},
   "outputs": [],
   "source": [
    "df = (df.loc[(~df['EVENT_SUB_TYPE'].isin(['ACE', 'EXT', 'ONLN'])) &\n",
    "             (~df['DAY'].isin(['TBD', 'ONLN', 'CANC'])) &\n",
    "             (~df['BUILDING_CODE'].isin(['ONLINE'])) &\n",
    "             (~df['BUILDING_CODE'].isnull())\n",
    "            ]\n",
    "     )\n"
   ]
  },
  {
   "cell_type": "code",
   "execution_count": 11,
   "metadata": {},
   "outputs": [
    {
     "name": "stdout",
     "output_type": "stream",
     "text": [
      "(4827, 12)\n"
     ]
    }
   ],
   "source": [
    "print(df.shape)"
   ]
  },
  {
   "cell_type": "code",
   "execution_count": null,
   "metadata": {},
   "outputs": [],
   "source": [
    "df['EVENT_SUB_TYPE'].value_counts()"
   ]
  },
  {
   "cell_type": "code",
   "execution_count": null,
   "metadata": {},
   "outputs": [],
   "source": [
    "df['DAY'].value_counts()"
   ]
  },
  {
   "cell_type": "code",
   "execution_count": null,
   "metadata": {},
   "outputs": [],
   "source": [
    "df['BUILDING_CODE'].value_counts()"
   ]
  },
  {
   "cell_type": "code",
   "execution_count": null,
   "metadata": {},
   "outputs": [],
   "source": [
    "df.head()"
   ]
  },
  {
   "cell_type": "code",
   "execution_count": 12,
   "metadata": {},
   "outputs": [
    {
     "name": "stdout",
     "output_type": "stream",
     "text": [
      "(41, 2)\n"
     ]
    },
    {
     "data": {
      "text/html": [
       "<div>\n",
       "<style scoped>\n",
       "    .dataframe tbody tr th:only-of-type {\n",
       "        vertical-align: middle;\n",
       "    }\n",
       "\n",
       "    .dataframe tbody tr th {\n",
       "        vertical-align: top;\n",
       "    }\n",
       "\n",
       "    .dataframe thead th {\n",
       "        text-align: right;\n",
       "    }\n",
       "</style>\n",
       "<table border=\"1\" class=\"dataframe\">\n",
       "  <thead>\n",
       "    <tr style=\"text-align: right;\">\n",
       "      <th></th>\n",
       "      <th>BUILDING_CODE</th>\n",
       "      <th>BUILD_NAME_1</th>\n",
       "    </tr>\n",
       "  </thead>\n",
       "  <tbody>\n",
       "    <tr>\n",
       "      <th>0</th>\n",
       "      <td>ADK 1</td>\n",
       "      <td>Lower St. Regis Hall</td>\n",
       "    </tr>\n",
       "    <tr>\n",
       "      <th>1</th>\n",
       "      <td>ADK 2</td>\n",
       "      <td>Upper St. Regis Hall</td>\n",
       "    </tr>\n",
       "    <tr>\n",
       "      <th>2</th>\n",
       "      <td>ADM</td>\n",
       "      <td>Phelps Smith Administration Building</td>\n",
       "    </tr>\n",
       "    <tr>\n",
       "      <th>3</th>\n",
       "      <td>ALUMNI</td>\n",
       "      <td>Alumni Hall</td>\n",
       "    </tr>\n",
       "    <tr>\n",
       "      <th>4</th>\n",
       "      <td>APARK</td>\n",
       "      <td>Alumni Park</td>\n",
       "    </tr>\n",
       "  </tbody>\n",
       "</table>\n",
       "</div>"
      ],
      "text/plain": [
       "  BUILDING_CODE                          BUILD_NAME_1\n",
       "0         ADK 1                  Lower St. Regis Hall\n",
       "1         ADK 2                  Upper St. Regis Hall\n",
       "2           ADM  Phelps Smith Administration Building\n",
       "3        ALUMNI                           Alumni Hall\n",
       "4         APARK                           Alumni Park"
      ]
     },
     "execution_count": 12,
     "metadata": {},
     "output_type": "execute_result"
    }
   ],
   "source": [
    "sql_str = \"SELECT BUILDING_CODE, BUILD_NAME_1 FROM BUILDING \"\n",
    "building_codes = pd.read_sql_query(sql_str, connection)\n",
    "\n",
    "print(building_codes.shape)\n",
    "building_codes.head()\n"
   ]
  },
  {
   "cell_type": "code",
   "execution_count": 13,
   "metadata": {},
   "outputs": [
    {
     "data": {
      "text/html": [
       "<div>\n",
       "<style scoped>\n",
       "    .dataframe tbody tr th:only-of-type {\n",
       "        vertical-align: middle;\n",
       "    }\n",
       "\n",
       "    .dataframe tbody tr th {\n",
       "        vertical-align: top;\n",
       "    }\n",
       "\n",
       "    .dataframe thead th {\n",
       "        text-align: right;\n",
       "    }\n",
       "</style>\n",
       "<table border=\"1\" class=\"dataframe\">\n",
       "  <thead>\n",
       "    <tr style=\"text-align: right;\">\n",
       "      <th></th>\n",
       "      <th>ACADEMIC_YEAR</th>\n",
       "      <th>ACADEMIC_TERM</th>\n",
       "      <th>ACADEMIC_SESSION</th>\n",
       "      <th>EVENT_ID</th>\n",
       "      <th>EVENT_SUB_TYPE</th>\n",
       "      <th>SECTION</th>\n",
       "      <th>DAY</th>\n",
       "      <th>START_TIME</th>\n",
       "      <th>END_TIME</th>\n",
       "      <th>BUILDING_CODE</th>\n",
       "      <th>ROOM_ID</th>\n",
       "      <th>section_integration_id</th>\n",
       "      <th>BUILD_NAME_1</th>\n",
       "    </tr>\n",
       "  </thead>\n",
       "  <tbody>\n",
       "    <tr>\n",
       "      <th>0</th>\n",
       "      <td>2011</td>\n",
       "      <td>SPRING</td>\n",
       "      <td>MAIN</td>\n",
       "      <td>ACC 101</td>\n",
       "      <td>LEC</td>\n",
       "      <td>01</td>\n",
       "      <td>MWF</td>\n",
       "      <td>1900-01-01 09:05:00</td>\n",
       "      <td>1900-01-01 10:00:00</td>\n",
       "      <td>PICKTT</td>\n",
       "      <td>223</td>\n",
       "      <td>ACC 101.LEC.2011.Spring.01</td>\n",
       "      <td>Pickett</td>\n",
       "    </tr>\n",
       "    <tr>\n",
       "      <th>1</th>\n",
       "      <td>2011</td>\n",
       "      <td>SPRING</td>\n",
       "      <td>MAIN</td>\n",
       "      <td>ACC 101</td>\n",
       "      <td>LEC</td>\n",
       "      <td>02</td>\n",
       "      <td>MWF</td>\n",
       "      <td>1900-01-01 11:15:00</td>\n",
       "      <td>1900-01-01 12:10:00</td>\n",
       "      <td>PICKTT</td>\n",
       "      <td>223</td>\n",
       "      <td>ACC 101.LEC.2011.Spring.02</td>\n",
       "      <td>Pickett</td>\n",
       "    </tr>\n",
       "    <tr>\n",
       "      <th>2</th>\n",
       "      <td>2011</td>\n",
       "      <td>SPRING</td>\n",
       "      <td>MAIN</td>\n",
       "      <td>ACC 102</td>\n",
       "      <td>LEC</td>\n",
       "      <td>01</td>\n",
       "      <td>TTHR</td>\n",
       "      <td>1900-01-01 11:10:00</td>\n",
       "      <td>1900-01-01 12:35:00</td>\n",
       "      <td>PICKTT</td>\n",
       "      <td>223</td>\n",
       "      <td>ACC 102.LEC.2011.Spring.01</td>\n",
       "      <td>Pickett</td>\n",
       "    </tr>\n",
       "    <tr>\n",
       "      <th>3</th>\n",
       "      <td>2011</td>\n",
       "      <td>SPRING</td>\n",
       "      <td>MAIN</td>\n",
       "      <td>BIO 102</td>\n",
       "      <td>LEC</td>\n",
       "      <td>01</td>\n",
       "      <td>MWF</td>\n",
       "      <td>1900-01-01 09:05:00</td>\n",
       "      <td>1900-01-01 10:00:00</td>\n",
       "      <td>FREER</td>\n",
       "      <td>AUD</td>\n",
       "      <td>BIO 102.LEC.2011.Spring.01</td>\n",
       "      <td>Freer</td>\n",
       "    </tr>\n",
       "    <tr>\n",
       "      <th>4</th>\n",
       "      <td>2011</td>\n",
       "      <td>SPRING</td>\n",
       "      <td>MAIN</td>\n",
       "      <td>BIO 102</td>\n",
       "      <td>LAB</td>\n",
       "      <td>01</td>\n",
       "      <td>MON</td>\n",
       "      <td>1900-01-01 14:30:00</td>\n",
       "      <td>1900-01-01 17:30:00</td>\n",
       "      <td>FREER</td>\n",
       "      <td>117</td>\n",
       "      <td>BIO 102.LAB.2011.Spring.01</td>\n",
       "      <td>Freer</td>\n",
       "    </tr>\n",
       "  </tbody>\n",
       "</table>\n",
       "</div>"
      ],
      "text/plain": [
       "  ACADEMIC_YEAR ACADEMIC_TERM ACADEMIC_SESSION EVENT_ID EVENT_SUB_TYPE  \\\n",
       "0          2011        SPRING             MAIN  ACC 101            LEC   \n",
       "1          2011        SPRING             MAIN  ACC 101            LEC   \n",
       "2          2011        SPRING             MAIN  ACC 102            LEC   \n",
       "3          2011        SPRING             MAIN  BIO 102            LEC   \n",
       "4          2011        SPRING             MAIN  BIO 102            LAB   \n",
       "\n",
       "  SECTION   DAY          START_TIME            END_TIME BUILDING_CODE ROOM_ID  \\\n",
       "0      01   MWF 1900-01-01 09:05:00 1900-01-01 10:00:00        PICKTT     223   \n",
       "1      02   MWF 1900-01-01 11:15:00 1900-01-01 12:10:00        PICKTT     223   \n",
       "2      01  TTHR 1900-01-01 11:10:00 1900-01-01 12:35:00        PICKTT     223   \n",
       "3      01   MWF 1900-01-01 09:05:00 1900-01-01 10:00:00         FREER     AUD   \n",
       "4      01   MON 1900-01-01 14:30:00 1900-01-01 17:30:00         FREER     117   \n",
       "\n",
       "       section_integration_id BUILD_NAME_1  \n",
       "0  ACC 101.LEC.2011.Spring.01      Pickett  \n",
       "1  ACC 101.LEC.2011.Spring.02      Pickett  \n",
       "2  ACC 102.LEC.2011.Spring.01      Pickett  \n",
       "3  BIO 102.LEC.2011.Spring.01        Freer  \n",
       "4  BIO 102.LAB.2011.Spring.01        Freer  "
      ]
     },
     "execution_count": 13,
     "metadata": {},
     "output_type": "execute_result"
    }
   ],
   "source": [
    "df = pd.merge(df, building_codes, on=['BUILDING_CODE'], how='left')\n",
    "\n",
    "df.head()"
   ]
  },
  {
   "cell_type": "code",
   "execution_count": 14,
   "metadata": {},
   "outputs": [],
   "source": [
    "df = df.rename(columns={\n",
    "                        'BUILD_NAME_1': 'building',\n",
    "                        'ROOM_ID': 'room',\n",
    "                       })\n"
   ]
  },
  {
   "cell_type": "code",
   "execution_count": 15,
   "metadata": {},
   "outputs": [],
   "source": [
    "df['start_time'] = df.START_TIME.dt.strftime('%I:%M%p')\n",
    "df['end_time'] = df.END_TIME.dt.strftime('%I:%M%p')\n"
   ]
  },
  {
   "cell_type": "code",
   "execution_count": null,
   "metadata": {},
   "outputs": [],
   "source": [
    "df.head()"
   ]
  },
  {
   "cell_type": "code",
   "execution_count": null,
   "metadata": {},
   "outputs": [],
   "source": [
    "bldg_codes.head()"
   ]
  },
  {
   "cell_type": "code",
   "execution_count": 16,
   "metadata": {},
   "outputs": [
    {
     "name": "stdout",
     "output_type": "stream",
     "text": [
      "(29, 2)\n"
     ]
    },
    {
     "data": {
      "text/html": [
       "<div>\n",
       "<style scoped>\n",
       "    .dataframe tbody tr th:only-of-type {\n",
       "        vertical-align: middle;\n",
       "    }\n",
       "\n",
       "    .dataframe tbody tr th {\n",
       "        vertical-align: top;\n",
       "    }\n",
       "\n",
       "    .dataframe thead th {\n",
       "        text-align: right;\n",
       "    }\n",
       "</style>\n",
       "<table border=\"1\" class=\"dataframe\">\n",
       "  <thead>\n",
       "    <tr style=\"text-align: right;\">\n",
       "      <th></th>\n",
       "      <th>CODE_VALUE</th>\n",
       "      <th>DAY_SORT</th>\n",
       "    </tr>\n",
       "  </thead>\n",
       "  <tbody>\n",
       "    <tr>\n",
       "      <th>0</th>\n",
       "      <td>ALL</td>\n",
       "      <td>12345</td>\n",
       "    </tr>\n",
       "    <tr>\n",
       "      <th>1</th>\n",
       "      <td>CANC</td>\n",
       "      <td></td>\n",
       "    </tr>\n",
       "    <tr>\n",
       "      <th>2</th>\n",
       "      <td>FRI</td>\n",
       "      <td>5</td>\n",
       "    </tr>\n",
       "    <tr>\n",
       "      <th>3</th>\n",
       "      <td>MF</td>\n",
       "      <td>15</td>\n",
       "    </tr>\n",
       "    <tr>\n",
       "      <th>4</th>\n",
       "      <td>MON</td>\n",
       "      <td>1</td>\n",
       "    </tr>\n",
       "  </tbody>\n",
       "</table>\n",
       "</div>"
      ],
      "text/plain": [
       "  CODE_VALUE DAY_SORT\n",
       "0        ALL    12345\n",
       "1       CANC         \n",
       "2        FRI        5\n",
       "3         MF       15\n",
       "4        MON        1"
      ]
     },
     "execution_count": 16,
     "metadata": {},
     "output_type": "execute_result"
    }
   ],
   "source": [
    "sql_str = \"SELECT CODE_VALUE, DAY_SORT FROM CODE_DAY \"\n",
    "day_codes = pd.read_sql_query(sql_str, connection)\n",
    "\n",
    "print(day_codes.shape)\n",
    "day_codes.head()\n"
   ]
  },
  {
   "cell_type": "code",
   "execution_count": 17,
   "metadata": {
    "scrolled": true
   },
   "outputs": [
    {
     "name": "stdout",
     "output_type": "stream",
     "text": [
      "(29, 3)\n"
     ]
    },
    {
     "data": {
      "text/html": [
       "<div>\n",
       "<style scoped>\n",
       "    .dataframe tbody tr th:only-of-type {\n",
       "        vertical-align: middle;\n",
       "    }\n",
       "\n",
       "    .dataframe tbody tr th {\n",
       "        vertical-align: top;\n",
       "    }\n",
       "\n",
       "    .dataframe thead th {\n",
       "        text-align: right;\n",
       "    }\n",
       "</style>\n",
       "<table border=\"1\" class=\"dataframe\">\n",
       "  <thead>\n",
       "    <tr style=\"text-align: right;\">\n",
       "      <th></th>\n",
       "      <th>CODE_VALUE</th>\n",
       "      <th>DAY_SORT</th>\n",
       "      <th>meeting_days</th>\n",
       "    </tr>\n",
       "  </thead>\n",
       "  <tbody>\n",
       "    <tr>\n",
       "      <th>0</th>\n",
       "      <td>ALL</td>\n",
       "      <td>12345</td>\n",
       "      <td>MTWRF</td>\n",
       "    </tr>\n",
       "    <tr>\n",
       "      <th>1</th>\n",
       "      <td>CANC</td>\n",
       "      <td></td>\n",
       "      <td></td>\n",
       "    </tr>\n",
       "    <tr>\n",
       "      <th>2</th>\n",
       "      <td>FRI</td>\n",
       "      <td>5</td>\n",
       "      <td>F</td>\n",
       "    </tr>\n",
       "    <tr>\n",
       "      <th>3</th>\n",
       "      <td>MF</td>\n",
       "      <td>15</td>\n",
       "      <td>MF</td>\n",
       "    </tr>\n",
       "    <tr>\n",
       "      <th>4</th>\n",
       "      <td>MON</td>\n",
       "      <td>1</td>\n",
       "      <td>M</td>\n",
       "    </tr>\n",
       "    <tr>\n",
       "      <th>5</th>\n",
       "      <td>MTR</td>\n",
       "      <td>124</td>\n",
       "      <td>MTR</td>\n",
       "    </tr>\n",
       "    <tr>\n",
       "      <th>6</th>\n",
       "      <td>MTRF</td>\n",
       "      <td>1245</td>\n",
       "      <td>MTRF</td>\n",
       "    </tr>\n",
       "    <tr>\n",
       "      <th>7</th>\n",
       "      <td>MTU</td>\n",
       "      <td>12</td>\n",
       "      <td>MT</td>\n",
       "    </tr>\n",
       "    <tr>\n",
       "      <th>8</th>\n",
       "      <td>MTW</td>\n",
       "      <td>123</td>\n",
       "      <td>MTW</td>\n",
       "    </tr>\n",
       "    <tr>\n",
       "      <th>9</th>\n",
       "      <td>MTWF</td>\n",
       "      <td>1235</td>\n",
       "      <td>MTWF</td>\n",
       "    </tr>\n",
       "    <tr>\n",
       "      <th>10</th>\n",
       "      <td>MTWR</td>\n",
       "      <td>1234</td>\n",
       "      <td>MTWR</td>\n",
       "    </tr>\n",
       "    <tr>\n",
       "      <th>11</th>\n",
       "      <td>MW</td>\n",
       "      <td>13</td>\n",
       "      <td>MW</td>\n",
       "    </tr>\n",
       "    <tr>\n",
       "      <th>12</th>\n",
       "      <td>MWF</td>\n",
       "      <td>135</td>\n",
       "      <td>MWF</td>\n",
       "    </tr>\n",
       "    <tr>\n",
       "      <th>13</th>\n",
       "      <td>MWRF</td>\n",
       "      <td>1345</td>\n",
       "      <td>MWRF</td>\n",
       "    </tr>\n",
       "    <tr>\n",
       "      <th>14</th>\n",
       "      <td>ONLN</td>\n",
       "      <td></td>\n",
       "      <td></td>\n",
       "    </tr>\n",
       "    <tr>\n",
       "      <th>15</th>\n",
       "      <td>SAT</td>\n",
       "      <td>6</td>\n",
       "      <td>A</td>\n",
       "    </tr>\n",
       "    <tr>\n",
       "      <th>16</th>\n",
       "      <td>SUN</td>\n",
       "      <td>7</td>\n",
       "      <td>S</td>\n",
       "    </tr>\n",
       "    <tr>\n",
       "      <th>17</th>\n",
       "      <td>TBD</td>\n",
       "      <td>1234567</td>\n",
       "      <td>MTWRFAS</td>\n",
       "    </tr>\n",
       "    <tr>\n",
       "      <th>18</th>\n",
       "      <td>THUF</td>\n",
       "      <td>45</td>\n",
       "      <td>RF</td>\n",
       "    </tr>\n",
       "    <tr>\n",
       "      <th>19</th>\n",
       "      <td>THUR</td>\n",
       "      <td>4</td>\n",
       "      <td>R</td>\n",
       "    </tr>\n",
       "    <tr>\n",
       "      <th>20</th>\n",
       "      <td>TTHR</td>\n",
       "      <td>24</td>\n",
       "      <td>TR</td>\n",
       "    </tr>\n",
       "    <tr>\n",
       "      <th>21</th>\n",
       "      <td>TUE</td>\n",
       "      <td>2</td>\n",
       "      <td>T</td>\n",
       "    </tr>\n",
       "    <tr>\n",
       "      <th>22</th>\n",
       "      <td>TW</td>\n",
       "      <td>23</td>\n",
       "      <td>TW</td>\n",
       "    </tr>\n",
       "    <tr>\n",
       "      <th>23</th>\n",
       "      <td>TWT</td>\n",
       "      <td>234</td>\n",
       "      <td>TWR</td>\n",
       "    </tr>\n",
       "    <tr>\n",
       "      <th>24</th>\n",
       "      <td>TWTF</td>\n",
       "      <td>2345</td>\n",
       "      <td>TWRF</td>\n",
       "    </tr>\n",
       "    <tr>\n",
       "      <th>25</th>\n",
       "      <td>WED</td>\n",
       "      <td>3</td>\n",
       "      <td>W</td>\n",
       "    </tr>\n",
       "    <tr>\n",
       "      <th>26</th>\n",
       "      <td>WF</td>\n",
       "      <td>35</td>\n",
       "      <td>WF</td>\n",
       "    </tr>\n",
       "    <tr>\n",
       "      <th>27</th>\n",
       "      <td>WTF</td>\n",
       "      <td>345</td>\n",
       "      <td>WRF</td>\n",
       "    </tr>\n",
       "    <tr>\n",
       "      <th>28</th>\n",
       "      <td>WTHR</td>\n",
       "      <td>34</td>\n",
       "      <td>WR</td>\n",
       "    </tr>\n",
       "  </tbody>\n",
       "</table>\n",
       "</div>"
      ],
      "text/plain": [
       "   CODE_VALUE DAY_SORT meeting_days\n",
       "0         ALL    12345        MTWRF\n",
       "1        CANC                      \n",
       "2         FRI        5            F\n",
       "3          MF       15           MF\n",
       "4         MON        1            M\n",
       "5         MTR      124          MTR\n",
       "6        MTRF     1245         MTRF\n",
       "7         MTU       12           MT\n",
       "8         MTW      123          MTW\n",
       "9        MTWF     1235         MTWF\n",
       "10       MTWR     1234         MTWR\n",
       "11         MW       13           MW\n",
       "12        MWF      135          MWF\n",
       "13       MWRF     1345         MWRF\n",
       "14       ONLN                      \n",
       "15        SAT        6            A\n",
       "16        SUN        7            S\n",
       "17        TBD  1234567      MTWRFAS\n",
       "18       THUF       45           RF\n",
       "19       THUR        4            R\n",
       "20       TTHR       24           TR\n",
       "21        TUE        2            T\n",
       "22         TW       23           TW\n",
       "23        TWT      234          TWR\n",
       "24       TWTF     2345         TWRF\n",
       "25        WED        3            W\n",
       "26         WF       35           WF\n",
       "27        WTF      345          WRF\n",
       "28       WTHR       34           WR"
      ]
     },
     "execution_count": 17,
     "metadata": {},
     "output_type": "execute_result"
    }
   ],
   "source": [
    "day_func = (lambda c: (str(c['DAY_SORT']).replace('1', 'M')\n",
    "                                         .replace('2', 'T')\n",
    "                                         .replace('3', 'W')\n",
    "                                         .replace('4', 'R')\n",
    "                                         .replace('5', 'F')\n",
    "                                         .replace('6', 'A')\n",
    "                                         .replace('7', 'S')\n",
    "                      )\n",
    "           )\n",
    "day_codes.loc[:, 'meeting_days'] = day_codes.apply(day_func, axis=1)\n",
    "\n",
    "print(day_codes.shape)\n",
    "day_codes"
   ]
  },
  {
   "cell_type": "code",
   "execution_count": 18,
   "metadata": {},
   "outputs": [
    {
     "data": {
      "text/html": [
       "<div>\n",
       "<style scoped>\n",
       "    .dataframe tbody tr th:only-of-type {\n",
       "        vertical-align: middle;\n",
       "    }\n",
       "\n",
       "    .dataframe tbody tr th {\n",
       "        vertical-align: top;\n",
       "    }\n",
       "\n",
       "    .dataframe thead th {\n",
       "        text-align: right;\n",
       "    }\n",
       "</style>\n",
       "<table border=\"1\" class=\"dataframe\">\n",
       "  <thead>\n",
       "    <tr style=\"text-align: right;\">\n",
       "      <th></th>\n",
       "      <th>ACADEMIC_YEAR</th>\n",
       "      <th>ACADEMIC_TERM</th>\n",
       "      <th>ACADEMIC_SESSION</th>\n",
       "      <th>EVENT_ID</th>\n",
       "      <th>EVENT_SUB_TYPE</th>\n",
       "      <th>SECTION</th>\n",
       "      <th>DAY</th>\n",
       "      <th>START_TIME</th>\n",
       "      <th>END_TIME</th>\n",
       "      <th>BUILDING_CODE</th>\n",
       "      <th>room</th>\n",
       "      <th>section_integration_id</th>\n",
       "      <th>building</th>\n",
       "      <th>start_time</th>\n",
       "      <th>end_time</th>\n",
       "      <th>CODE_VALUE</th>\n",
       "      <th>DAY_SORT</th>\n",
       "      <th>meeting_days</th>\n",
       "    </tr>\n",
       "  </thead>\n",
       "  <tbody>\n",
       "    <tr>\n",
       "      <th>0</th>\n",
       "      <td>2011</td>\n",
       "      <td>SPRING</td>\n",
       "      <td>MAIN</td>\n",
       "      <td>ACC 101</td>\n",
       "      <td>LEC</td>\n",
       "      <td>01</td>\n",
       "      <td>MWF</td>\n",
       "      <td>1900-01-01 09:05:00</td>\n",
       "      <td>1900-01-01 10:00:00</td>\n",
       "      <td>PICKTT</td>\n",
       "      <td>223</td>\n",
       "      <td>ACC 101.LEC.2011.Spring.01</td>\n",
       "      <td>Pickett</td>\n",
       "      <td>09:05AM</td>\n",
       "      <td>10:00AM</td>\n",
       "      <td>MWF</td>\n",
       "      <td>135</td>\n",
       "      <td>MWF</td>\n",
       "    </tr>\n",
       "    <tr>\n",
       "      <th>1</th>\n",
       "      <td>2011</td>\n",
       "      <td>SPRING</td>\n",
       "      <td>MAIN</td>\n",
       "      <td>ACC 101</td>\n",
       "      <td>LEC</td>\n",
       "      <td>02</td>\n",
       "      <td>MWF</td>\n",
       "      <td>1900-01-01 11:15:00</td>\n",
       "      <td>1900-01-01 12:10:00</td>\n",
       "      <td>PICKTT</td>\n",
       "      <td>223</td>\n",
       "      <td>ACC 101.LEC.2011.Spring.02</td>\n",
       "      <td>Pickett</td>\n",
       "      <td>11:15AM</td>\n",
       "      <td>12:10PM</td>\n",
       "      <td>MWF</td>\n",
       "      <td>135</td>\n",
       "      <td>MWF</td>\n",
       "    </tr>\n",
       "    <tr>\n",
       "      <th>2</th>\n",
       "      <td>2011</td>\n",
       "      <td>SPRING</td>\n",
       "      <td>MAIN</td>\n",
       "      <td>ACC 102</td>\n",
       "      <td>LEC</td>\n",
       "      <td>01</td>\n",
       "      <td>TTHR</td>\n",
       "      <td>1900-01-01 11:10:00</td>\n",
       "      <td>1900-01-01 12:35:00</td>\n",
       "      <td>PICKTT</td>\n",
       "      <td>223</td>\n",
       "      <td>ACC 102.LEC.2011.Spring.01</td>\n",
       "      <td>Pickett</td>\n",
       "      <td>11:10AM</td>\n",
       "      <td>12:35PM</td>\n",
       "      <td>TTHR</td>\n",
       "      <td>24</td>\n",
       "      <td>TR</td>\n",
       "    </tr>\n",
       "    <tr>\n",
       "      <th>3</th>\n",
       "      <td>2011</td>\n",
       "      <td>SPRING</td>\n",
       "      <td>MAIN</td>\n",
       "      <td>BIO 102</td>\n",
       "      <td>LEC</td>\n",
       "      <td>01</td>\n",
       "      <td>MWF</td>\n",
       "      <td>1900-01-01 09:05:00</td>\n",
       "      <td>1900-01-01 10:00:00</td>\n",
       "      <td>FREER</td>\n",
       "      <td>AUD</td>\n",
       "      <td>BIO 102.LEC.2011.Spring.01</td>\n",
       "      <td>Freer</td>\n",
       "      <td>09:05AM</td>\n",
       "      <td>10:00AM</td>\n",
       "      <td>MWF</td>\n",
       "      <td>135</td>\n",
       "      <td>MWF</td>\n",
       "    </tr>\n",
       "    <tr>\n",
       "      <th>4</th>\n",
       "      <td>2011</td>\n",
       "      <td>SPRING</td>\n",
       "      <td>MAIN</td>\n",
       "      <td>BIO 102</td>\n",
       "      <td>LAB</td>\n",
       "      <td>01</td>\n",
       "      <td>MON</td>\n",
       "      <td>1900-01-01 14:30:00</td>\n",
       "      <td>1900-01-01 17:30:00</td>\n",
       "      <td>FREER</td>\n",
       "      <td>117</td>\n",
       "      <td>BIO 102.LAB.2011.Spring.01</td>\n",
       "      <td>Freer</td>\n",
       "      <td>02:30PM</td>\n",
       "      <td>05:30PM</td>\n",
       "      <td>MON</td>\n",
       "      <td>1</td>\n",
       "      <td>M</td>\n",
       "    </tr>\n",
       "  </tbody>\n",
       "</table>\n",
       "</div>"
      ],
      "text/plain": [
       "  ACADEMIC_YEAR ACADEMIC_TERM ACADEMIC_SESSION EVENT_ID EVENT_SUB_TYPE  \\\n",
       "0          2011        SPRING             MAIN  ACC 101            LEC   \n",
       "1          2011        SPRING             MAIN  ACC 101            LEC   \n",
       "2          2011        SPRING             MAIN  ACC 102            LEC   \n",
       "3          2011        SPRING             MAIN  BIO 102            LEC   \n",
       "4          2011        SPRING             MAIN  BIO 102            LAB   \n",
       "\n",
       "  SECTION   DAY          START_TIME            END_TIME BUILDING_CODE room  \\\n",
       "0      01   MWF 1900-01-01 09:05:00 1900-01-01 10:00:00        PICKTT  223   \n",
       "1      02   MWF 1900-01-01 11:15:00 1900-01-01 12:10:00        PICKTT  223   \n",
       "2      01  TTHR 1900-01-01 11:10:00 1900-01-01 12:35:00        PICKTT  223   \n",
       "3      01   MWF 1900-01-01 09:05:00 1900-01-01 10:00:00         FREER  AUD   \n",
       "4      01   MON 1900-01-01 14:30:00 1900-01-01 17:30:00         FREER  117   \n",
       "\n",
       "       section_integration_id building start_time end_time CODE_VALUE  \\\n",
       "0  ACC 101.LEC.2011.Spring.01  Pickett    09:05AM  10:00AM        MWF   \n",
       "1  ACC 101.LEC.2011.Spring.02  Pickett    11:15AM  12:10PM        MWF   \n",
       "2  ACC 102.LEC.2011.Spring.01  Pickett    11:10AM  12:35PM       TTHR   \n",
       "3  BIO 102.LEC.2011.Spring.01    Freer    09:05AM  10:00AM        MWF   \n",
       "4  BIO 102.LAB.2011.Spring.01    Freer    02:30PM  05:30PM        MON   \n",
       "\n",
       "  DAY_SORT meeting_days  \n",
       "0      135          MWF  \n",
       "1      135          MWF  \n",
       "2       24           TR  \n",
       "3      135          MWF  \n",
       "4        1            M  "
      ]
     },
     "execution_count": 18,
     "metadata": {},
     "output_type": "execute_result"
    }
   ],
   "source": [
    "df = pd.merge(df, day_codes, left_on=['DAY'], right_on=['CODE_VALUE'], how='left')\n",
    "\n",
    "df.head()"
   ]
  },
  {
   "cell_type": "code",
   "execution_count": 19,
   "metadata": {},
   "outputs": [],
   "source": [
    "df = df.loc[:, ['section_integration_id', 'meeting_days',\n",
    "                'start_time', 'end_time',\n",
    "                'building', 'room', \n",
    "               ]]\n"
   ]
  },
  {
   "cell_type": "code",
   "execution_count": 21,
   "metadata": {},
   "outputs": [],
   "source": [
    "df = (df.sort_values(['section_integration_id', \n",
    "                      'meeting_days', 'start_time'])\n",
    "        .drop_duplicates(['section_integration_id', \n",
    "                          'meeting_days', 'start_time'],\n",
    "                         keep='last')\n",
    "     )\n"
   ]
  },
  {
   "cell_type": "code",
   "execution_count": 22,
   "metadata": {},
   "outputs": [
    {
     "name": "stdout",
     "output_type": "stream",
     "text": [
      "(4804, 6)\n"
     ]
    }
   ],
   "source": [
    "print(df.shape)"
   ]
  },
  {
   "cell_type": "code",
   "execution_count": 23,
   "metadata": {},
   "outputs": [],
   "source": [
    "fn_output = f'{today_str}_section_schedules.txt'\n",
    "df.to_csv(fn_output, index=False)\n"
   ]
  },
  {
   "cell_type": "code",
   "execution_count": null,
   "metadata": {},
   "outputs": [],
   "source": []
  }
 ],
 "metadata": {
  "kernelspec": {
   "display_name": "Python 3",
   "language": "python",
   "name": "python3"
  },
  "language_info": {
   "codemirror_mode": {
    "name": "ipython",
    "version": 3
   },
   "file_extension": ".py",
   "mimetype": "text/x-python",
   "name": "python",
   "nbconvert_exporter": "python",
   "pygments_lexer": "ipython3",
   "version": "3.6.5"
  }
 },
 "nbformat": 4,
 "nbformat_minor": 2
}
