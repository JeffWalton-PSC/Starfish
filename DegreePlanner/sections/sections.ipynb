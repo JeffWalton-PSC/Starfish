{
 "cells": [
  {
   "cell_type": "code",
   "execution_count": 30,
   "metadata": {
    "collapsed": false,
    "deletable": true,
    "editable": true
   },
   "outputs": [],
   "source": [
    "import numpy as np\n",
    "import pandas as pd\n",
    "import os\n",
    "from datetime import date, datetime\n",
    "from sqlalchemy import create_engine\n"
   ]
  },
  {
   "cell_type": "code",
   "execution_count": 31,
   "metadata": {
    "collapsed": true,
    "deletable": true,
    "editable": true
   },
   "outputs": [],
   "source": [
    "# local connection information\n",
    "db_user = os.environ.get('DB_USER')\n",
    "db_pass = os.environ.get('DB_PASS')\n",
    "engine = create_engine(f'mssql+pyodbc://{db_user}:{db_pass}' +\n",
    "                       '@PSC-SQLProd/Campus6?' +\n",
    "                       'driver=ODBC+Driver+13+for+SQL+Server')\n",
    "connection = engine.connect()\n"
   ]
  },
  {
   "cell_type": "code",
   "execution_count": 32,
   "metadata": {
    "collapsed": true,
    "deletable": true,
    "editable": true
   },
   "outputs": [],
   "source": [
    "sections_begin_year = '2011'\n"
   ]
  },
  {
   "cell_type": "code",
   "execution_count": 33,
   "metadata": {
    "collapsed": true,
    "deletable": true,
    "editable": true
   },
   "outputs": [],
   "source": [
    "sql_str = \"SELECT * FROM SECTIONS WHERE \" + \\\n",
    "          \"EVENT_SUB_TYPE NOT IN ('ADV') \" + \\\n",
    "          f\"AND ACADEMIC_YEAR >= '{sections_begin_year}' \" + \\\n",
    "          \"AND ACADEMIC_TERM IN ('FALL', 'SPRING', 'SUMMER') \" + \\\n",
    "          \"AND ACADEMIC_SESSION IN ('MAIN', 'CULN', 'EXT', 'FNRR', 'HEOP',\" + \\\n",
    "          \" 'SLAB', 'BLOCK A', 'BLOCK AB', 'BLOCK B') \"\n",
    "df_sections = pd.read_sql_query(sql_str, connection)\n"
   ]
  },
  {
   "cell_type": "code",
   "execution_count": 34,
   "metadata": {
    "collapsed": false,
    "deletable": true,
    "editable": true
   },
   "outputs": [],
   "source": [
    "df = df_sections[['EVENT_ID', 'EVENT_SUB_TYPE', 'EVENT_MED_NAME',\n",
    "                   'SECTION', 'CREDITS', 'MAX_PARTICIPANT',\n",
    "                   'ACADEMIC_YEAR', 'ACADEMIC_TERM', 'ACADEMIC_SESSION',\n",
    "                   'START_DATE', 'END_DATE', 'CIP_CODE',\n",
    "                   'REVISION_DATE', 'REVISION_TIME',\n",
    "                   ]]\n"
   ]
  },
  {
   "cell_type": "markdown",
   "metadata": {
    "deletable": true,
    "editable": true
   },
   "source": [
    "print('ACADEMIC_TERM: ', df['ACADEMIC_TERM'].unique())"
   ]
  },
  {
   "cell_type": "markdown",
   "metadata": {
    "deletable": true,
    "editable": true
   },
   "source": [
    "print('ACADEMIC_SESSION: ', df['ACADEMIC_SESSION'].unique())"
   ]
  },
  {
   "cell_type": "code",
   "execution_count": null,
   "metadata": {
    "collapsed": false,
    "deletable": true,
    "editable": true
   },
   "outputs": [],
   "source": [
    "print(df.shape)\n",
    "df.head()"
   ]
  },
  {
   "cell_type": "code",
   "execution_count": 35,
   "metadata": {
    "collapsed": true,
    "deletable": true,
    "editable": true
   },
   "outputs": [],
   "source": [
    "df = df[~(df['EVENT_ID'].str.contains('REG', case=False))]\n",
    "df = df[~(df['EVENT_ID'].str.contains('STDY', case=False))]\n"
   ]
  },
  {
   "cell_type": "code",
   "execution_count": 36,
   "metadata": {
    "collapsed": false,
    "deletable": true,
    "editable": true
   },
   "outputs": [
    {
     "name": "stdout",
     "output_type": "stream",
     "text": [
      "(4855, 14)\n"
     ]
    }
   ],
   "source": [
    "print(df.shape)\n"
   ]
  },
  {
   "cell_type": "code",
   "execution_count": 37,
   "metadata": {
    "collapsed": false,
    "deletable": true,
    "editable": true
   },
   "outputs": [],
   "source": [
    "df = df.rename(columns={'EVENT_MED_NAME': 'course_section_name',\n",
    "                        'CREDITS': 'credit_hours',\n",
    "                        'MAX_PARTICIPANT': 'maximum_enrollment_count',\n",
    "                        'START_DATE': 'start_dt',\n",
    "                        'END_DATE': 'end_dt',\n",
    "                        'CIP_CODE': 'course_cip_code',\n",
    "                        })\n"
   ]
  },
  {
   "cell_type": "code",
   "execution_count": 38,
   "metadata": {
    "collapsed": true,
    "deletable": true,
    "editable": true
   },
   "outputs": [],
   "source": [
    "crs_id = (lambda c: (str(c['EVENT_ID']).replace(' ', '') +\n",
    "                     str(c['EVENT_SUB_TYPE']).lower())\n",
    "          if ((c['EVENT_SUB_TYPE'] == 'LAB') | (c['EVENT_SUB_TYPE'] == 'SI'))\n",
    "          else (str(c['EVENT_ID']).replace(' ', ''))\n",
    "          )\n",
    "df.loc[:, 'course_id'] = df.apply(crs_id, axis=1)\n"
   ]
  },
  {
   "cell_type": "code",
   "execution_count": 39,
   "metadata": {
    "collapsed": false,
    "deletable": true,
    "editable": true
   },
   "outputs": [],
   "source": [
    "df.loc[:, 'course_section_id'] = (df['EVENT_ID'] + '.' +\n",
    "                                  df['EVENT_SUB_TYPE'] + '.' +\n",
    "                                  df['ACADEMIC_YEAR'] + '.' +\n",
    "                                  df['ACADEMIC_TERM'].str.title() + '.' +\n",
    "                                  df['SECTION']\n",
    "                                  )\n",
    "df.loc[:, 'integration_id'] = df.loc[:, 'course_section_id']\n"
   ]
  },
  {
   "cell_type": "code",
   "execution_count": 40,
   "metadata": {
    "collapsed": false,
    "deletable": true,
    "editable": true
   },
   "outputs": [],
   "source": [
    "term_id = (lambda c: (c['ACADEMIC_YEAR'] + '.' +\n",
    "                      str(c['ACADEMIC_TERM']).title())\n",
    "           if (c['ACADEMIC_SESSION'] == 'MAIN')\n",
    "           else (c['ACADEMIC_YEAR'] + '.' +\n",
    "                 str(c['ACADEMIC_TERM']).title() + '.' +\n",
    "                 c['ACADEMIC_SESSION'])\n",
    "           )\n",
    "df.loc[:, 'term_id'] = df.apply(term_id, axis=1)\n"
   ]
  },
  {
   "cell_type": "code",
   "execution_count": 41,
   "metadata": {
    "collapsed": true,
    "deletable": true,
    "editable": true
   },
   "outputs": [],
   "source": [
    "df['AY'] = (pd.to_numeric(df['ACADEMIC_YEAR'], errors='coerce')\n",
    "              .fillna(sections_begin_year).astype(np.int64))\n",
    "cat_yr = (lambda c: c['AY'] if (c['ACADEMIC_TERM'] == 'FALL')\n",
    "          else (c['AY'] - 1))\n",
    "df.loc[:, 'catalog_year'] = df.apply(cat_yr, axis=1)\n"
   ]
  },
  {
   "cell_type": "code",
   "execution_count": 42,
   "metadata": {
    "collapsed": false,
    "deletable": true,
    "editable": true
   },
   "outputs": [],
   "source": [
    "crs_sect_delv = (lambda c: '03'\n",
    "                 if str(c['SECTION'])[:2] == 'HY'\n",
    "                 else ('02' if str(c['SECTION'])[:2] == 'ON'\n",
    "                       else '01')\n",
    "                 )\n",
    "df.loc[:, 'course_section_delivery'] = df.apply(crs_sect_delv, axis=1)\n"
   ]
  },
  {
   "cell_type": "code",
   "execution_count": null,
   "metadata": {
    "collapsed": false,
    "deletable": true,
    "editable": true
   },
   "outputs": [],
   "source": [
    "print(df.shape)\n",
    "df.head()"
   ]
  },
  {
   "cell_type": "code",
   "execution_count": null,
   "metadata": {
    "collapsed": false,
    "deletable": true,
    "editable": true
   },
   "outputs": [],
   "source": [
    "df[(df['SECTION'].str[:2]=='HY')]"
   ]
  },
  {
   "cell_type": "code",
   "execution_count": 43,
   "metadata": {
    "collapsed": true,
    "deletable": true,
    "editable": true
   },
   "outputs": [],
   "source": [
    "crs_integ_id = (lambda c: (c['EVENT_ID'] + '.' + str(c['catalog_year']))\n",
    "                if (c['EVENT_SUB_TYPE'] == '')\n",
    "                else (c['EVENT_ID'] + '.' + c['EVENT_SUB_TYPE'] + '.' +\n",
    "                      str(c['catalog_year'])))\n",
    "df.loc[:, 'course_integration_id'] = df.apply(crs_integ_id, axis=1)\n"
   ]
  },
  {
   "cell_type": "code",
   "execution_count": null,
   "metadata": {
    "collapsed": false,
    "deletable": true,
    "editable": true
   },
   "outputs": [],
   "source": [
    "print(df.shape)\n",
    "df.head()"
   ]
  },
  {
   "cell_type": "code",
   "execution_count": 44,
   "metadata": {
    "collapsed": false,
    "deletable": true,
    "editable": true,
    "scrolled": true
   },
   "outputs": [
    {
     "name": "stdout",
     "output_type": "stream",
     "text": [
      "(652, 8)\n"
     ]
    }
   ],
   "source": [
    "# read course_catalog.txt to find the correct catalog year\n",
    "dfcat = pd.read_csv('../course_catalog/course_catalog.txt')\n",
    "print(dfcat.shape)"
   ]
  },
  {
   "cell_type": "code",
   "execution_count": null,
   "metadata": {
    "collapsed": false,
    "deletable": true,
    "editable": true
   },
   "outputs": [],
   "source": [
    "dfcat.head()"
   ]
  },
  {
   "cell_type": "code",
   "execution_count": 45,
   "metadata": {
    "collapsed": true,
    "deletable": true,
    "editable": true
   },
   "outputs": [],
   "source": [
    "dfcat = (dfcat[['course_id', 'integration_id']]\n",
    "         .rename({'integration_id': 'cat_integ_id'}, axis='columns')\n",
    "         )"
   ]
  },
  {
   "cell_type": "code",
   "execution_count": null,
   "metadata": {
    "collapsed": false,
    "deletable": true,
    "editable": true
   },
   "outputs": [],
   "source": [
    "print(dfcat.shape)\n",
    "dfcat.head()"
   ]
  },
  {
   "cell_type": "code",
   "execution_count": 46,
   "metadata": {
    "collapsed": true,
    "deletable": true,
    "editable": true
   },
   "outputs": [],
   "source": [
    "df = pd.merge(df, dfcat, on=['course_id'], how='left')"
   ]
  },
  {
   "cell_type": "code",
   "execution_count": null,
   "metadata": {
    "collapsed": false,
    "deletable": true,
    "editable": true
   },
   "outputs": [],
   "source": [
    "print(df.shape)\n",
    "df.head()"
   ]
  },
  {
   "cell_type": "code",
   "execution_count": 47,
   "metadata": {
    "collapsed": false,
    "deletable": true,
    "editable": true
   },
   "outputs": [],
   "source": [
    "df = (df.sort_values(['integration_id', 'course_integration_id'],\n",
    "                     ascending=[True, True]))\n",
    "\n",
    "# keep catalog_year before course year\n",
    "df = df.loc[(df['course_integration_id'] >= df['cat_integ_id'])]"
   ]
  },
  {
   "cell_type": "code",
   "execution_count": null,
   "metadata": {
    "collapsed": false,
    "deletable": true,
    "editable": true,
    "scrolled": true
   },
   "outputs": [],
   "source": [
    "print(df.shape)\n",
    "df.head(40)"
   ]
  },
  {
   "cell_type": "code",
   "execution_count": null,
   "metadata": {
    "collapsed": false,
    "deletable": true,
    "editable": true,
    "scrolled": false
   },
   "outputs": [],
   "source": [
    "df = (df.sort_values(['course_section_id', 'course_integration_id'],\n",
    "                     ascending=[True, True]))\n",
    "# df[df.duplicated(['integration_id'])]\n"
   ]
  },
  {
   "cell_type": "code",
   "execution_count": null,
   "metadata": {
    "collapsed": false,
    "deletable": true,
    "editable": true,
    "scrolled": true
   },
   "outputs": [],
   "source": [
    "print(df.shape)\n",
    "df.head(40)"
   ]
  },
  {
   "cell_type": "code",
   "execution_count": null,
   "metadata": {
    "collapsed": false,
    "deletable": true,
    "editable": true
   },
   "outputs": [],
   "source": [
    "df[df.duplicated(['integration_id'])]"
   ]
  },
  {
   "cell_type": "code",
   "execution_count": 48,
   "metadata": {
    "collapsed": false,
    "deletable": true,
    "editable": true,
    "scrolled": true
   },
   "outputs": [
    {
     "name": "stdout",
     "output_type": "stream",
     "text": [
      "(4915, 23)\n",
      "(4414, 23)\n"
     ]
    }
   ],
   "source": [
    "print(df.shape)\n",
    "df = (df.sort_values(['course_section_id', 'course_integration_id'],\n",
    "                     ascending=[True, True])\n",
    "      .drop_duplicates(['course_section_id'], keep='last')\n",
    "      )\n",
    "print(df.shape)"
   ]
  },
  {
   "cell_type": "code",
   "execution_count": null,
   "metadata": {
    "collapsed": false,
    "deletable": true,
    "editable": true,
    "scrolled": true
   },
   "outputs": [],
   "source": [
    "print(df.shape)\n",
    "df.head(40)"
   ]
  },
  {
   "cell_type": "code",
   "execution_count": 49,
   "metadata": {
    "collapsed": true,
    "deletable": true,
    "editable": true
   },
   "outputs": [],
   "source": [
    "df.loc[:, 'course_integration_id'] = df.loc[:, 'cat_integ_id']"
   ]
  },
  {
   "cell_type": "code",
   "execution_count": null,
   "metadata": {
    "collapsed": false,
    "deletable": true,
    "editable": true,
    "scrolled": true
   },
   "outputs": [],
   "source": [
    "print(df.shape)\n",
    "df.head(40)"
   ]
  },
  {
   "cell_type": "code",
   "execution_count": 50,
   "metadata": {
    "collapsed": true
   },
   "outputs": [],
   "source": [
    "# save for teaching.txt below \n",
    "dfs = df.copy()"
   ]
  },
  {
   "cell_type": "code",
   "execution_count": 51,
   "metadata": {
    "collapsed": false
   },
   "outputs": [
    {
     "data": {
      "text/html": [
       "<div>\n",
       "<style scoped>\n",
       "    .dataframe tbody tr th:only-of-type {\n",
       "        vertical-align: middle;\n",
       "    }\n",
       "\n",
       "    .dataframe tbody tr th {\n",
       "        vertical-align: top;\n",
       "    }\n",
       "\n",
       "    .dataframe thead th {\n",
       "        text-align: right;\n",
       "    }\n",
       "</style>\n",
       "<table border=\"1\" class=\"dataframe\">\n",
       "  <thead>\n",
       "    <tr style=\"text-align: right;\">\n",
       "      <th></th>\n",
       "      <th>EVENT_ID</th>\n",
       "      <th>EVENT_SUB_TYPE</th>\n",
       "      <th>course_section_name</th>\n",
       "      <th>SECTION</th>\n",
       "      <th>credit_hours</th>\n",
       "      <th>maximum_enrollment_count</th>\n",
       "      <th>ACADEMIC_YEAR</th>\n",
       "      <th>ACADEMIC_TERM</th>\n",
       "      <th>ACADEMIC_SESSION</th>\n",
       "      <th>start_dt</th>\n",
       "      <th>...</th>\n",
       "      <th>REVISION_TIME</th>\n",
       "      <th>course_id</th>\n",
       "      <th>course_section_id</th>\n",
       "      <th>integration_id</th>\n",
       "      <th>term_id</th>\n",
       "      <th>AY</th>\n",
       "      <th>catalog_year</th>\n",
       "      <th>course_section_delivery</th>\n",
       "      <th>course_integration_id</th>\n",
       "      <th>cat_integ_id</th>\n",
       "    </tr>\n",
       "  </thead>\n",
       "  <tbody>\n",
       "    <tr>\n",
       "      <th>0</th>\n",
       "      <td>ACC 101</td>\n",
       "      <td>LEC</td>\n",
       "      <td>Financial Accounting</td>\n",
       "      <td>01</td>\n",
       "      <td>3.0</td>\n",
       "      <td>35</td>\n",
       "      <td>2011</td>\n",
       "      <td>FALL</td>\n",
       "      <td>MAIN</td>\n",
       "      <td>2011-08-31</td>\n",
       "      <td>...</td>\n",
       "      <td>1900-01-01 12:26:41.477</td>\n",
       "      <td>ACC101</td>\n",
       "      <td>ACC 101.LEC.2011.Fall.01</td>\n",
       "      <td>ACC 101.LEC.2011.Fall.01</td>\n",
       "      <td>2011.Fall</td>\n",
       "      <td>2011</td>\n",
       "      <td>2011</td>\n",
       "      <td>01</td>\n",
       "      <td>ACC 101.LEC.2010</td>\n",
       "      <td>ACC 101.LEC.2010</td>\n",
       "    </tr>\n",
       "    <tr>\n",
       "      <th>1</th>\n",
       "      <td>ACC 101</td>\n",
       "      <td>LEC</td>\n",
       "      <td>Financial Accounting</td>\n",
       "      <td>02</td>\n",
       "      <td>3.0</td>\n",
       "      <td>36</td>\n",
       "      <td>2011</td>\n",
       "      <td>FALL</td>\n",
       "      <td>MAIN</td>\n",
       "      <td>2011-08-31</td>\n",
       "      <td>...</td>\n",
       "      <td>1900-01-01 13:59:40.743</td>\n",
       "      <td>ACC101</td>\n",
       "      <td>ACC 101.LEC.2011.Fall.02</td>\n",
       "      <td>ACC 101.LEC.2011.Fall.02</td>\n",
       "      <td>2011.Fall</td>\n",
       "      <td>2011</td>\n",
       "      <td>2011</td>\n",
       "      <td>01</td>\n",
       "      <td>ACC 101.LEC.2010</td>\n",
       "      <td>ACC 101.LEC.2010</td>\n",
       "    </tr>\n",
       "    <tr>\n",
       "      <th>2</th>\n",
       "      <td>ACC 101</td>\n",
       "      <td>LEC</td>\n",
       "      <td>Financial Accounting</td>\n",
       "      <td>03</td>\n",
       "      <td>3.0</td>\n",
       "      <td>30</td>\n",
       "      <td>2011</td>\n",
       "      <td>FALL</td>\n",
       "      <td>MAIN</td>\n",
       "      <td>2011-08-31</td>\n",
       "      <td>...</td>\n",
       "      <td>1900-01-01 17:22:31.393</td>\n",
       "      <td>ACC101</td>\n",
       "      <td>ACC 101.LEC.2011.Fall.03</td>\n",
       "      <td>ACC 101.LEC.2011.Fall.03</td>\n",
       "      <td>2011.Fall</td>\n",
       "      <td>2011</td>\n",
       "      <td>2011</td>\n",
       "      <td>01</td>\n",
       "      <td>ACC 101.LEC.2010</td>\n",
       "      <td>ACC 101.LEC.2010</td>\n",
       "    </tr>\n",
       "    <tr>\n",
       "      <th>414</th>\n",
       "      <td>ACC 101</td>\n",
       "      <td>LEC</td>\n",
       "      <td>Financial Accounting</td>\n",
       "      <td>01</td>\n",
       "      <td>3.0</td>\n",
       "      <td>37</td>\n",
       "      <td>2011</td>\n",
       "      <td>SPRING</td>\n",
       "      <td>MAIN</td>\n",
       "      <td>2011-01-24</td>\n",
       "      <td>...</td>\n",
       "      <td>1900-01-01 16:19:39.223</td>\n",
       "      <td>ACC101</td>\n",
       "      <td>ACC 101.LEC.2011.Spring.01</td>\n",
       "      <td>ACC 101.LEC.2011.Spring.01</td>\n",
       "      <td>2011.Spring</td>\n",
       "      <td>2011</td>\n",
       "      <td>2010</td>\n",
       "      <td>01</td>\n",
       "      <td>ACC 101.LEC.2010</td>\n",
       "      <td>ACC 101.LEC.2010</td>\n",
       "    </tr>\n",
       "    <tr>\n",
       "      <th>415</th>\n",
       "      <td>ACC 101</td>\n",
       "      <td>LEC</td>\n",
       "      <td>Financial Accounting</td>\n",
       "      <td>02</td>\n",
       "      <td>3.0</td>\n",
       "      <td>40</td>\n",
       "      <td>2011</td>\n",
       "      <td>SPRING</td>\n",
       "      <td>MAIN</td>\n",
       "      <td>2011-01-24</td>\n",
       "      <td>...</td>\n",
       "      <td>1900-01-01 11:55:12.630</td>\n",
       "      <td>ACC101</td>\n",
       "      <td>ACC 101.LEC.2011.Spring.02</td>\n",
       "      <td>ACC 101.LEC.2011.Spring.02</td>\n",
       "      <td>2011.Spring</td>\n",
       "      <td>2011</td>\n",
       "      <td>2010</td>\n",
       "      <td>01</td>\n",
       "      <td>ACC 101.LEC.2010</td>\n",
       "      <td>ACC 101.LEC.2010</td>\n",
       "    </tr>\n",
       "  </tbody>\n",
       "</table>\n",
       "<p>5 rows × 23 columns</p>\n",
       "</div>"
      ],
      "text/plain": [
       "    EVENT_ID EVENT_SUB_TYPE   course_section_name SECTION  credit_hours  \\\n",
       "0    ACC 101            LEC  Financial Accounting      01           3.0   \n",
       "1    ACC 101            LEC  Financial Accounting      02           3.0   \n",
       "2    ACC 101            LEC  Financial Accounting      03           3.0   \n",
       "414  ACC 101            LEC  Financial Accounting      01           3.0   \n",
       "415  ACC 101            LEC  Financial Accounting      02           3.0   \n",
       "\n",
       "     maximum_enrollment_count ACADEMIC_YEAR ACADEMIC_TERM ACADEMIC_SESSION  \\\n",
       "0                          35          2011          FALL             MAIN   \n",
       "1                          36          2011          FALL             MAIN   \n",
       "2                          30          2011          FALL             MAIN   \n",
       "414                        37          2011        SPRING             MAIN   \n",
       "415                        40          2011        SPRING             MAIN   \n",
       "\n",
       "      start_dt        ...                  REVISION_TIME course_id  \\\n",
       "0   2011-08-31        ...        1900-01-01 12:26:41.477    ACC101   \n",
       "1   2011-08-31        ...        1900-01-01 13:59:40.743    ACC101   \n",
       "2   2011-08-31        ...        1900-01-01 17:22:31.393    ACC101   \n",
       "414 2011-01-24        ...        1900-01-01 16:19:39.223    ACC101   \n",
       "415 2011-01-24        ...        1900-01-01 11:55:12.630    ACC101   \n",
       "\n",
       "              course_section_id              integration_id      term_id  \\\n",
       "0      ACC 101.LEC.2011.Fall.01    ACC 101.LEC.2011.Fall.01    2011.Fall   \n",
       "1      ACC 101.LEC.2011.Fall.02    ACC 101.LEC.2011.Fall.02    2011.Fall   \n",
       "2      ACC 101.LEC.2011.Fall.03    ACC 101.LEC.2011.Fall.03    2011.Fall   \n",
       "414  ACC 101.LEC.2011.Spring.01  ACC 101.LEC.2011.Spring.01  2011.Spring   \n",
       "415  ACC 101.LEC.2011.Spring.02  ACC 101.LEC.2011.Spring.02  2011.Spring   \n",
       "\n",
       "       AY catalog_year course_section_delivery  course_integration_id  \\\n",
       "0    2011         2011                      01       ACC 101.LEC.2010   \n",
       "1    2011         2011                      01       ACC 101.LEC.2010   \n",
       "2    2011         2011                      01       ACC 101.LEC.2010   \n",
       "414  2011         2010                      01       ACC 101.LEC.2010   \n",
       "415  2011         2010                      01       ACC 101.LEC.2010   \n",
       "\n",
       "         cat_integ_id  \n",
       "0    ACC 101.LEC.2010  \n",
       "1    ACC 101.LEC.2010  \n",
       "2    ACC 101.LEC.2010  \n",
       "414  ACC 101.LEC.2010  \n",
       "415  ACC 101.LEC.2010  \n",
       "\n",
       "[5 rows x 23 columns]"
      ]
     },
     "execution_count": 51,
     "metadata": {},
     "output_type": "execute_result"
    }
   ],
   "source": [
    "dfs.head()"
   ]
  },
  {
   "cell_type": "code",
   "execution_count": 52,
   "metadata": {
    "collapsed": false,
    "deletable": true,
    "editable": true,
    "scrolled": true
   },
   "outputs": [],
   "source": [
    "df = df.loc[:, ['integration_id', 'course_section_name', 'course_section_id',\n",
    "            'start_dt', 'end_dt', 'term_id', 'course_integration_id',\n",
    "            'course_section_delivery', 'maximum_enrollment_count',\n",
    "            'credit_hours',\n",
    "            ]]\n",
    "\n",
    "df = df.sort_values(['integration_id'])\n"
   ]
  },
  {
   "cell_type": "code",
   "execution_count": null,
   "metadata": {
    "collapsed": false,
    "deletable": true,
    "editable": true
   },
   "outputs": [],
   "source": [
    "print(df.shape)\n",
    "df.head()"
   ]
  },
  {
   "cell_type": "code",
   "execution_count": 22,
   "metadata": {
    "collapsed": true,
    "deletable": true,
    "editable": true
   },
   "outputs": [],
   "source": [
    "today = datetime.now().strftime('%Y%m%d')\n",
    "fn_output = f'{today}_sections.txt'\n",
    "df.to_csv(fn_output, index=False)\n"
   ]
  },
  {
   "cell_type": "code",
   "execution_count": null,
   "metadata": {
    "collapsed": true
   },
   "outputs": [],
   "source": []
  },
  {
   "cell_type": "markdown",
   "metadata": {
    "collapsed": true,
    "deletable": true,
    "editable": true
   },
   "source": [
    "## teaching.txt"
   ]
  },
  {
   "cell_type": "code",
   "execution_count": 53,
   "metadata": {
    "collapsed": true
   },
   "outputs": [],
   "source": [
    "sql_str = \"SELECT * FROM SECTIONPER WHERE \" + \\\n",
    "          \"EVENT_SUB_TYPE NOT IN ('ADV') \" + \\\n",
    "          f\"AND ACADEMIC_YEAR >= '{sections_begin_year}' \" + \\\n",
    "          \"AND ACADEMIC_TERM IN ('FALL', 'SPRING', 'SUMMER') \" + \\\n",
    "          \"AND ACADEMIC_SESSION IN ('MAIN', 'CULN', 'EXT', 'FNRR', 'HEOP',\" + \\\n",
    "          \" 'SLAB', 'BLOCK A', 'BLOCK AB', 'BLOCK B') \"\n",
    "df_sectionper = pd.read_sql_query(sql_str, connection)\n"
   ]
  },
  {
   "cell_type": "code",
   "execution_count": 54,
   "metadata": {
    "collapsed": true
   },
   "outputs": [],
   "source": [
    "df_sectionper = df_sectionper[['ACADEMIC_YEAR', 'ACADEMIC_TERM', 'ACADEMIC_SESSION',\n",
    "                               'EVENT_ID', 'EVENT_SUB_TYPE', 'SECTION',\n",
    "                               'PERSON_CODE_ID',\n",
    "                               ]]"
   ]
  },
  {
   "cell_type": "code",
   "execution_count": 56,
   "metadata": {
    "collapsed": false
   },
   "outputs": [
    {
     "name": "stdout",
     "output_type": "stream",
     "text": [
      "(4938, 7)\n",
      "(4414, 23)\n"
     ]
    }
   ],
   "source": [
    "print(df_sectionper.shape)\n",
    "print(dfs.shape)"
   ]
  },
  {
   "cell_type": "code",
   "execution_count": 57,
   "metadata": {
    "collapsed": false
   },
   "outputs": [],
   "source": [
    "dft = pd.merge(dfs, df_sectionper,\n",
    "               on=['ACADEMIC_YEAR', 'ACADEMIC_TERM', 'ACADEMIC_SESSION',\n",
    "                   'EVENT_ID', 'EVENT_SUB_TYPE', 'SECTION'],\n",
    "               how='left')\n"
   ]
  },
  {
   "cell_type": "code",
   "execution_count": 58,
   "metadata": {
    "collapsed": false
   },
   "outputs": [
    {
     "name": "stdout",
     "output_type": "stream",
     "text": [
      "(4619, 24)\n"
     ]
    },
    {
     "data": {
      "text/html": [
       "<div>\n",
       "<style scoped>\n",
       "    .dataframe tbody tr th:only-of-type {\n",
       "        vertical-align: middle;\n",
       "    }\n",
       "\n",
       "    .dataframe tbody tr th {\n",
       "        vertical-align: top;\n",
       "    }\n",
       "\n",
       "    .dataframe thead th {\n",
       "        text-align: right;\n",
       "    }\n",
       "</style>\n",
       "<table border=\"1\" class=\"dataframe\">\n",
       "  <thead>\n",
       "    <tr style=\"text-align: right;\">\n",
       "      <th></th>\n",
       "      <th>EVENT_ID</th>\n",
       "      <th>EVENT_SUB_TYPE</th>\n",
       "      <th>course_section_name</th>\n",
       "      <th>SECTION</th>\n",
       "      <th>credit_hours</th>\n",
       "      <th>maximum_enrollment_count</th>\n",
       "      <th>ACADEMIC_YEAR</th>\n",
       "      <th>ACADEMIC_TERM</th>\n",
       "      <th>ACADEMIC_SESSION</th>\n",
       "      <th>start_dt</th>\n",
       "      <th>...</th>\n",
       "      <th>course_id</th>\n",
       "      <th>course_section_id</th>\n",
       "      <th>integration_id</th>\n",
       "      <th>term_id</th>\n",
       "      <th>AY</th>\n",
       "      <th>catalog_year</th>\n",
       "      <th>course_section_delivery</th>\n",
       "      <th>course_integration_id</th>\n",
       "      <th>cat_integ_id</th>\n",
       "      <th>PERSON_CODE_ID</th>\n",
       "    </tr>\n",
       "  </thead>\n",
       "  <tbody>\n",
       "    <tr>\n",
       "      <th>0</th>\n",
       "      <td>ACC 101</td>\n",
       "      <td>LEC</td>\n",
       "      <td>Financial Accounting</td>\n",
       "      <td>01</td>\n",
       "      <td>3.0</td>\n",
       "      <td>35</td>\n",
       "      <td>2011</td>\n",
       "      <td>FALL</td>\n",
       "      <td>MAIN</td>\n",
       "      <td>2011-08-31</td>\n",
       "      <td>...</td>\n",
       "      <td>ACC101</td>\n",
       "      <td>ACC 101.LEC.2011.Fall.01</td>\n",
       "      <td>ACC 101.LEC.2011.Fall.01</td>\n",
       "      <td>2011.Fall</td>\n",
       "      <td>2011</td>\n",
       "      <td>2011</td>\n",
       "      <td>01</td>\n",
       "      <td>ACC 101.LEC.2010</td>\n",
       "      <td>ACC 101.LEC.2010</td>\n",
       "      <td>P000000065</td>\n",
       "    </tr>\n",
       "    <tr>\n",
       "      <th>1</th>\n",
       "      <td>ACC 101</td>\n",
       "      <td>LEC</td>\n",
       "      <td>Financial Accounting</td>\n",
       "      <td>02</td>\n",
       "      <td>3.0</td>\n",
       "      <td>36</td>\n",
       "      <td>2011</td>\n",
       "      <td>FALL</td>\n",
       "      <td>MAIN</td>\n",
       "      <td>2011-08-31</td>\n",
       "      <td>...</td>\n",
       "      <td>ACC101</td>\n",
       "      <td>ACC 101.LEC.2011.Fall.02</td>\n",
       "      <td>ACC 101.LEC.2011.Fall.02</td>\n",
       "      <td>2011.Fall</td>\n",
       "      <td>2011</td>\n",
       "      <td>2011</td>\n",
       "      <td>01</td>\n",
       "      <td>ACC 101.LEC.2010</td>\n",
       "      <td>ACC 101.LEC.2010</td>\n",
       "      <td>P000000065</td>\n",
       "    </tr>\n",
       "    <tr>\n",
       "      <th>2</th>\n",
       "      <td>ACC 101</td>\n",
       "      <td>LEC</td>\n",
       "      <td>Financial Accounting</td>\n",
       "      <td>03</td>\n",
       "      <td>3.0</td>\n",
       "      <td>30</td>\n",
       "      <td>2011</td>\n",
       "      <td>FALL</td>\n",
       "      <td>MAIN</td>\n",
       "      <td>2011-08-31</td>\n",
       "      <td>...</td>\n",
       "      <td>ACC101</td>\n",
       "      <td>ACC 101.LEC.2011.Fall.03</td>\n",
       "      <td>ACC 101.LEC.2011.Fall.03</td>\n",
       "      <td>2011.Fall</td>\n",
       "      <td>2011</td>\n",
       "      <td>2011</td>\n",
       "      <td>01</td>\n",
       "      <td>ACC 101.LEC.2010</td>\n",
       "      <td>ACC 101.LEC.2010</td>\n",
       "      <td>P000000065</td>\n",
       "    </tr>\n",
       "    <tr>\n",
       "      <th>3</th>\n",
       "      <td>ACC 101</td>\n",
       "      <td>LEC</td>\n",
       "      <td>Financial Accounting</td>\n",
       "      <td>01</td>\n",
       "      <td>3.0</td>\n",
       "      <td>37</td>\n",
       "      <td>2011</td>\n",
       "      <td>SPRING</td>\n",
       "      <td>MAIN</td>\n",
       "      <td>2011-01-24</td>\n",
       "      <td>...</td>\n",
       "      <td>ACC101</td>\n",
       "      <td>ACC 101.LEC.2011.Spring.01</td>\n",
       "      <td>ACC 101.LEC.2011.Spring.01</td>\n",
       "      <td>2011.Spring</td>\n",
       "      <td>2011</td>\n",
       "      <td>2010</td>\n",
       "      <td>01</td>\n",
       "      <td>ACC 101.LEC.2010</td>\n",
       "      <td>ACC 101.LEC.2010</td>\n",
       "      <td>P000000065</td>\n",
       "    </tr>\n",
       "    <tr>\n",
       "      <th>4</th>\n",
       "      <td>ACC 101</td>\n",
       "      <td>LEC</td>\n",
       "      <td>Financial Accounting</td>\n",
       "      <td>02</td>\n",
       "      <td>3.0</td>\n",
       "      <td>40</td>\n",
       "      <td>2011</td>\n",
       "      <td>SPRING</td>\n",
       "      <td>MAIN</td>\n",
       "      <td>2011-01-24</td>\n",
       "      <td>...</td>\n",
       "      <td>ACC101</td>\n",
       "      <td>ACC 101.LEC.2011.Spring.02</td>\n",
       "      <td>ACC 101.LEC.2011.Spring.02</td>\n",
       "      <td>2011.Spring</td>\n",
       "      <td>2011</td>\n",
       "      <td>2010</td>\n",
       "      <td>01</td>\n",
       "      <td>ACC 101.LEC.2010</td>\n",
       "      <td>ACC 101.LEC.2010</td>\n",
       "      <td>P000000065</td>\n",
       "    </tr>\n",
       "  </tbody>\n",
       "</table>\n",
       "<p>5 rows × 24 columns</p>\n",
       "</div>"
      ],
      "text/plain": [
       "  EVENT_ID EVENT_SUB_TYPE   course_section_name SECTION  credit_hours  \\\n",
       "0  ACC 101            LEC  Financial Accounting      01           3.0   \n",
       "1  ACC 101            LEC  Financial Accounting      02           3.0   \n",
       "2  ACC 101            LEC  Financial Accounting      03           3.0   \n",
       "3  ACC 101            LEC  Financial Accounting      01           3.0   \n",
       "4  ACC 101            LEC  Financial Accounting      02           3.0   \n",
       "\n",
       "   maximum_enrollment_count ACADEMIC_YEAR ACADEMIC_TERM ACADEMIC_SESSION  \\\n",
       "0                        35          2011          FALL             MAIN   \n",
       "1                        36          2011          FALL             MAIN   \n",
       "2                        30          2011          FALL             MAIN   \n",
       "3                        37          2011        SPRING             MAIN   \n",
       "4                        40          2011        SPRING             MAIN   \n",
       "\n",
       "    start_dt       ...       course_id           course_section_id  \\\n",
       "0 2011-08-31       ...          ACC101    ACC 101.LEC.2011.Fall.01   \n",
       "1 2011-08-31       ...          ACC101    ACC 101.LEC.2011.Fall.02   \n",
       "2 2011-08-31       ...          ACC101    ACC 101.LEC.2011.Fall.03   \n",
       "3 2011-01-24       ...          ACC101  ACC 101.LEC.2011.Spring.01   \n",
       "4 2011-01-24       ...          ACC101  ACC 101.LEC.2011.Spring.02   \n",
       "\n",
       "               integration_id      term_id    AY catalog_year  \\\n",
       "0    ACC 101.LEC.2011.Fall.01    2011.Fall  2011         2011   \n",
       "1    ACC 101.LEC.2011.Fall.02    2011.Fall  2011         2011   \n",
       "2    ACC 101.LEC.2011.Fall.03    2011.Fall  2011         2011   \n",
       "3  ACC 101.LEC.2011.Spring.01  2011.Spring  2011         2010   \n",
       "4  ACC 101.LEC.2011.Spring.02  2011.Spring  2011         2010   \n",
       "\n",
       "  course_section_delivery course_integration_id      cat_integ_id  \\\n",
       "0                      01      ACC 101.LEC.2010  ACC 101.LEC.2010   \n",
       "1                      01      ACC 101.LEC.2010  ACC 101.LEC.2010   \n",
       "2                      01      ACC 101.LEC.2010  ACC 101.LEC.2010   \n",
       "3                      01      ACC 101.LEC.2010  ACC 101.LEC.2010   \n",
       "4                      01      ACC 101.LEC.2010  ACC 101.LEC.2010   \n",
       "\n",
       "   PERSON_CODE_ID  \n",
       "0      P000000065  \n",
       "1      P000000065  \n",
       "2      P000000065  \n",
       "3      P000000065  \n",
       "4      P000000065  \n",
       "\n",
       "[5 rows x 24 columns]"
      ]
     },
     "execution_count": 58,
     "metadata": {},
     "output_type": "execute_result"
    }
   ],
   "source": [
    "print(dft.shape)\n",
    "dft.head()\n"
   ]
  },
  {
   "cell_type": "code",
   "execution_count": 60,
   "metadata": {
    "collapsed": false
   },
   "outputs": [],
   "source": [
    "dft = (dft[['course_section_id', 'PERSON_CODE_ID']]\n",
    "       .rename({'course_section_id': 'course_section_integration_id',\n",
    "                'PERSON_CODE_ID': 'user_integration_id',\n",
    "                },\n",
    "               axis='columns')\n",
    "       )\n"
   ]
  },
  {
   "cell_type": "code",
   "execution_count": 61,
   "metadata": {
    "collapsed": false
   },
   "outputs": [
    {
     "name": "stdout",
     "output_type": "stream",
     "text": [
      "(4619, 2)\n"
     ]
    },
    {
     "data": {
      "text/html": [
       "<div>\n",
       "<style scoped>\n",
       "    .dataframe tbody tr th:only-of-type {\n",
       "        vertical-align: middle;\n",
       "    }\n",
       "\n",
       "    .dataframe tbody tr th {\n",
       "        vertical-align: top;\n",
       "    }\n",
       "\n",
       "    .dataframe thead th {\n",
       "        text-align: right;\n",
       "    }\n",
       "</style>\n",
       "<table border=\"1\" class=\"dataframe\">\n",
       "  <thead>\n",
       "    <tr style=\"text-align: right;\">\n",
       "      <th></th>\n",
       "      <th>course_section_integration_id</th>\n",
       "      <th>user_integration_id</th>\n",
       "    </tr>\n",
       "  </thead>\n",
       "  <tbody>\n",
       "    <tr>\n",
       "      <th>0</th>\n",
       "      <td>ACC 101.LEC.2011.Fall.01</td>\n",
       "      <td>P000000065</td>\n",
       "    </tr>\n",
       "    <tr>\n",
       "      <th>1</th>\n",
       "      <td>ACC 101.LEC.2011.Fall.02</td>\n",
       "      <td>P000000065</td>\n",
       "    </tr>\n",
       "    <tr>\n",
       "      <th>2</th>\n",
       "      <td>ACC 101.LEC.2011.Fall.03</td>\n",
       "      <td>P000000065</td>\n",
       "    </tr>\n",
       "    <tr>\n",
       "      <th>3</th>\n",
       "      <td>ACC 101.LEC.2011.Spring.01</td>\n",
       "      <td>P000000065</td>\n",
       "    </tr>\n",
       "    <tr>\n",
       "      <th>4</th>\n",
       "      <td>ACC 101.LEC.2011.Spring.02</td>\n",
       "      <td>P000000065</td>\n",
       "    </tr>\n",
       "  </tbody>\n",
       "</table>\n",
       "</div>"
      ],
      "text/plain": [
       "  course_section_integration_id user_integration_id\n",
       "0      ACC 101.LEC.2011.Fall.01          P000000065\n",
       "1      ACC 101.LEC.2011.Fall.02          P000000065\n",
       "2      ACC 101.LEC.2011.Fall.03          P000000065\n",
       "3    ACC 101.LEC.2011.Spring.01          P000000065\n",
       "4    ACC 101.LEC.2011.Spring.02          P000000065"
      ]
     },
     "execution_count": 61,
     "metadata": {},
     "output_type": "execute_result"
    }
   ],
   "source": [
    "print(dft.shape)\n",
    "dft.head()\n"
   ]
  },
  {
   "cell_type": "code",
   "execution_count": 64,
   "metadata": {
    "collapsed": true
   },
   "outputs": [],
   "source": [
    "dft.loc[:, 'user_role'] = 'INSTRUCTOR'\n",
    "dft.loc[:, 'available_ind'] = '1'"
   ]
  },
  {
   "cell_type": "code",
   "execution_count": 65,
   "metadata": {
    "collapsed": false
   },
   "outputs": [
    {
     "name": "stdout",
     "output_type": "stream",
     "text": [
      "(4619, 4)\n"
     ]
    },
    {
     "data": {
      "text/html": [
       "<div>\n",
       "<style scoped>\n",
       "    .dataframe tbody tr th:only-of-type {\n",
       "        vertical-align: middle;\n",
       "    }\n",
       "\n",
       "    .dataframe tbody tr th {\n",
       "        vertical-align: top;\n",
       "    }\n",
       "\n",
       "    .dataframe thead th {\n",
       "        text-align: right;\n",
       "    }\n",
       "</style>\n",
       "<table border=\"1\" class=\"dataframe\">\n",
       "  <thead>\n",
       "    <tr style=\"text-align: right;\">\n",
       "      <th></th>\n",
       "      <th>course_section_integration_id</th>\n",
       "      <th>user_integration_id</th>\n",
       "      <th>user_role</th>\n",
       "      <th>available_ind</th>\n",
       "    </tr>\n",
       "  </thead>\n",
       "  <tbody>\n",
       "    <tr>\n",
       "      <th>0</th>\n",
       "      <td>ACC 101.LEC.2011.Fall.01</td>\n",
       "      <td>P000000065</td>\n",
       "      <td>INSTRUCTOR</td>\n",
       "      <td>1</td>\n",
       "    </tr>\n",
       "    <tr>\n",
       "      <th>1</th>\n",
       "      <td>ACC 101.LEC.2011.Fall.02</td>\n",
       "      <td>P000000065</td>\n",
       "      <td>INSTRUCTOR</td>\n",
       "      <td>1</td>\n",
       "    </tr>\n",
       "    <tr>\n",
       "      <th>2</th>\n",
       "      <td>ACC 101.LEC.2011.Fall.03</td>\n",
       "      <td>P000000065</td>\n",
       "      <td>INSTRUCTOR</td>\n",
       "      <td>1</td>\n",
       "    </tr>\n",
       "    <tr>\n",
       "      <th>3</th>\n",
       "      <td>ACC 101.LEC.2011.Spring.01</td>\n",
       "      <td>P000000065</td>\n",
       "      <td>INSTRUCTOR</td>\n",
       "      <td>1</td>\n",
       "    </tr>\n",
       "    <tr>\n",
       "      <th>4</th>\n",
       "      <td>ACC 101.LEC.2011.Spring.02</td>\n",
       "      <td>P000000065</td>\n",
       "      <td>INSTRUCTOR</td>\n",
       "      <td>1</td>\n",
       "    </tr>\n",
       "  </tbody>\n",
       "</table>\n",
       "</div>"
      ],
      "text/plain": [
       "  course_section_integration_id user_integration_id   user_role available_ind\n",
       "0      ACC 101.LEC.2011.Fall.01          P000000065  INSTRUCTOR             1\n",
       "1      ACC 101.LEC.2011.Fall.02          P000000065  INSTRUCTOR             1\n",
       "2      ACC 101.LEC.2011.Fall.03          P000000065  INSTRUCTOR             1\n",
       "3    ACC 101.LEC.2011.Spring.01          P000000065  INSTRUCTOR             1\n",
       "4    ACC 101.LEC.2011.Spring.02          P000000065  INSTRUCTOR             1"
      ]
     },
     "execution_count": 65,
     "metadata": {},
     "output_type": "execute_result"
    }
   ],
   "source": [
    "print(dft.shape)\n",
    "dft.head()\n"
   ]
  },
  {
   "cell_type": "code",
   "execution_count": 66,
   "metadata": {
    "collapsed": true
   },
   "outputs": [],
   "source": [
    "dft = dft.sort_values(['course_section_integration_id',\n",
    "                       'user_integration_id'])\n"
   ]
  },
  {
   "cell_type": "code",
   "execution_count": 67,
   "metadata": {
    "collapsed": true
   },
   "outputs": [],
   "source": [
    "today = datetime.now().strftime('%Y%m%d')\n",
    "fn_output = f'{today}_teaching.txt'\n",
    "dft.to_csv(fn_output, index=False)\n"
   ]
  },
  {
   "cell_type": "code",
   "execution_count": null,
   "metadata": {
    "collapsed": true
   },
   "outputs": [],
   "source": []
  }
 ],
 "metadata": {
  "kernelspec": {
   "display_name": "Python 3",
   "language": "python",
   "name": "python3"
  },
  "language_info": {
   "codemirror_mode": {
    "name": "ipython",
    "version": 3
   },
   "file_extension": ".py",
   "mimetype": "text/x-python",
   "name": "python",
   "nbconvert_exporter": "python",
   "pygments_lexer": "ipython3",
   "version": "3.6.4"
  }
 },
 "nbformat": 4,
 "nbformat_minor": 2
}
