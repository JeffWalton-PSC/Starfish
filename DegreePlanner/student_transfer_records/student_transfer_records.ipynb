{
 "cells": [
  {
   "cell_type": "code",
   "execution_count": 1,
   "metadata": {},
   "outputs": [],
   "source": [
    "import numpy as np\n",
    "import pandas as pd\n",
    "from datetime import date\n"
   ]
  },
  {
   "cell_type": "code",
   "execution_count": 2,
   "metadata": {},
   "outputs": [],
   "source": [
    "# local connection information\n",
    "import local_db\n",
    "connection = local_db.connection()\n"
   ]
  },
  {
   "cell_type": "code",
   "execution_count": 3,
   "metadata": {},
   "outputs": [
    {
     "name": "stdout",
     "output_type": "stream",
     "text": [
      "20180522\n"
     ]
    }
   ],
   "source": [
    "today = date.today()\n",
    "today_str = today.strftime('%Y%m%d')\n",
    "print(today_str)"
   ]
  },
  {
   "cell_type": "code",
   "execution_count": 4,
   "metadata": {},
   "outputs": [],
   "source": [
    "sql_str = \"SELECT * FROM TRANSCRIPTDETAIL WHERE \" + \\\n",
    "          \"CREDIT_TYPE = 'TRAN' \"\n",
    "df_td = pd.read_sql_query(sql_str, connection)\n"
   ]
  },
  {
   "cell_type": "code",
   "execution_count": 5,
   "metadata": {},
   "outputs": [
    {
     "name": "stdout",
     "output_type": "stream",
     "text": [
      "(18373, 75)\n"
     ]
    }
   ],
   "source": [
    "print(df_td.shape)"
   ]
  },
  {
   "cell_type": "code",
   "execution_count": 6,
   "metadata": {},
   "outputs": [],
   "source": [
    "df_td = df_td[['PEOPLE_CODE_ID', 'ACADEMIC_YEAR', 'ACADEMIC_TERM', 'ACADEMIC_SESSION', \n",
    "             'EVENT_ID', 'EVENT_SUB_TYPE', 'SECTION', 'EVENT_MED_NAME', \n",
    "             'ORG_CODE_ID', 'CREDIT_TYPE', 'CREDIT', 'FINAL_GRADE', \n",
    "             'REFERENCE_EVENT_ID', 'REFERENCE_SUB_TYPE', \n",
    "             ]]\n"
   ]
  },
  {
   "cell_type": "code",
   "execution_count": 7,
   "metadata": {},
   "outputs": [
    {
     "name": "stdout",
     "output_type": "stream",
     "text": [
      "(18373, 14)\n"
     ]
    }
   ],
   "source": [
    "print(df_td.shape)"
   ]
  },
  {
   "cell_type": "code",
   "execution_count": 8,
   "metadata": {},
   "outputs": [],
   "source": [
    "# create active student list from 2-year rolling window\n",
    "two_years_ago = today.year - 2\n",
    "sql_str = \"SELECT PEOPLE_CODE_ID FROM ACADEMIC WHERE \" + \\\n",
    "          f\"ACADEMIC_YEAR > '{two_years_ago}' \" + \\\n",
    "          \"AND PRIMARY_FLAG = 'Y' \" + \\\n",
    "          \"AND CURRICULUM NOT IN ('ADVST') \" + \\\n",
    "          \"AND GRADUATED NOT IN ('G') \"\n",
    "active = pd.read_sql_query(sql_str, connection)\n",
    "active = active.drop_duplicates(['PEOPLE_CODE_ID'])\n"
   ]
  },
  {
   "cell_type": "code",
   "execution_count": null,
   "metadata": {},
   "outputs": [],
   "source": [
    "print(two_years_ago)\n",
    "print(active.shape)\n",
    "active.head()"
   ]
  },
  {
   "cell_type": "code",
   "execution_count": 10,
   "metadata": {},
   "outputs": [],
   "source": [
    "# keep transfer records for active students\n",
    "df = pd.merge(df_td, active, how='inner', on='PEOPLE_CODE_ID')"
   ]
  },
  {
   "cell_type": "code",
   "execution_count": 11,
   "metadata": {},
   "outputs": [
    {
     "name": "stdout",
     "output_type": "stream",
     "text": [
      "(2924, 14)\n"
     ]
    }
   ],
   "source": [
    "print(df.shape)"
   ]
  },
  {
   "cell_type": "code",
   "execution_count": null,
   "metadata": {
    "scrolled": true
   },
   "outputs": [],
   "source": [
    "df.head(30)"
   ]
  },
  {
   "cell_type": "code",
   "execution_count": 13,
   "metadata": {},
   "outputs": [],
   "source": [
    "crs_id = (lambda c: (str(c['EVENT_ID']).replace(' ', '') +\n",
    "                     str(c['EVENT_SUB_TYPE']).upper())\n",
    "          if ((c['EVENT_SUB_TYPE'] == 'LAB') | (c['EVENT_SUB_TYPE'] == 'SI'))\n",
    "          else (str(c['EVENT_ID']).replace(' ', ''))\n",
    "          )\n",
    "df.loc[:, 'transfer_course_number'] = df.apply(crs_id, axis=1)\n"
   ]
  },
  {
   "cell_type": "code",
   "execution_count": 14,
   "metadata": {},
   "outputs": [],
   "source": [
    "tr_section_id = (lambda c: (c['EVENT_ID'] + '.' +\n",
    "                            c['EVENT_SUB_TYPE'] + '.Transfer'\n",
    "                           )\n",
    "                 if ((c['ACADEMIC_YEAR'] == '1999') | (c['ACADEMIC_YEAR'] == '2004'))\n",
    "                 else (c['EVENT_ID'] + '.' +\n",
    "                       c['EVENT_SUB_TYPE'] + '.' +\n",
    "                       c['ACADEMIC_YEAR'] + '.' +\n",
    "                       c['ACADEMIC_TERM'].title() + '.TR'\n",
    "                      )\n",
    "                )\n",
    "df.loc[:, 'transfer_course_section_number'] = df.apply(tr_section_id, axis=1)"
   ]
  },
  {
   "cell_type": "code",
   "execution_count": 15,
   "metadata": {},
   "outputs": [],
   "source": [
    "df.loc[:, 'ag_grading_type'] = 'P/F'\n",
    "df.loc[:, 'ag_status'] = 'TRANSFER'"
   ]
  },
  {
   "cell_type": "code",
   "execution_count": 16,
   "metadata": {},
   "outputs": [],
   "source": [
    "df = df.rename(columns={'PEOPLE_CODE_ID': 'student_integration_id',\n",
    "                        'CREDIT': 'credits',\n",
    "                        'EVENT_MED_NAME': 'course_title',\n",
    "                        'ACADEMIC_YEAR': 'term_year',\n",
    "                        'ACADEMIC_TERM': 'term_season',\n",
    "                       })\n"
   ]
  },
  {
   "cell_type": "code",
   "execution_count": 17,
   "metadata": {},
   "outputs": [],
   "source": [
    "tr_grade = (lambda c: 'P'\n",
    "            if (c['FINAL_GRADE'] == 'TR')\n",
    "            else 'NG'\n",
    "           )\n",
    "df.loc[:, 'ag_grade'] = df.apply(tr_grade, axis=1)\n",
    "df = df[~df['ag_grade'].isnull()]"
   ]
  },
  {
   "cell_type": "code",
   "execution_count": 18,
   "metadata": {},
   "outputs": [],
   "source": [
    "df = df.loc[:, ['student_integration_id', 'transfer_course_number',\n",
    "                'transfer_course_section_number',\n",
    "                'ag_grade', 'ag_grading_type', 'ag_status',\n",
    "                'credits', ]]\n"
   ]
  },
  {
   "cell_type": "code",
   "execution_count": 19,
   "metadata": {},
   "outputs": [
    {
     "name": "stdout",
     "output_type": "stream",
     "text": [
      "(2924, 7)\n"
     ]
    }
   ],
   "source": [
    "print(df.shape)"
   ]
  },
  {
   "cell_type": "code",
   "execution_count": null,
   "metadata": {
    "scrolled": true
   },
   "outputs": [],
   "source": [
    "print(df.head())"
   ]
  },
  {
   "cell_type": "code",
   "execution_count": 21,
   "metadata": {},
   "outputs": [
    {
     "name": "stdout",
     "output_type": "stream",
     "text": [
      "<class 'pandas.core.frame.DataFrame'>\n",
      "Int64Index: 2924 entries, 0 to 2923\n",
      "Data columns (total 7 columns):\n",
      "student_integration_id            2924 non-null object\n",
      "transfer_course_number            2924 non-null object\n",
      "transfer_course_section_number    2924 non-null object\n",
      "ag_grade                          2924 non-null object\n",
      "ag_grading_type                   2924 non-null object\n",
      "ag_status                         2924 non-null object\n",
      "credits                           2924 non-null float64\n",
      "dtypes: float64(1), object(6)\n",
      "memory usage: 182.8+ KB\n"
     ]
    }
   ],
   "source": [
    "df.info()"
   ]
  },
  {
   "cell_type": "code",
   "execution_count": 22,
   "metadata": {
    "scrolled": true
   },
   "outputs": [
    {
     "data": {
      "text/plain": [
       "0              BIO 101.LEC.Transfer\n",
       "1              CHM 141.LEC.Transfer\n",
       "2              CHM 142.LEC.Transfer\n",
       "3              COM 101.LEC.Transfer\n",
       "4              ECN 102.LEC.Transfer\n",
       "5             EDU 7900.LEC.Transfer\n",
       "6             EDU 8400.LEC.Transfer\n",
       "7              EDU7400.LEC.Transfer\n",
       "8              ENG 101.LEC.Transfer\n",
       "9              HST 202.LEC.Transfer\n",
       "10            HUM 1000.LEC.Transfer\n",
       "11             MAT 125.LEC.Transfer\n",
       "12             PSY 101.LEC.Transfer\n",
       "13             ENG 101.LEC.Transfer\n",
       "14             CUL 280.LEC.Transfer\n",
       "15            EDU 7100.LEC.Transfer\n",
       "16             EDU7101.LEC.Transfer\n",
       "17             ENG 101.LEC.Transfer\n",
       "18             HST 201.LEC.Transfer\n",
       "19         BIO 210.LEC.2014.Fall.TR\n",
       "20         CHM 141.LEC.2014.Fall.TR\n",
       "21         EST 101.LEC.2014.Fall.TR\n",
       "22         EDU7102.LEC.2014.Fall.TR\n",
       "23       CHM 142.LEC.2015.Spring.TR\n",
       "24      EDU 7100.LEC.2015.Spring.TR\n",
       "25       EDU7402.LEC.2015.Spring.TR\n",
       "26         MAT 180.LEC.2017.Fall.TR\n",
       "27             BIO 101.LEC.Transfer\n",
       "28             ENG 101.LEC.Transfer\n",
       "29             ENG 101.LEC.Transfer\n",
       "                   ...             \n",
       "2894           COM 101.LEC.Transfer\n",
       "2895     ENG 101.LEC.2018.Summer.TR\n",
       "2896          ELEC 107.LEC.Transfer\n",
       "2897           MAT 125.LEC.Transfer\n",
       "2898           ENG 102.LEC.Transfer\n",
       "2899           RES 102.LEC.Transfer\n",
       "2900           PHY 241.LEC.Transfer\n",
       "2901           LAS 303.LEC.Transfer\n",
       "2902          ELEC 303.LEC.Transfer\n",
       "2903           ENG 101.LEC.Transfer\n",
       "2904           ENG 102.LEC.Transfer\n",
       "2905           MAT 125.LEC.Transfer\n",
       "2906           RES 102.LEC.Transfer\n",
       "2907           PHY 241.LEC.Transfer\n",
       "2908          ELEC 107.LEC.Transfer\n",
       "2909           LAS 300.LEC.Transfer\n",
       "2910          ELEC 303.LEC.Transfer\n",
       "2911           MAT 125.LEC.Transfer\n",
       "2912           ECN 200.LEC.Transfer\n",
       "2913           MKT 200.LEC.Transfer\n",
       "2914           POL 200.LEC.Transfer\n",
       "2915          ELEC 100.LEC.Transfer\n",
       "2916           MAT 180.LEC.Transfer\n",
       "2917          ELEC 107.LEC.Transfer\n",
       "2918           MKT 200.LEC.Transfer\n",
       "2919           MAT 210.LEC.Transfer\n",
       "2920           MGT 200.LEC.Transfer\n",
       "2921           PSY 101.LEC.Transfer\n",
       "2922           COM 101.LEC.Transfer\n",
       "2923           HOS 102.LEC.Transfer\n",
       "Name: transfer_course_section_number, Length: 2924, dtype: object"
      ]
     },
     "execution_count": 22,
     "metadata": {},
     "output_type": "execute_result"
    }
   ],
   "source": [
    "df['transfer_course_section_number']"
   ]
  },
  {
   "cell_type": "code",
   "execution_count": 23,
   "metadata": {
    "scrolled": true
   },
   "outputs": [
    {
     "name": "stdout",
     "output_type": "stream",
     "text": [
      "ACC 101.LEC.2015.Summer.TR     2\n",
      "ACC 101.LEC.2016.Spring.TR     1\n",
      "ACC 101.LEC.2016.Summer.TR     1\n",
      "ACC 101.LEC.2017.Summer.TR     3\n",
      "ACC 101.LEC.Transfer          32\n",
      "ACC 102.LEC.2016.Spring.TR     1\n",
      "ACC 102.LEC.2017.Summer.TR     1\n",
      "ACC 102.LEC.Transfer           5\n",
      "AR 100.LEC.Transfer            9\n",
      "AR 101.LEC.Transfer            2\n",
      "AR 300.LEC.Transfer            1\n",
      "BAK 150.COMB.Transfer          3\n",
      "BAK 160.COMB.Transfer          2\n",
      "BAK 165.COMB.Transfer          2\n",
      "BAK 260.COMB.Transfer          2\n",
      "BAK 265.COMB.Transfer          2\n",
      "BIO 101.LEC.2016.Fall.TR       1\n",
      "BIO 101.LEC.2017.Summer.TR     1\n",
      "BIO 101.LEC.Transfer          68\n",
      "BIO 102.LEC.2016.Summer.TR     1\n",
      "BIO 102.LEC.Transfer          98\n",
      "BIO 204.LEC.Transfer           3\n",
      "BIO 210.LEC.2014.Fall.TR       1\n",
      "BIO 210.LEC.Transfer          24\n",
      "BIO 225.LEC.Transfer           3\n",
      "BIO 230.LEC.2017.Summer.TR     1\n",
      "BIO 240.LEC.Transfer           1\n",
      "BIO 300.LEC.2017.Summer.TR     2\n",
      "BIO 363.LEC.2017.Summer.TR     1\n",
      "BUS 101.LEC.Transfer           2\n",
      "                              ..\n",
      "PSY 110.LEC.Transfer           1\n",
      "REC 105.LEC.Transfer           2\n",
      "REC 301.LEC.2016.Spring.TR     1\n",
      "REC 310.LEC.Transfer           1\n",
      "RES 101.LEC.2014.Fall.TR       1\n",
      "RES 101.LEC.Transfer          14\n",
      "RES 102.LEC.Transfer          31\n",
      "RES 132.LEC.Transfer           2\n",
      "RES 170.LEC.Transfer           4\n",
      "RES 250.COMB.Transfer          1\n",
      "RES 250.LEC.Transfer           2\n",
      "RES 300.LEC.Transfer           2\n",
      "SCE 100.LEC.2017.Spring.TR     1\n",
      "SCE 100.LEC.2017.Summer.TR     2\n",
      "SCE 100.LEC.Transfer           8\n",
      "SCE 102.LEC.Transfer          14\n",
      "SCE 300.LEC.Transfer           1\n",
      "SCF 1000.LEC.Transfer          3\n",
      "SCS 1001.LEC.Transfer          1\n",
      "SOC 101.LEC.2015.Summer.TR     1\n",
      "SOC 101.LEC.2016.Fall.TR       1\n",
      "SOC 101.LEC.2016.Summer.TR     1\n",
      "SOC 101.LEC.2017.Summer.TR     1\n",
      "SOC 101.LEC.Transfer          69\n",
      "SOC 220.LEC.Transfer           2\n",
      "SOC 300.LEC.Transfer           1\n",
      "SRS 1001.LEC.Transfer          1\n",
      "SRV 100.LEC.Transfer           3\n",
      "SRV 201.COMB.Transfer          1\n",
      "SRV 220.LEC.Transfer           2\n",
      "Name: transfer_course_section_number, Length: 319, dtype: int64\n"
     ]
    }
   ],
   "source": [
    "print(df['transfer_course_section_number'].value_counts().sort_index())\n"
   ]
  },
  {
   "cell_type": "code",
   "execution_count": 24,
   "metadata": {},
   "outputs": [],
   "source": [
    "df = (df.sort_values(['student_integration_id', \n",
    "                      'transfer_course_section_number'])\n",
    "        .drop_duplicates(['student_integration_id', \n",
    "                          'transfer_course_section_number'],\n",
    "                         keep='last')\n",
    "     )\n"
   ]
  },
  {
   "cell_type": "code",
   "execution_count": 25,
   "metadata": {},
   "outputs": [
    {
     "name": "stdout",
     "output_type": "stream",
     "text": [
      "(2924, 7)\n"
     ]
    }
   ],
   "source": [
    "print(df.shape)"
   ]
  },
  {
   "cell_type": "code",
   "execution_count": 26,
   "metadata": {},
   "outputs": [],
   "source": [
    "fn_output = f'{today_str}_student_transfer_records.txt'\n",
    "df.to_csv(fn_output, index=False)\n"
   ]
  },
  {
   "cell_type": "code",
   "execution_count": null,
   "metadata": {},
   "outputs": [],
   "source": []
  }
 ],
 "metadata": {
  "kernelspec": {
   "display_name": "Python 3",
   "language": "python",
   "name": "python3"
  },
  "language_info": {
   "codemirror_mode": {
    "name": "ipython",
    "version": 3
   },
   "file_extension": ".py",
   "mimetype": "text/x-python",
   "name": "python",
   "nbconvert_exporter": "python",
   "pygments_lexer": "ipython3",
   "version": "3.6.5"
  }
 },
 "nbformat": 4,
 "nbformat_minor": 2
}
