{
 "cells": [
  {
   "cell_type": "code",
   "execution_count": 1,
   "metadata": {},
   "outputs": [],
   "source": [
    "import numpy as np\n",
    "import pandas as pd\n",
    "from datetime import date\n"
   ]
  },
  {
   "cell_type": "code",
   "execution_count": 2,
   "metadata": {},
   "outputs": [],
   "source": [
    "# local connection information\n",
    "import local_db\n",
    "connection = local_db.connection()\n"
   ]
  },
  {
   "cell_type": "code",
   "execution_count": 3,
   "metadata": {},
   "outputs": [],
   "source": [
    "# utility functions\n",
    "import util\n"
   ]
  },
  {
   "cell_type": "code",
   "execution_count": 4,
   "metadata": {},
   "outputs": [],
   "source": [
    "today = date.today()\n",
    "today_str = today.strftime('%Y%m%d')\n"
   ]
  },
  {
   "cell_type": "code",
   "execution_count": 5,
   "metadata": {},
   "outputs": [
    {
     "name": "stdout",
     "output_type": "stream",
     "text": [
      "(40592, 7)\n"
     ]
    }
   ],
   "source": [
    "sql_str = \"SELECT PEOPLE_CODE_ID, ACADEMIC_YEAR, ACADEMIC_TERM, ACADEMIC_SESSION, \" + \\\n",
    "          \"CREDITS, PRIMARY_FLAG, CLASS_LEVEL \" + \\\n",
    "          \"FROM ACADEMIC WHERE \" + \\\n",
    "          \"ACADEMIC_SESSION = '' \" + \\\n",
    "          \"AND PRIMARY_FLAG = 'Y' \" + \\\n",
    "          \"AND CREDITS > 0 \"\n",
    "df_aca = pd.read_sql_query(sql_str, connection)\n",
    "\n",
    "df_aca = df_aca[['PEOPLE_CODE_ID', 'ACADEMIC_YEAR', 'ACADEMIC_TERM', 'ACADEMIC_SESSION', \n",
    "                 'CREDITS', 'PRIMARY_FLAG', 'CLASS_LEVEL', \n",
    "                 ]]\n",
    "\n",
    "print(df_aca.shape)"
   ]
  },
  {
   "cell_type": "code",
   "execution_count": 6,
   "metadata": {},
   "outputs": [
    {
     "name": "stdout",
     "output_type": "stream",
     "text": [
      "(45039, 6)\n"
     ]
    }
   ],
   "source": [
    "sql_str = \"SELECT PEOPLE_CODE_ID, ACADEMIC_YEAR, ACADEMIC_TERM, ACADEMIC_SESSION, \" + \\\n",
    "          \"RECORD_TYPE, TOTAL_CREDITS, GPA \" + \\\n",
    "          \"FROM TRANSCRIPTGPA WHERE \" + \\\n",
    "          \"RECORD_TYPE = 'O' \" + \\\n",
    "          \"AND TOTAL_CREDITS >= 0 \"\n",
    "df_tgpa = pd.read_sql_query(sql_str, connection)\n",
    "\n",
    "df_tgpa = df_tgpa[['PEOPLE_CODE_ID', 'ACADEMIC_YEAR', 'ACADEMIC_TERM', 'ACADEMIC_SESSION', \n",
    "                 'RECORD_TYPE', 'TOTAL_CREDITS',\n",
    "                 ]]\n",
    "\n",
    "print(df_tgpa.shape)"
   ]
  },
  {
   "cell_type": "code",
   "execution_count": 7,
   "metadata": {},
   "outputs": [
    {
     "name": "stdout",
     "output_type": "stream",
     "text": [
      "(40620, 9)\n"
     ]
    }
   ],
   "source": [
    "df = pd.merge(df_aca, df_tgpa, \n",
    "              on=['PEOPLE_CODE_ID', 'ACADEMIC_YEAR', 'ACADEMIC_TERM', 'ACADEMIC_SESSION'],\n",
    "              how='left')\n",
    "\n",
    "print(df.shape)"
   ]
  },
  {
   "cell_type": "code",
   "execution_count": null,
   "metadata": {},
   "outputs": [],
   "source": [
    "df.head(20)"
   ]
  },
  {
   "cell_type": "code",
   "execution_count": 9,
   "metadata": {},
   "outputs": [
    {
     "name": "stdout",
     "output_type": "stream",
     "text": [
      "(4912, 9)\n"
     ]
    }
   ],
   "source": [
    "# keep records for active students\n",
    "df = util.apply_active(in_df=df)\n",
    "\n",
    "print(df.shape)"
   ]
  },
  {
   "cell_type": "code",
   "execution_count": null,
   "metadata": {
    "scrolled": true
   },
   "outputs": [],
   "source": [
    "print(df[(df['TOTAL_CREDITS'].isnull())].shape)\n",
    "\n",
    "df[(df['TOTAL_CREDITS'].isnull())]\n"
   ]
  },
  {
   "cell_type": "code",
   "execution_count": 11,
   "metadata": {
    "scrolled": true
   },
   "outputs": [
    {
     "name": "stdout",
     "output_type": "stream",
     "text": [
      "(4127, 9)\n"
     ]
    }
   ],
   "source": [
    "df = df[(~df['TOTAL_CREDITS'].isnull())]\n",
    "\n",
    "print(df.shape)"
   ]
  },
  {
   "cell_type": "code",
   "execution_count": 12,
   "metadata": {},
   "outputs": [],
   "source": [
    "# find the latest year\n",
    "df = df[(~df['ACADEMIC_YEAR'].isnull())]\n",
    "#print(df.shape)\n",
    "#print(df.head(20))\n",
    "df['ACADEMIC_YEAR'] = (pd.to_numeric(df['ACADEMIC_YEAR'], errors='coerce'))\n",
    "df_seq = pd.DataFrame([{'term': 'SPRING', 'seq': 1},\n",
    "                       {'term': 'SUMMER', 'seq': 2},\n",
    "                       {'term': 'FALL', 'seq': 3}])\n",
    "df = pd.merge(df, df_seq, left_on='ACADEMIC_TERM', right_on='term', how='left')\n",
    "df['term_seq'] = df['ACADEMIC_YEAR'] * 100 + df['seq']\n",
    "df = (df.loc[df.reset_index()\n",
    "               .groupby(['PEOPLE_CODE_ID'])['term_seq']\n",
    "               .idxmax()])\n",
    "\n",
    "#print(df.shape)\n",
    "#print(df.head())\n"
   ]
  },
  {
   "cell_type": "code",
   "execution_count": 13,
   "metadata": {},
   "outputs": [],
   "source": [
    "df.loc[:,'prereq_group_identifier'] = 'FRESHMAN'\n",
    "df.loc[(df['TOTAL_CREDITS'] >= 30),'prereq_group_identifier'] = 'SOPHOMORE'\n",
    "df.loc[(df['TOTAL_CREDITS'] >= 60),'prereq_group_identifier'] = 'JUNIOR'\n",
    "df.loc[(df['TOTAL_CREDITS'] >= 90),'prereq_group_identifier'] = 'SENIOR'\n"
   ]
  },
  {
   "cell_type": "code",
   "execution_count": null,
   "metadata": {},
   "outputs": [],
   "source": []
  },
  {
   "cell_type": "code",
   "execution_count": 15,
   "metadata": {},
   "outputs": [],
   "source": [
    "df = df.rename(columns={\n",
    "                        'PEOPLE_CODE_ID': 'student_integration_id',\n",
    "                       })\n"
   ]
  },
  {
   "cell_type": "code",
   "execution_count": 16,
   "metadata": {},
   "outputs": [],
   "source": [
    "df = df.loc[:, ['student_integration_id', 'prereq_group_identifier',\n",
    "               ]]\n"
   ]
  },
  {
   "cell_type": "code",
   "execution_count": 17,
   "metadata": {},
   "outputs": [
    {
     "name": "stdout",
     "output_type": "stream",
     "text": [
      "(962, 2)\n"
     ]
    }
   ],
   "source": [
    "print(df.shape)"
   ]
  },
  {
   "cell_type": "code",
   "execution_count": 18,
   "metadata": {},
   "outputs": [],
   "source": [
    "df = (df.sort_values(['student_integration_id', \n",
    "                      'prereq_group_identifier'])\n",
    "        .drop_duplicates(['student_integration_id', \n",
    "                          'prereq_group_identifier'],\n",
    "                         keep='last')\n",
    "     )\n"
   ]
  },
  {
   "cell_type": "code",
   "execution_count": 19,
   "metadata": {},
   "outputs": [
    {
     "name": "stdout",
     "output_type": "stream",
     "text": [
      "(962, 2)\n"
     ]
    }
   ],
   "source": [
    "print(df.shape)"
   ]
  },
  {
   "cell_type": "code",
   "execution_count": 20,
   "metadata": {},
   "outputs": [],
   "source": [
    "fn_output = f'{today_str}_student_prereq_groups.txt'\n",
    "df.to_csv(fn_output, index=False)\n"
   ]
  },
  {
   "cell_type": "code",
   "execution_count": null,
   "metadata": {},
   "outputs": [],
   "source": []
  }
 ],
 "metadata": {
  "kernelspec": {
   "display_name": "Python 3",
   "language": "python",
   "name": "python3"
  },
  "language_info": {
   "codemirror_mode": {
    "name": "ipython",
    "version": 3
   },
   "file_extension": ".py",
   "mimetype": "text/x-python",
   "name": "python",
   "nbconvert_exporter": "python",
   "pygments_lexer": "ipython3",
   "version": "3.6.5"
  }
 },
 "nbformat": 4,
 "nbformat_minor": 2
}
