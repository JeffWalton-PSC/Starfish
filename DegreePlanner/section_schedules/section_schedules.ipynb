{
 "cells": [
  {
   "cell_type": "code",
   "execution_count": 1,
   "metadata": {},
   "outputs": [],
   "source": [
    "import numpy as np\n",
    "import pandas as pd\n",
    "from datetime import date\n"
   ]
  },
  {
   "cell_type": "code",
   "execution_count": 2,
   "metadata": {},
   "outputs": [],
   "source": [
    "# local connection information\n",
    "import local_db\n",
    "connection = local_db.connection()\n"
   ]
  },
  {
   "cell_type": "code",
   "execution_count": 3,
   "metadata": {},
   "outputs": [
    {
     "name": "stdout",
     "output_type": "stream",
     "text": [
      "20180522\n"
     ]
    }
   ],
   "source": [
    "today = date.today()\n",
    "today_str = today.strftime('%Y%m%d')\n",
    "print(today_str)"
   ]
  },
  {
   "cell_type": "code",
   "execution_count": 4,
   "metadata": {},
   "outputs": [],
   "source": [
    "sections_begin_year = '2011'\n"
   ]
  },
  {
   "cell_type": "code",
   "execution_count": 5,
   "metadata": {},
   "outputs": [],
   "source": [
    "sql_str = \"SELECT * FROM SECTIONSCHEDULE WHERE \" + \\\n",
    "          f\"ACADEMIC_YEAR >= '{sections_begin_year}' \" + \\\n",
    "          \"AND ACADEMIC_TERM IN ('FALL', 'SPRING', 'SUMMER') \" + \\\n",
    "          \"AND ACADEMIC_SESSION IN ('MAIN', 'CULN', 'EXT', 'FNRR', 'HEOP', \" + \\\n",
    "          \" 'SLAB', 'BLOCK A', 'BLOCK AB', 'BLOCK B') \"\n",
    "df_sections = pd.read_sql_query(sql_str, connection)\n"
   ]
  },
  {
   "cell_type": "code",
   "execution_count": 6,
   "metadata": {},
   "outputs": [],
   "source": [
    "df = df_sections[['ACADEMIC_YEAR', 'ACADEMIC_TERM', 'ACADEMIC_SESSION',\n",
    "                  'EVENT_ID', 'EVENT_SUB_TYPE',\n",
    "                  'SECTION', 'DAY',\n",
    "                  'START_TIME', 'END_TIME',\n",
    "                  'BUILDING_CODE', 'ROOM_ID',\n",
    "                 ]]\n"
   ]
  },
  {
   "cell_type": "code",
   "execution_count": 7,
   "metadata": {},
   "outputs": [],
   "source": [
    "df = df[~(df['EVENT_ID'].str.contains('REG', case=False))]\n",
    "df = df[~(df['EVENT_ID'].str.contains('STDY', case=False))]\n"
   ]
  },
  {
   "cell_type": "code",
   "execution_count": 8,
   "metadata": {},
   "outputs": [
    {
     "name": "stdout",
     "output_type": "stream",
     "text": [
      "(5092, 11)\n"
     ]
    },
    {
     "data": {
      "text/html": [
       "<div>\n",
       "<style scoped>\n",
       "    .dataframe tbody tr th:only-of-type {\n",
       "        vertical-align: middle;\n",
       "    }\n",
       "\n",
       "    .dataframe tbody tr th {\n",
       "        vertical-align: top;\n",
       "    }\n",
       "\n",
       "    .dataframe thead th {\n",
       "        text-align: right;\n",
       "    }\n",
       "</style>\n",
       "<table border=\"1\" class=\"dataframe\">\n",
       "  <thead>\n",
       "    <tr style=\"text-align: right;\">\n",
       "      <th></th>\n",
       "      <th>ACADEMIC_YEAR</th>\n",
       "      <th>ACADEMIC_TERM</th>\n",
       "      <th>ACADEMIC_SESSION</th>\n",
       "      <th>EVENT_ID</th>\n",
       "      <th>EVENT_SUB_TYPE</th>\n",
       "      <th>SECTION</th>\n",
       "      <th>DAY</th>\n",
       "      <th>START_TIME</th>\n",
       "      <th>END_TIME</th>\n",
       "      <th>BUILDING_CODE</th>\n",
       "      <th>ROOM_ID</th>\n",
       "    </tr>\n",
       "  </thead>\n",
       "  <tbody>\n",
       "    <tr>\n",
       "      <th>0</th>\n",
       "      <td>2011</td>\n",
       "      <td>SPRING</td>\n",
       "      <td>MAIN</td>\n",
       "      <td>ACC 101</td>\n",
       "      <td>LEC</td>\n",
       "      <td>01</td>\n",
       "      <td>MWF</td>\n",
       "      <td>1900-01-01 09:05:00</td>\n",
       "      <td>1900-01-01 10:00:00</td>\n",
       "      <td>PICKTT</td>\n",
       "      <td>223</td>\n",
       "    </tr>\n",
       "    <tr>\n",
       "      <th>1</th>\n",
       "      <td>2011</td>\n",
       "      <td>SPRING</td>\n",
       "      <td>MAIN</td>\n",
       "      <td>ACC 101</td>\n",
       "      <td>LEC</td>\n",
       "      <td>02</td>\n",
       "      <td>MWF</td>\n",
       "      <td>1900-01-01 11:15:00</td>\n",
       "      <td>1900-01-01 12:10:00</td>\n",
       "      <td>PICKTT</td>\n",
       "      <td>223</td>\n",
       "    </tr>\n",
       "    <tr>\n",
       "      <th>2</th>\n",
       "      <td>2011</td>\n",
       "      <td>SPRING</td>\n",
       "      <td>MAIN</td>\n",
       "      <td>ACC 102</td>\n",
       "      <td>LEC</td>\n",
       "      <td>01</td>\n",
       "      <td>TTHR</td>\n",
       "      <td>1900-01-01 11:10:00</td>\n",
       "      <td>1900-01-01 12:35:00</td>\n",
       "      <td>PICKTT</td>\n",
       "      <td>223</td>\n",
       "    </tr>\n",
       "    <tr>\n",
       "      <th>3</th>\n",
       "      <td>2011</td>\n",
       "      <td>SPRING</td>\n",
       "      <td>MAIN</td>\n",
       "      <td>BIO 102</td>\n",
       "      <td>LEC</td>\n",
       "      <td>01</td>\n",
       "      <td>MWF</td>\n",
       "      <td>1900-01-01 09:05:00</td>\n",
       "      <td>1900-01-01 10:00:00</td>\n",
       "      <td>FREER</td>\n",
       "      <td>AUD</td>\n",
       "    </tr>\n",
       "    <tr>\n",
       "      <th>4</th>\n",
       "      <td>2011</td>\n",
       "      <td>SPRING</td>\n",
       "      <td>MAIN</td>\n",
       "      <td>BIO 102</td>\n",
       "      <td>LAB</td>\n",
       "      <td>01</td>\n",
       "      <td>MON</td>\n",
       "      <td>1900-01-01 14:30:00</td>\n",
       "      <td>1900-01-01 17:30:00</td>\n",
       "      <td>FREER</td>\n",
       "      <td>117</td>\n",
       "    </tr>\n",
       "  </tbody>\n",
       "</table>\n",
       "</div>"
      ],
      "text/plain": [
       "  ACADEMIC_YEAR ACADEMIC_TERM ACADEMIC_SESSION EVENT_ID EVENT_SUB_TYPE  \\\n",
       "0          2011        SPRING             MAIN  ACC 101            LEC   \n",
       "1          2011        SPRING             MAIN  ACC 101            LEC   \n",
       "2          2011        SPRING             MAIN  ACC 102            LEC   \n",
       "3          2011        SPRING             MAIN  BIO 102            LEC   \n",
       "4          2011        SPRING             MAIN  BIO 102            LAB   \n",
       "\n",
       "  SECTION   DAY          START_TIME            END_TIME BUILDING_CODE ROOM_ID  \n",
       "0      01   MWF 1900-01-01 09:05:00 1900-01-01 10:00:00        PICKTT     223  \n",
       "1      02   MWF 1900-01-01 11:15:00 1900-01-01 12:10:00        PICKTT     223  \n",
       "2      01  TTHR 1900-01-01 11:10:00 1900-01-01 12:35:00        PICKTT     223  \n",
       "3      01   MWF 1900-01-01 09:05:00 1900-01-01 10:00:00         FREER     AUD  \n",
       "4      01   MON 1900-01-01 14:30:00 1900-01-01 17:30:00         FREER     117  "
      ]
     },
     "execution_count": 8,
     "metadata": {},
     "output_type": "execute_result"
    }
   ],
   "source": [
    "print(df.shape)\n",
    "df.head()"
   ]
  },
  {
   "cell_type": "code",
   "execution_count": 9,
   "metadata": {},
   "outputs": [],
   "source": [
    "df.loc[:, 'section_integration_id'] = (df['EVENT_ID'] + '.' +\n",
    "                                       df['EVENT_SUB_TYPE'] + '.' +\n",
    "                                       df['ACADEMIC_YEAR'] + '.' +\n",
    "                                       df['ACADEMIC_TERM'].str.title() + '.' +\n",
    "                                       df['SECTION']\n",
    "                                      )\n"
   ]
  },
  {
   "cell_type": "code",
   "execution_count": null,
   "metadata": {},
   "outputs": [],
   "source": [
    "df = df[~df['EVENT_SUB_TYPE'].isnull()]"
   ]
  },
  {
   "cell_type": "code",
   "execution_count": null,
   "metadata": {},
   "outputs": [],
   "source": []
  },
  {
   "cell_type": "code",
   "execution_count": 13,
   "metadata": {},
   "outputs": [
    {
     "data": {
      "text/plain": [
       "TTHR    1472\n",
       "MWF      896\n",
       "MW       605\n",
       "MON      378\n",
       "WED      369\n",
       "TUE      345\n",
       "FRI      284\n",
       "THUR     266\n",
       "ALL      115\n",
       "TBD       98\n",
       "ONLN      75\n",
       "MTWR      45\n",
       "SAT       34\n",
       "MF        30\n",
       "SUN       22\n",
       "MTU       12\n",
       "WF        11\n",
       "WTHR      11\n",
       "TWTF       7\n",
       "CANC       7\n",
       "MTRF       4\n",
       "MTWF       2\n",
       "MTW        2\n",
       "THUF       1\n",
       "WTF        1\n",
       "Name: DAY, dtype: int64"
      ]
     },
     "execution_count": 13,
     "metadata": {},
     "output_type": "execute_result"
    }
   ],
   "source": [
    "df['DAY'].value_counts()"
   ]
  },
  {
   "cell_type": "code",
   "execution_count": 12,
   "metadata": {},
   "outputs": [
    {
     "data": {
      "text/plain": [
       "LEC     2808\n",
       "COMB    1081\n",
       "LAB      979\n",
       "ACE       73\n",
       "EXT       57\n",
       "PRAC      48\n",
       "SI        30\n",
       "HYBD      12\n",
       "ONLN       4\n",
       "Name: EVENT_SUB_TYPE, dtype: int64"
      ]
     },
     "execution_count": 12,
     "metadata": {},
     "output_type": "execute_result"
    }
   ],
   "source": [
    "df['EVENT_SUB_TYPE'].value_counts()"
   ]
  },
  {
   "cell_type": "code",
   "execution_count": 11,
   "metadata": {},
   "outputs": [
    {
     "data": {
      "text/plain": [
       "FREER     1566\n",
       "PICKTT    1230\n",
       "CANTWL    1074\n",
       "JWAL       379\n",
       "           260\n",
       "SARATG     193\n",
       "TOMPKI     187\n",
       "JWSC        60\n",
       "ONLINE      36\n",
       "PAOLZI      34\n",
       "SAUN        22\n",
       "FORCC       20\n",
       "UPR          8\n",
       "WOOD         7\n",
       "VIC          5\n",
       "SUGARB       4\n",
       "OVL          3\n",
       "WELD         2\n",
       "LAMBRT       2\n",
       "Name: BUILDING_CODE, dtype: int64"
      ]
     },
     "execution_count": 11,
     "metadata": {},
     "output_type": "execute_result"
    }
   ],
   "source": [
    "df['BUILDING_CODE'].value_counts()"
   ]
  },
  {
   "cell_type": "code",
   "execution_count": null,
   "metadata": {},
   "outputs": [],
   "source": []
  },
  {
   "cell_type": "code",
   "execution_count": null,
   "metadata": {},
   "outputs": [],
   "source": []
  },
  {
   "cell_type": "code",
   "execution_count": null,
   "metadata": {},
   "outputs": [],
   "source": []
  },
  {
   "cell_type": "code",
   "execution_count": null,
   "metadata": {},
   "outputs": [],
   "source": [
    "df = df.rename(columns={\n",
    "                        'START_TIME': 'start_time',\n",
    "                        'END_TIME': 'end_time',\n",
    "                        'BUILDING_CODE': 'building',\n",
    "                        'ROOM_ID': 'room',\n",
    "                       })\n"
   ]
  },
  {
   "cell_type": "code",
   "execution_count": null,
   "metadata": {},
   "outputs": [],
   "source": []
  },
  {
   "cell_type": "code",
   "execution_count": null,
   "metadata": {},
   "outputs": [],
   "source": []
  },
  {
   "cell_type": "code",
   "execution_count": null,
   "metadata": {},
   "outputs": [],
   "source": []
  },
  {
   "cell_type": "code",
   "execution_count": null,
   "metadata": {},
   "outputs": [],
   "source": [
    "df = df.loc[:, ['section_integration_id', 'meeting_days',\n",
    "                'start_time', 'end_time',\n",
    "                'building', 'room', \n",
    "               ]]\n"
   ]
  },
  {
   "cell_type": "code",
   "execution_count": null,
   "metadata": {},
   "outputs": [],
   "source": [
    "df = (df.sort_values(['section_integration_id', \n",
    "                      'meeting_days', 'meeting_time'])\n",
    "        .drop_duplicates(['section_integration_id', \n",
    "                          'meeting_days', 'meeting_time'],\n",
    "                         keep='last')\n",
    "     )\n"
   ]
  },
  {
   "cell_type": "code",
   "execution_count": null,
   "metadata": {},
   "outputs": [],
   "source": [
    "print(df.shape)"
   ]
  },
  {
   "cell_type": "code",
   "execution_count": null,
   "metadata": {},
   "outputs": [],
   "source": [
    "fn_output = f'{today_str}_section_schedules.txt'\n",
    "df.to_csv(fn_output, index=False)\n"
   ]
  }
 ],
 "metadata": {
  "kernelspec": {
   "display_name": "Python 3",
   "language": "python",
   "name": "python3"
  },
  "language_info": {
   "codemirror_mode": {
    "name": "ipython",
    "version": 3
   },
   "file_extension": ".py",
   "mimetype": "text/x-python",
   "name": "python",
   "nbconvert_exporter": "python",
   "pygments_lexer": "ipython3",
   "version": "3.6.5"
  }
 },
 "nbformat": 4,
 "nbformat_minor": 2
}
