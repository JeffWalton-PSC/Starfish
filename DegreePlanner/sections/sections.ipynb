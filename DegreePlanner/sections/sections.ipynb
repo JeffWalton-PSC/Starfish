{
 "cells": [
  {
   "cell_type": "code",
   "execution_count": 1,
   "metadata": {
    "collapsed": false,
    "deletable": true,
    "editable": true
   },
   "outputs": [],
   "source": [
    "import numpy as np\n",
    "import pandas as pd\n",
    "import os\n",
    "from datetime import date, datetime\n",
    "from sqlalchemy import create_engine\n"
   ]
  },
  {
   "cell_type": "code",
   "execution_count": 2,
   "metadata": {
    "collapsed": true,
    "deletable": true,
    "editable": true
   },
   "outputs": [],
   "source": [
    "# local connection information\n",
    "db_user = os.environ.get('DB_USER')\n",
    "db_pass = os.environ.get('DB_PASS')\n",
    "engine = create_engine(f'mssql+pyodbc://{db_user}:{db_pass}' +\n",
    "                       '@PSC-SQLProd/Campus6?' +\n",
    "                       'driver=ODBC+Driver+13+for+SQL+Server')\n",
    "connection = engine.connect()\n"
   ]
  },
  {
   "cell_type": "code",
   "execution_count": 3,
   "metadata": {
    "collapsed": true,
    "deletable": true,
    "editable": true
   },
   "outputs": [],
   "source": [
    "sections_begin_year = '2011'\n"
   ]
  },
  {
   "cell_type": "code",
   "execution_count": 4,
   "metadata": {
    "collapsed": true,
    "deletable": true,
    "editable": true
   },
   "outputs": [],
   "source": [
    "sql_str = \"SELECT * FROM SECTIONS WHERE \" + \\\n",
    "          \"EVENT_SUB_TYPE NOT IN ('ADV') \" + \\\n",
    "          f\"AND ACADEMIC_YEAR >= '{sections_begin_year}' \" + \\\n",
    "          \"AND ACADEMIC_TERM IN ('FALL', 'SPRING', 'SUMMER') \" + \\\n",
    "          \"AND ACADEMIC_SESSION IN ('MAIN', 'CULN', 'EXT', 'FNRR', 'HEOP',\" + \\\n",
    "          \" 'SLAB', 'BLOCK A', 'BLOCK AB', 'BLOCK B') \"\n",
    "df_sections = pd.read_sql_query(sql_str, connection)\n"
   ]
  },
  {
   "cell_type": "code",
   "execution_count": 5,
   "metadata": {
    "collapsed": false,
    "deletable": true,
    "editable": true
   },
   "outputs": [],
   "source": [
    "df = df_sections[['EVENT_ID', 'EVENT_SUB_TYPE', 'EVENT_MED_NAME',\n",
    "                   'SECTION', 'CREDITS', 'MAX_PARTICIPANT',\n",
    "                   'ACADEMIC_YEAR', 'ACADEMIC_TERM', 'ACADEMIC_SESSION',\n",
    "                   'START_DATE', 'END_DATE', 'CIP_CODE',\n",
    "                   'REVISION_DATE', 'REVISION_TIME',\n",
    "                   ]]\n"
   ]
  },
  {
   "cell_type": "markdown",
   "metadata": {
    "deletable": true,
    "editable": true
   },
   "source": [
    "print('ACADEMIC_TERM: ', df['ACADEMIC_TERM'].unique())"
   ]
  },
  {
   "cell_type": "markdown",
   "metadata": {
    "deletable": true,
    "editable": true
   },
   "source": [
    "print('ACADEMIC_SESSION: ', df['ACADEMIC_SESSION'].unique())"
   ]
  },
  {
   "cell_type": "code",
   "execution_count": null,
   "metadata": {
    "collapsed": false,
    "deletable": true,
    "editable": true
   },
   "outputs": [],
   "source": [
    "print(df.shape)\n",
    "df.head()"
   ]
  },
  {
   "cell_type": "code",
   "execution_count": 6,
   "metadata": {
    "collapsed": true,
    "deletable": true,
    "editable": true
   },
   "outputs": [],
   "source": [
    "df = df[~(df['EVENT_ID'].str.contains('REG', case=False))]\n",
    "df = df[~(df['EVENT_ID'].str.contains('STDY', case=False))]\n"
   ]
  },
  {
   "cell_type": "code",
   "execution_count": 7,
   "metadata": {
    "collapsed": false,
    "deletable": true,
    "editable": true
   },
   "outputs": [
    {
     "name": "stdout",
     "output_type": "stream",
     "text": [
      "(4855, 14)\n"
     ]
    }
   ],
   "source": [
    "print(df.shape)\n"
   ]
  },
  {
   "cell_type": "code",
   "execution_count": 8,
   "metadata": {
    "collapsed": false,
    "deletable": true,
    "editable": true
   },
   "outputs": [],
   "source": [
    "df = df.rename(columns={'EVENT_MED_NAME': 'course_section_name',\n",
    "                        'CREDITS': 'credit_hours',\n",
    "                        'MAX_PARTICIPANT': 'maximum_enrollment_count',\n",
    "                        'START_DATE': 'start_dt',\n",
    "                        'END_DATE': 'end_dt',\n",
    "                        'CIP_CODE': 'course_cip_code',\n",
    "                        })\n"
   ]
  },
  {
   "cell_type": "code",
   "execution_count": 9,
   "metadata": {
    "collapsed": true,
    "deletable": true,
    "editable": true
   },
   "outputs": [],
   "source": [
    "crs_id = (lambda c: (str(c['EVENT_ID']).replace(' ', '') +\n",
    "                     str(c['EVENT_SUB_TYPE']).lower())\n",
    "          if ((c['EVENT_SUB_TYPE'] == 'LAB') | (c['EVENT_SUB_TYPE'] == 'SI'))\n",
    "          else (str(c['EVENT_ID']).replace(' ', ''))\n",
    "          )\n",
    "df.loc[:, 'course_id'] = df.apply(crs_id, axis=1)\n"
   ]
  },
  {
   "cell_type": "code",
   "execution_count": 10,
   "metadata": {
    "collapsed": false,
    "deletable": true,
    "editable": true
   },
   "outputs": [],
   "source": [
    "df.loc[:, 'course_section_id'] = (df['EVENT_ID'] + '.' +\n",
    "                                  df['EVENT_SUB_TYPE'] + '.' +\n",
    "                                  df['ACADEMIC_YEAR'] + '.' +\n",
    "                                  df['ACADEMIC_TERM'].str.title() + '.' +\n",
    "                                  df['SECTION']\n",
    "                                  )\n",
    "df.loc[:, 'integration_id'] = df.loc[:, 'course_section_id']\n"
   ]
  },
  {
   "cell_type": "code",
   "execution_count": 11,
   "metadata": {
    "collapsed": false,
    "deletable": true,
    "editable": true
   },
   "outputs": [],
   "source": [
    "term_id = (lambda c: (c['ACADEMIC_YEAR'] + '.' +\n",
    "                      str(c['ACADEMIC_TERM']).title())\n",
    "           if (c['ACADEMIC_SESSION'] == 'MAIN')\n",
    "           else (c['ACADEMIC_YEAR'] + '.' +\n",
    "                 str(c['ACADEMIC_TERM']).title() + '.' +\n",
    "                 c['ACADEMIC_SESSION'])\n",
    "           )\n",
    "df.loc[:, 'term_id'] = df.apply(term_id, axis=1)\n"
   ]
  },
  {
   "cell_type": "code",
   "execution_count": 12,
   "metadata": {
    "collapsed": true,
    "deletable": true,
    "editable": true
   },
   "outputs": [],
   "source": [
    "df['AY'] = (pd.to_numeric(df['ACADEMIC_YEAR'], errors='coerce')\n",
    "              .fillna(sections_begin_year).astype(np.int64))\n",
    "cat_yr = (lambda c: c['AY'] if (c['ACADEMIC_TERM'] == 'FALL')\n",
    "          else (c['AY'] - 1))\n",
    "df.loc[:, 'catalog_year'] = df.apply(cat_yr, axis=1)\n"
   ]
  },
  {
   "cell_type": "code",
   "execution_count": 13,
   "metadata": {
    "collapsed": false,
    "deletable": true,
    "editable": true
   },
   "outputs": [],
   "source": [
    "crs_sect_delv = (lambda c: '03'\n",
    "                 if str(c['SECTION'])[:2] == 'HY'\n",
    "                 else ('02' if str(c['SECTION'])[:2] == 'ON'\n",
    "                       else '01')\n",
    "                 )\n",
    "df.loc[:, 'course_section_delivery'] = df.apply(crs_sect_delv, axis=1)\n"
   ]
  },
  {
   "cell_type": "code",
   "execution_count": null,
   "metadata": {
    "collapsed": false,
    "deletable": true,
    "editable": true
   },
   "outputs": [],
   "source": [
    "print(df.shape)\n",
    "df.head()"
   ]
  },
  {
   "cell_type": "code",
   "execution_count": null,
   "metadata": {
    "collapsed": false,
    "deletable": true,
    "editable": true
   },
   "outputs": [],
   "source": [
    "df[(df['SECTION'].str[:2]=='HY')]"
   ]
  },
  {
   "cell_type": "code",
   "execution_count": 14,
   "metadata": {
    "collapsed": true,
    "deletable": true,
    "editable": true
   },
   "outputs": [],
   "source": [
    "crs_integ_id = (lambda c: (c['EVENT_ID'] + '.' + str(c['catalog_year']))\n",
    "                if (c['EVENT_SUB_TYPE'] == '')\n",
    "                else (c['EVENT_ID'] + '.' + c['EVENT_SUB_TYPE'] + '.' +\n",
    "                      str(c['catalog_year'])))\n",
    "df.loc[:, 'course_integration_id'] = df.apply(crs_integ_id, axis=1)\n"
   ]
  },
  {
   "cell_type": "code",
   "execution_count": null,
   "metadata": {
    "collapsed": false,
    "deletable": true,
    "editable": true
   },
   "outputs": [],
   "source": [
    "print(df.shape)\n",
    "df.head()"
   ]
  },
  {
   "cell_type": "code",
   "execution_count": 15,
   "metadata": {
    "collapsed": false,
    "deletable": true,
    "editable": true,
    "scrolled": true
   },
   "outputs": [
    {
     "name": "stdout",
     "output_type": "stream",
     "text": [
      "(652, 8)\n"
     ]
    }
   ],
   "source": [
    "# read course_catalog.txt to find the correct catalog year\n",
    "dfcat = pd.read_csv('../course_catalog/course_catalog.txt')\n",
    "print(dfcat.shape)"
   ]
  },
  {
   "cell_type": "code",
   "execution_count": null,
   "metadata": {
    "collapsed": false,
    "deletable": true,
    "editable": true
   },
   "outputs": [],
   "source": [
    "dfcat.head()"
   ]
  },
  {
   "cell_type": "code",
   "execution_count": 16,
   "metadata": {
    "collapsed": true,
    "deletable": true,
    "editable": true
   },
   "outputs": [],
   "source": [
    "dfcat = (dfcat[['course_id', 'integration_id']]\n",
    "         .rename({'integration_id': 'cat_integ_id'}, axis='columns')\n",
    "         )"
   ]
  },
  {
   "cell_type": "code",
   "execution_count": null,
   "metadata": {
    "collapsed": false,
    "deletable": true,
    "editable": true
   },
   "outputs": [],
   "source": [
    "print(dfcat.shape)\n",
    "dfcat.head()"
   ]
  },
  {
   "cell_type": "code",
   "execution_count": 17,
   "metadata": {
    "collapsed": true,
    "deletable": true,
    "editable": true
   },
   "outputs": [],
   "source": [
    "df = pd.merge(df, dfcat, on=['course_id'], how='left')"
   ]
  },
  {
   "cell_type": "code",
   "execution_count": null,
   "metadata": {
    "collapsed": false,
    "deletable": true,
    "editable": true
   },
   "outputs": [],
   "source": [
    "print(df.shape)\n",
    "df.head()"
   ]
  },
  {
   "cell_type": "code",
   "execution_count": 18,
   "metadata": {
    "collapsed": false,
    "deletable": true,
    "editable": true
   },
   "outputs": [],
   "source": [
    "df = (df.sort_values(['integration_id', 'course_integration_id'],\n",
    "                     ascending=[True, True]))\n",
    "\n",
    "# keep catalog_year before course year\n",
    "df = df.loc[(df['course_integration_id'] >= df['cat_integ_id'])]"
   ]
  },
  {
   "cell_type": "code",
   "execution_count": null,
   "metadata": {
    "collapsed": false,
    "deletable": true,
    "editable": true,
    "scrolled": true
   },
   "outputs": [],
   "source": [
    "print(df.shape)\n",
    "df.head(40)"
   ]
  },
  {
   "cell_type": "code",
   "execution_count": null,
   "metadata": {
    "collapsed": false,
    "deletable": true,
    "editable": true,
    "scrolled": false
   },
   "outputs": [],
   "source": [
    "df = (df.sort_values(['course_section_id', 'course_integration_id'],\n",
    "                     ascending=[True, True]))\n",
    "# df[df.duplicated(['integration_id'])]\n"
   ]
  },
  {
   "cell_type": "code",
   "execution_count": null,
   "metadata": {
    "collapsed": false,
    "deletable": true,
    "editable": true,
    "scrolled": true
   },
   "outputs": [],
   "source": [
    "print(df.shape)\n",
    "df.head(40)"
   ]
  },
  {
   "cell_type": "code",
   "execution_count": null,
   "metadata": {
    "collapsed": false,
    "deletable": true,
    "editable": true
   },
   "outputs": [],
   "source": [
    "df[df.duplicated(['integration_id'])]"
   ]
  },
  {
   "cell_type": "code",
   "execution_count": 20,
   "metadata": {
    "collapsed": false,
    "deletable": true,
    "editable": true,
    "scrolled": true
   },
   "outputs": [
    {
     "name": "stdout",
     "output_type": "stream",
     "text": [
      "(4414, 23)\n",
      "(4414, 23)\n"
     ]
    }
   ],
   "source": [
    "print(df.shape)\n",
    "df = (df.sort_values(['course_section_id', 'course_integration_id'],\n",
    "                     ascending=[True, True])\n",
    "      .drop_duplicates(['course_section_id'], keep='last')\n",
    "      )\n",
    "print(df.shape)"
   ]
  },
  {
   "cell_type": "code",
   "execution_count": null,
   "metadata": {
    "collapsed": false,
    "deletable": true,
    "editable": true,
    "scrolled": true
   },
   "outputs": [],
   "source": [
    "print(df.shape)\n",
    "df.head(40)"
   ]
  },
  {
   "cell_type": "code",
   "execution_count": 21,
   "metadata": {
    "collapsed": true,
    "deletable": true,
    "editable": true
   },
   "outputs": [],
   "source": [
    "df.loc[:, 'course_integration_id'] = df.loc[:, 'cat_integ_id']"
   ]
  },
  {
   "cell_type": "code",
   "execution_count": null,
   "metadata": {
    "collapsed": false,
    "deletable": true,
    "editable": true,
    "scrolled": true
   },
   "outputs": [],
   "source": [
    "print(df.shape)\n",
    "df.head(40)"
   ]
  },
  {
   "cell_type": "code",
   "execution_count": 22,
   "metadata": {
    "collapsed": false,
    "deletable": true,
    "editable": true,
    "scrolled": true
   },
   "outputs": [],
   "source": [
    "df = df.loc[:, ['integration_id', 'course_section_name', 'course_section_id',\n",
    "            'start_dt', 'end_dt', 'term_id', 'course_integration_id',\n",
    "            'course_section_delivery', 'maximum_enrollment_count',\n",
    "            'credit_hours',\n",
    "            ]]\n",
    "\n",
    "df = df.sort_values(['integration_id'])\n"
   ]
  },
  {
   "cell_type": "code",
   "execution_count": 23,
   "metadata": {
    "collapsed": false,
    "deletable": true,
    "editable": true
   },
   "outputs": [
    {
     "name": "stdout",
     "output_type": "stream",
     "text": [
      "(4414, 10)\n"
     ]
    },
    {
     "data": {
      "text/html": [
       "<div>\n",
       "<style scoped>\n",
       "    .dataframe tbody tr th:only-of-type {\n",
       "        vertical-align: middle;\n",
       "    }\n",
       "\n",
       "    .dataframe tbody tr th {\n",
       "        vertical-align: top;\n",
       "    }\n",
       "\n",
       "    .dataframe thead th {\n",
       "        text-align: right;\n",
       "    }\n",
       "</style>\n",
       "<table border=\"1\" class=\"dataframe\">\n",
       "  <thead>\n",
       "    <tr style=\"text-align: right;\">\n",
       "      <th></th>\n",
       "      <th>integration_id</th>\n",
       "      <th>course_section_name</th>\n",
       "      <th>course_section_id</th>\n",
       "      <th>start_dt</th>\n",
       "      <th>end_dt</th>\n",
       "      <th>term_id</th>\n",
       "      <th>course_integration_id</th>\n",
       "      <th>course_section_delivery</th>\n",
       "      <th>maximum_enrollment_count</th>\n",
       "      <th>credit_hours</th>\n",
       "    </tr>\n",
       "  </thead>\n",
       "  <tbody>\n",
       "    <tr>\n",
       "      <th>0</th>\n",
       "      <td>ACC 101.LEC.2011.Fall.01</td>\n",
       "      <td>Financial Accounting</td>\n",
       "      <td>ACC 101.LEC.2011.Fall.01</td>\n",
       "      <td>2011-08-31</td>\n",
       "      <td>2011-12-16</td>\n",
       "      <td>2011.Fall</td>\n",
       "      <td>ACC 101.LEC.2010</td>\n",
       "      <td>01</td>\n",
       "      <td>35</td>\n",
       "      <td>3.0</td>\n",
       "    </tr>\n",
       "    <tr>\n",
       "      <th>1</th>\n",
       "      <td>ACC 101.LEC.2011.Fall.02</td>\n",
       "      <td>Financial Accounting</td>\n",
       "      <td>ACC 101.LEC.2011.Fall.02</td>\n",
       "      <td>2011-08-31</td>\n",
       "      <td>2011-12-16</td>\n",
       "      <td>2011.Fall</td>\n",
       "      <td>ACC 101.LEC.2010</td>\n",
       "      <td>01</td>\n",
       "      <td>36</td>\n",
       "      <td>3.0</td>\n",
       "    </tr>\n",
       "    <tr>\n",
       "      <th>2</th>\n",
       "      <td>ACC 101.LEC.2011.Fall.03</td>\n",
       "      <td>Financial Accounting</td>\n",
       "      <td>ACC 101.LEC.2011.Fall.03</td>\n",
       "      <td>2011-08-31</td>\n",
       "      <td>2011-12-16</td>\n",
       "      <td>2011.Fall</td>\n",
       "      <td>ACC 101.LEC.2010</td>\n",
       "      <td>01</td>\n",
       "      <td>30</td>\n",
       "      <td>3.0</td>\n",
       "    </tr>\n",
       "    <tr>\n",
       "      <th>414</th>\n",
       "      <td>ACC 101.LEC.2011.Spring.01</td>\n",
       "      <td>Financial Accounting</td>\n",
       "      <td>ACC 101.LEC.2011.Spring.01</td>\n",
       "      <td>2011-01-24</td>\n",
       "      <td>2011-05-11</td>\n",
       "      <td>2011.Spring</td>\n",
       "      <td>ACC 101.LEC.2010</td>\n",
       "      <td>01</td>\n",
       "      <td>37</td>\n",
       "      <td>3.0</td>\n",
       "    </tr>\n",
       "    <tr>\n",
       "      <th>415</th>\n",
       "      <td>ACC 101.LEC.2011.Spring.02</td>\n",
       "      <td>Financial Accounting</td>\n",
       "      <td>ACC 101.LEC.2011.Spring.02</td>\n",
       "      <td>2011-01-24</td>\n",
       "      <td>2011-05-11</td>\n",
       "      <td>2011.Spring</td>\n",
       "      <td>ACC 101.LEC.2010</td>\n",
       "      <td>01</td>\n",
       "      <td>40</td>\n",
       "      <td>3.0</td>\n",
       "    </tr>\n",
       "  </tbody>\n",
       "</table>\n",
       "</div>"
      ],
      "text/plain": [
       "                 integration_id   course_section_name  \\\n",
       "0      ACC 101.LEC.2011.Fall.01  Financial Accounting   \n",
       "1      ACC 101.LEC.2011.Fall.02  Financial Accounting   \n",
       "2      ACC 101.LEC.2011.Fall.03  Financial Accounting   \n",
       "414  ACC 101.LEC.2011.Spring.01  Financial Accounting   \n",
       "415  ACC 101.LEC.2011.Spring.02  Financial Accounting   \n",
       "\n",
       "              course_section_id   start_dt     end_dt      term_id  \\\n",
       "0      ACC 101.LEC.2011.Fall.01 2011-08-31 2011-12-16    2011.Fall   \n",
       "1      ACC 101.LEC.2011.Fall.02 2011-08-31 2011-12-16    2011.Fall   \n",
       "2      ACC 101.LEC.2011.Fall.03 2011-08-31 2011-12-16    2011.Fall   \n",
       "414  ACC 101.LEC.2011.Spring.01 2011-01-24 2011-05-11  2011.Spring   \n",
       "415  ACC 101.LEC.2011.Spring.02 2011-01-24 2011-05-11  2011.Spring   \n",
       "\n",
       "    course_integration_id course_section_delivery  maximum_enrollment_count  \\\n",
       "0        ACC 101.LEC.2010                      01                        35   \n",
       "1        ACC 101.LEC.2010                      01                        36   \n",
       "2        ACC 101.LEC.2010                      01                        30   \n",
       "414      ACC 101.LEC.2010                      01                        37   \n",
       "415      ACC 101.LEC.2010                      01                        40   \n",
       "\n",
       "     credit_hours  \n",
       "0             3.0  \n",
       "1             3.0  \n",
       "2             3.0  \n",
       "414           3.0  \n",
       "415           3.0  "
      ]
     },
     "execution_count": 23,
     "metadata": {},
     "output_type": "execute_result"
    }
   ],
   "source": [
    "print(df.shape)\n",
    "df.head()"
   ]
  },
  {
   "cell_type": "code",
   "execution_count": 24,
   "metadata": {
    "collapsed": true,
    "deletable": true,
    "editable": true
   },
   "outputs": [],
   "source": [
    "today = datetime.now().strftime('%Y%m%d')\n",
    "fn_output = f'{today}_sections.txt'\n",
    "df.to_csv(fn_output, index=False)\n"
   ]
  },
  {
   "cell_type": "code",
   "execution_count": null,
   "metadata": {
    "collapsed": true,
    "deletable": true,
    "editable": true
   },
   "outputs": [],
   "source": []
  }
 ],
 "metadata": {
  "kernelspec": {
   "display_name": "Python 3",
   "language": "python",
   "name": "python3"
  },
  "language_info": {
   "codemirror_mode": {
    "name": "ipython",
    "version": 3
   },
   "file_extension": ".py",
   "mimetype": "text/x-python",
   "name": "python",
   "nbconvert_exporter": "python",
   "pygments_lexer": "ipython3",
   "version": "3.6.4"
  }
 },
 "nbformat": 4,
 "nbformat_minor": 2
}
