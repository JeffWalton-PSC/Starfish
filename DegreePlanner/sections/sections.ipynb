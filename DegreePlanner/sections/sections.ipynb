{
 "cells": [
  {
   "cell_type": "code",
   "execution_count": 1,
   "metadata": {
    "collapsed": false
   },
   "outputs": [],
   "source": [
    "import numpy as np\n",
    "import pandas as pd\n",
    "import os\n",
    "from datetime import date, datetime\n",
    "from sqlalchemy import create_engine\n"
   ]
  },
  {
   "cell_type": "code",
   "execution_count": 2,
   "metadata": {
    "collapsed": true
   },
   "outputs": [],
   "source": [
    "# local connection information\n",
    "db_user = os.environ.get('DB_USER')\n",
    "db_pass = os.environ.get('DB_PASS')\n",
    "engine = create_engine(f'mssql+pyodbc://{db_user}:{db_pass}' +\n",
    "                       '@PSC-SQLProd/Campus6?' +\n",
    "                       'driver=ODBC+Driver+13+for+SQL+Server')\n",
    "connection = engine.connect()\n"
   ]
  },
  {
   "cell_type": "code",
   "execution_count": 3,
   "metadata": {
    "collapsed": true
   },
   "outputs": [],
   "source": [
    "sections_begin_year = '2011'\n"
   ]
  },
  {
   "cell_type": "code",
   "execution_count": 4,
   "metadata": {
    "collapsed": true
   },
   "outputs": [],
   "source": [
    "sql_str = \"SELECT * FROM SECTIONS WHERE \" + \\\n",
    "          \"EVENT_SUB_TYPE NOT IN ('ADV') \" + \\\n",
    "          f\"AND ACADEMIC_YEAR >= '{sections_begin_year}' \" + \\\n",
    "          \"AND ACADEMIC_TERM IN ('FALL', 'SPRING', 'SUMMER') \" + \\\n",
    "          \"AND ACADEMIC_SESSION IN ('MAIN', 'CULN', 'EXT', 'FNRR', 'HEOP',\" + \\\n",
    "          \" 'SLAB', 'BLOCK A', 'BLOCK AB', 'BLOCK B') \"\n",
    "df_sections = pd.read_sql_query(sql_str, connection)\n"
   ]
  },
  {
   "cell_type": "code",
   "execution_count": 5,
   "metadata": {
    "collapsed": false
   },
   "outputs": [],
   "source": [
    "df = df_sections[['EVENT_ID', 'EVENT_SUB_TYPE', 'EVENT_MED_NAME',\n",
    "                   'SECTION', 'CREDITS', 'MAX_PARTICIPANT',\n",
    "                   'ACADEMIC_YEAR', 'ACADEMIC_TERM', 'ACADEMIC_SESSION',\n",
    "                   'START_DATE', 'END_DATE', 'CIP_CODE',\n",
    "                   'REVISION_DATE', 'REVISION_TIME',\n",
    "                   ]]\n"
   ]
  },
  {
   "cell_type": "markdown",
   "metadata": {},
   "source": [
    "print('ACADEMIC_TERM: ', df['ACADEMIC_TERM'].unique())"
   ]
  },
  {
   "cell_type": "markdown",
   "metadata": {},
   "source": [
    "print('ACADEMIC_SESSION: ', df['ACADEMIC_SESSION'].unique())"
   ]
  },
  {
   "cell_type": "code",
   "execution_count": 6,
   "metadata": {
    "collapsed": false
   },
   "outputs": [
    {
     "name": "stdout",
     "output_type": "stream",
     "text": [
      "(5049, 14)\n"
     ]
    },
    {
     "data": {
      "text/html": [
       "<div>\n",
       "<style scoped>\n",
       "    .dataframe tbody tr th:only-of-type {\n",
       "        vertical-align: middle;\n",
       "    }\n",
       "\n",
       "    .dataframe tbody tr th {\n",
       "        vertical-align: top;\n",
       "    }\n",
       "\n",
       "    .dataframe thead th {\n",
       "        text-align: right;\n",
       "    }\n",
       "</style>\n",
       "<table border=\"1\" class=\"dataframe\">\n",
       "  <thead>\n",
       "    <tr style=\"text-align: right;\">\n",
       "      <th></th>\n",
       "      <th>EVENT_ID</th>\n",
       "      <th>EVENT_SUB_TYPE</th>\n",
       "      <th>EVENT_MED_NAME</th>\n",
       "      <th>SECTION</th>\n",
       "      <th>CREDITS</th>\n",
       "      <th>MAX_PARTICIPANT</th>\n",
       "      <th>ACADEMIC_YEAR</th>\n",
       "      <th>ACADEMIC_TERM</th>\n",
       "      <th>ACADEMIC_SESSION</th>\n",
       "      <th>START_DATE</th>\n",
       "      <th>END_DATE</th>\n",
       "      <th>CIP_CODE</th>\n",
       "      <th>REVISION_DATE</th>\n",
       "      <th>REVISION_TIME</th>\n",
       "    </tr>\n",
       "  </thead>\n",
       "  <tbody>\n",
       "    <tr>\n",
       "      <th>0</th>\n",
       "      <td>ACC 101</td>\n",
       "      <td>LEC</td>\n",
       "      <td>Financial Accounting</td>\n",
       "      <td>01</td>\n",
       "      <td>3.0</td>\n",
       "      <td>35</td>\n",
       "      <td>2011</td>\n",
       "      <td>FALL</td>\n",
       "      <td>MAIN</td>\n",
       "      <td>2011-08-31</td>\n",
       "      <td>2011-12-16</td>\n",
       "      <td></td>\n",
       "      <td>2013-08-19</td>\n",
       "      <td>1900-01-01 12:26:41.477</td>\n",
       "    </tr>\n",
       "    <tr>\n",
       "      <th>1</th>\n",
       "      <td>ACC 101</td>\n",
       "      <td>LEC</td>\n",
       "      <td>Financial Accounting</td>\n",
       "      <td>02</td>\n",
       "      <td>3.0</td>\n",
       "      <td>36</td>\n",
       "      <td>2011</td>\n",
       "      <td>FALL</td>\n",
       "      <td>MAIN</td>\n",
       "      <td>2011-08-31</td>\n",
       "      <td>2011-12-16</td>\n",
       "      <td></td>\n",
       "      <td>2012-05-07</td>\n",
       "      <td>1900-01-01 13:59:40.743</td>\n",
       "    </tr>\n",
       "    <tr>\n",
       "      <th>2</th>\n",
       "      <td>ACC 101</td>\n",
       "      <td>LEC</td>\n",
       "      <td>Financial Accounting</td>\n",
       "      <td>03</td>\n",
       "      <td>3.0</td>\n",
       "      <td>30</td>\n",
       "      <td>2011</td>\n",
       "      <td>FALL</td>\n",
       "      <td>MAIN</td>\n",
       "      <td>2011-08-31</td>\n",
       "      <td>2011-12-16</td>\n",
       "      <td>None</td>\n",
       "      <td>2011-12-16</td>\n",
       "      <td>1900-01-01 17:22:31.393</td>\n",
       "    </tr>\n",
       "    <tr>\n",
       "      <th>3</th>\n",
       "      <td>ACC 201</td>\n",
       "      <td>LEC</td>\n",
       "      <td>Small Bus Acct</td>\n",
       "      <td>01</td>\n",
       "      <td>3.0</td>\n",
       "      <td>0</td>\n",
       "      <td>2011</td>\n",
       "      <td>FALL</td>\n",
       "      <td>MAIN</td>\n",
       "      <td>2011-08-31</td>\n",
       "      <td>2011-12-16</td>\n",
       "      <td>None</td>\n",
       "      <td>2011-09-28</td>\n",
       "      <td>1900-01-01 13:25:25.420</td>\n",
       "    </tr>\n",
       "    <tr>\n",
       "      <th>4</th>\n",
       "      <td>ACC 301</td>\n",
       "      <td>LEC</td>\n",
       "      <td>Small Business Acc</td>\n",
       "      <td>01</td>\n",
       "      <td>3.0</td>\n",
       "      <td>25</td>\n",
       "      <td>2011</td>\n",
       "      <td>FALL</td>\n",
       "      <td>MAIN</td>\n",
       "      <td>2011-08-31</td>\n",
       "      <td>2011-12-16</td>\n",
       "      <td>None</td>\n",
       "      <td>2012-01-19</td>\n",
       "      <td>1900-01-01 12:47:48.237</td>\n",
       "    </tr>\n",
       "  </tbody>\n",
       "</table>\n",
       "</div>"
      ],
      "text/plain": [
       "  EVENT_ID EVENT_SUB_TYPE        EVENT_MED_NAME SECTION  CREDITS  \\\n",
       "0  ACC 101            LEC  Financial Accounting      01      3.0   \n",
       "1  ACC 101            LEC  Financial Accounting      02      3.0   \n",
       "2  ACC 101            LEC  Financial Accounting      03      3.0   \n",
       "3  ACC 201            LEC        Small Bus Acct      01      3.0   \n",
       "4  ACC 301            LEC    Small Business Acc      01      3.0   \n",
       "\n",
       "   MAX_PARTICIPANT ACADEMIC_YEAR ACADEMIC_TERM ACADEMIC_SESSION START_DATE  \\\n",
       "0               35          2011          FALL             MAIN 2011-08-31   \n",
       "1               36          2011          FALL             MAIN 2011-08-31   \n",
       "2               30          2011          FALL             MAIN 2011-08-31   \n",
       "3                0          2011          FALL             MAIN 2011-08-31   \n",
       "4               25          2011          FALL             MAIN 2011-08-31   \n",
       "\n",
       "    END_DATE CIP_CODE REVISION_DATE           REVISION_TIME  \n",
       "0 2011-12-16             2013-08-19 1900-01-01 12:26:41.477  \n",
       "1 2011-12-16             2012-05-07 1900-01-01 13:59:40.743  \n",
       "2 2011-12-16     None    2011-12-16 1900-01-01 17:22:31.393  \n",
       "3 2011-12-16     None    2011-09-28 1900-01-01 13:25:25.420  \n",
       "4 2011-12-16     None    2012-01-19 1900-01-01 12:47:48.237  "
      ]
     },
     "execution_count": 6,
     "metadata": {},
     "output_type": "execute_result"
    }
   ],
   "source": [
    "print(df.shape)\n",
    "df.head()"
   ]
  },
  {
   "cell_type": "code",
   "execution_count": 7,
   "metadata": {
    "collapsed": true
   },
   "outputs": [],
   "source": [
    "df = df[~(df['EVENT_ID'].str.contains('REG', case=False))]\n",
    "df = df[~(df['EVENT_ID'].str.contains('STDY', case=False))]\n"
   ]
  },
  {
   "cell_type": "code",
   "execution_count": 8,
   "metadata": {
    "collapsed": false
   },
   "outputs": [
    {
     "name": "stdout",
     "output_type": "stream",
     "text": [
      "(4855, 14)\n"
     ]
    }
   ],
   "source": [
    "print(df.shape)\n"
   ]
  },
  {
   "cell_type": "code",
   "execution_count": 9,
   "metadata": {
    "collapsed": false
   },
   "outputs": [],
   "source": [
    "df = df.rename(columns={'EVENT_MED_NAME': 'course_section_name',\n",
    "                        'CREDITS': 'credit_hours',\n",
    "                        'MAX_PARTICIPANT': 'maximum_enrollment_count',\n",
    "                        'START_DATE': 'start_dt',\n",
    "                        'END_DATE': 'end_dt',\n",
    "                        'CIP_CODE': 'course_cip_code',\n",
    "                        })\n"
   ]
  },
  {
   "cell_type": "code",
   "execution_count": null,
   "metadata": {
    "collapsed": true
   },
   "outputs": [],
   "source": [
    "df.loc[:, 'course_id'] = df.loc[:, 'EVENT_ID'].str.replace(' ', '')\n"
   ]
  },
  {
   "cell_type": "code",
   "execution_count": null,
   "metadata": {
    "collapsed": false
   },
   "outputs": [],
   "source": [
    "df.loc[:, 'course_section_id'] = (df['EVENT_ID'] + '.' +\n",
    "                                  df['EVENT_SUB_TYPE'] + '.' +\n",
    "                                  df['ACADEMIC_YEAR'] + '.' +\n",
    "                                  df['ACADEMIC_TERM'].str.title() + '.' +\n",
    "                                  df['SECTION']\n",
    "                                  )\n",
    "df.loc[:, 'integration_id'] = df.loc[:, 'course_section_id']\n"
   ]
  },
  {
   "cell_type": "code",
   "execution_count": null,
   "metadata": {
    "collapsed": false
   },
   "outputs": [],
   "source": [
    "term_id = (lambda c: (c['ACADEMIC_YEAR'] + '.' +\n",
    "                      str(c['ACADEMIC_TERM']).title())\n",
    "           if (c['ACADEMIC_SESSION'] == 'MAIN')\n",
    "           else (c['ACADEMIC_YEAR'] + '.' +\n",
    "                 str(c['ACADEMIC_TERM']).title() + '.' +\n",
    "                 c['ACADEMIC_SESSION'])\n",
    "           )\n",
    "df.loc[:, 'term_id'] = df.apply(term_id, axis=1)\n"
   ]
  },
  {
   "cell_type": "code",
   "execution_count": null,
   "metadata": {
    "collapsed": true
   },
   "outputs": [],
   "source": [
    "df['AY'] = (pd.to_numeric(df['ACADEMIC_YEAR'], errors='coerce')\n",
    "              .fillna(sections_begin_year).astype(np.int64))\n",
    "cat_yr = (lambda c: c['AY'] if (c['ACADEMIC_TERM'] == 'FALL')\n",
    "          else (c['AY'] - 1))\n",
    "df.loc[:, 'catalog_year'] = df.apply(cat_yr, axis=1)\n"
   ]
  },
  {
   "cell_type": "code",
   "execution_count": null,
   "metadata": {
    "collapsed": false
   },
   "outputs": [],
   "source": [
    "crs_sect_delv = (lambda c: '03'\n",
    "                 if str(c['SECTION'])[:2] == 'HY'\n",
    "                 else ('02' if str(c['SECTION'])[:2] == 'ON'\n",
    "                       else '01')\n",
    "                 )\n",
    "df.loc[:, 'course_section_delivery'] = df.apply(crs_sect_delv, axis=1)\n"
   ]
  },
  {
   "cell_type": "code",
   "execution_count": null,
   "metadata": {
    "collapsed": false
   },
   "outputs": [],
   "source": [
    "print(df.shape)\n",
    "df.head()"
   ]
  },
  {
   "cell_type": "code",
   "execution_count": null,
   "metadata": {
    "collapsed": false
   },
   "outputs": [],
   "source": [
    "df[(df['SECTION'].str[:2]=='HY')]"
   ]
  },
  {
   "cell_type": "code",
   "execution_count": null,
   "metadata": {
    "collapsed": true
   },
   "outputs": [],
   "source": [
    "crs_integ_id = (lambda c: (c['EVENT_ID'] + '.' + str(c['catalog_year']))\n",
    "                if (c['EVENT_SUB_TYPE'] == '')\n",
    "                else (c['EVENT_ID'] + '.' + c['EVENT_SUB_TYPE'] + '.' +\n",
    "                      str(c['catalog_year'])))\n",
    "df.loc[:, 'course_integration_id'] = df.apply(crs_integ_id, axis=1)\n"
   ]
  },
  {
   "cell_type": "code",
   "execution_count": null,
   "metadata": {
    "collapsed": false
   },
   "outputs": [],
   "source": [
    "print(df.shape)\n",
    "df.head()"
   ]
  },
  {
   "cell_type": "code",
   "execution_count": null,
   "metadata": {
    "collapsed": false,
    "scrolled": true
   },
   "outputs": [],
   "source": [
    "# read course_catalog.txt to find the correct catalog year\n",
    "dfcat = pd.read_csv('../course_catalog/course_catalog.txt')\n",
    "print(dfcat.shape)"
   ]
  },
  {
   "cell_type": "code",
   "execution_count": null,
   "metadata": {
    "collapsed": false
   },
   "outputs": [],
   "source": [
    "dfcat.head()"
   ]
  },
  {
   "cell_type": "code",
   "execution_count": null,
   "metadata": {
    "collapsed": true
   },
   "outputs": [],
   "source": [
    "dfcat = (dfcat[['course_id', 'integration_id']]\n",
    "         .rename({'integration_id': 'cat_integ_id'}, axis='columns')\n",
    "        )"
   ]
  },
  {
   "cell_type": "code",
   "execution_count": null,
   "metadata": {
    "collapsed": false
   },
   "outputs": [],
   "source": [
    "print(dfcat.shape)\n",
    "dfcat.head()"
   ]
  },
  {
   "cell_type": "code",
   "execution_count": null,
   "metadata": {
    "collapsed": true
   },
   "outputs": [],
   "source": [
    "df = pd.merge(df, dfcat, on=['course_id'], how='left')"
   ]
  },
  {
   "cell_type": "code",
   "execution_count": null,
   "metadata": {
    "collapsed": false
   },
   "outputs": [],
   "source": [
    "print(df.shape)\n",
    "df.head()"
   ]
  },
  {
   "cell_type": "code",
   "execution_count": null,
   "metadata": {
    "collapsed": false
   },
   "outputs": [],
   "source": [
    "df = (df.sort_values(['integration_id', 'course_integration_id'],\n",
    "                     ascending=[True, True]))\n",
    "\n",
    "df = df.loc[(df['course_integration_id'] >= df['cat_integ_id'])]"
   ]
  },
  {
   "cell_type": "code",
   "execution_count": null,
   "metadata": {
    "collapsed": false
   },
   "outputs": [],
   "source": [
    "print(df.shape)\n",
    "df.head()"
   ]
  },
  {
   "cell_type": "code",
   "execution_count": null,
   "metadata": {
    "collapsed": false,
    "scrolled": true
   },
   "outputs": [],
   "source": [
    "df = (df.sort_values(['course_section_id', 'course_integration_id'],\n",
    "                     ascending=[True, True]))\n",
    "df[df.duplicated(['integration_id'])]\n"
   ]
  },
  {
   "cell_type": "code",
   "execution_count": null,
   "metadata": {
    "collapsed": false
   },
   "outputs": [],
   "source": [
    "print(df.shape)\n",
    "df = (df.sort_values(['course_section_id', 'course_integration_id'],\n",
    "                     ascending=[True, True])\n",
    "      .drop_duplicates(['course_section_id'], keep='last')\n",
    "      )\n",
    "print(df.shape)"
   ]
  },
  {
   "cell_type": "code",
   "execution_count": null,
   "metadata": {
    "collapsed": false
   },
   "outputs": [],
   "source": [
    "df = df.loc[:, ['integration_id', 'course_section_name', 'course_section_id',\n",
    "            'start_dt', 'end_dt', 'term_id', 'course_integration_id',\n",
    "            'course_section_delivery', 'maximum_enrollment_count',\n",
    "            'credit_hours',\n",
    "            ]]\n",
    "\n",
    "df = df.sort_values(['integration_id'])\n"
   ]
  },
  {
   "cell_type": "code",
   "execution_count": null,
   "metadata": {
    "collapsed": false
   },
   "outputs": [],
   "source": [
    "print(df.shape)\n",
    "df.head()"
   ]
  },
  {
   "cell_type": "code",
   "execution_count": null,
   "metadata": {
    "collapsed": true
   },
   "outputs": [],
   "source": [
    "today = datetime.now().strftime('%Y%m%d')\n",
    "fn_output = f'{today}_sections.txt'\n",
    "df.to_csv(fn_output, index=False)\n"
   ]
  },
  {
   "cell_type": "code",
   "execution_count": null,
   "metadata": {
    "collapsed": true
   },
   "outputs": [],
   "source": []
  }
 ],
 "metadata": {
  "kernelspec": {
   "display_name": "Python 3",
   "language": "python",
   "name": "python3"
  },
  "language_info": {
   "codemirror_mode": {
    "name": "ipython",
    "version": 3
   },
   "file_extension": ".py",
   "mimetype": "text/x-python",
   "name": "python",
   "nbconvert_exporter": "python",
   "pygments_lexer": "ipython3",
   "version": "3.6.4"
  }
 },
 "nbformat": 4,
 "nbformat_minor": 2
}
