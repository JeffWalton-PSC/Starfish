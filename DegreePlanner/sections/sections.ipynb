{
 "cells": [
  {
   "cell_type": "code",
   "execution_count": 1,
   "metadata": {
    "collapsed": false,
    "deletable": true,
    "editable": true,
    "jupyter": {
     "outputs_hidden": false
    }
   },
   "outputs": [],
   "source": [
    "import numpy as np\n",
    "import pandas as pd\n",
    "from datetime import date, datetime\n"
   ]
  },
  {
   "cell_type": "code",
   "execution_count": 2,
   "metadata": {
    "deletable": true,
    "editable": true
   },
   "outputs": [],
   "source": [
    "# local connection information\n",
    "import local_db\n",
    "\n",
    "connection = local_db.connection()\n"
   ]
  },
  {
   "cell_type": "code",
   "execution_count": 3,
   "metadata": {
    "deletable": true,
    "editable": true
   },
   "outputs": [],
   "source": [
    "sections_begin_year = \"2011\"\n"
   ]
  },
  {
   "cell_type": "code",
   "execution_count": 4,
   "metadata": {
    "deletable": true,
    "editable": true
   },
   "outputs": [],
   "source": [
    "sql_str = (\n",
    "    \"SELECT * FROM SECTIONS WHERE \"\n",
    "    + \"EVENT_SUB_TYPE NOT IN ('ADV') \"\n",
    "    + f\"AND ACADEMIC_YEAR >= '{sections_begin_year}' \"\n",
    "    + \"AND ACADEMIC_TERM IN ('FALL', 'SPRING', 'SUMMER') \"\n",
    "    + \"AND ACADEMIC_SESSION IN ('MAIN', 'CULN', 'EXT', 'FNRR', 'HEOP',\"\n",
    "    + \" 'SLAB', 'BLOCK A', 'BLOCK AB', 'BLOCK B') \"\n",
    ")\n",
    "df_sections = pd.read_sql_query(sql_str, connection)\n"
   ]
  },
  {
   "cell_type": "code",
   "execution_count": 5,
   "metadata": {
    "collapsed": false,
    "deletable": true,
    "editable": true,
    "jupyter": {
     "outputs_hidden": false
    }
   },
   "outputs": [],
   "source": [
    "df = df_sections[\n",
    "    [\n",
    "        \"EVENT_ID\",\n",
    "        \"EVENT_SUB_TYPE\",\n",
    "        \"EVENT_MED_NAME\",\n",
    "        \"SECTION\",\n",
    "        \"CREDITS\",\n",
    "        \"MAX_PARTICIPANT\",\n",
    "        \"ACADEMIC_YEAR\",\n",
    "        \"ACADEMIC_TERM\",\n",
    "        \"ACADEMIC_SESSION\",\n",
    "        \"START_DATE\",\n",
    "        \"END_DATE\",\n",
    "        \"CIP_CODE\",\n",
    "        \"REVISION_DATE\",\n",
    "        \"REVISION_TIME\",\n",
    "    ]\n",
    "]\n"
   ]
  },
  {
   "cell_type": "markdown",
   "metadata": {
    "deletable": true,
    "editable": true
   },
   "source": [
    "print(\"ACADEMIC_TERM: \", df[\"ACADEMIC_TERM\"].unique())\n"
   ]
  },
  {
   "cell_type": "markdown",
   "metadata": {
    "deletable": true,
    "editable": true
   },
   "source": [
    "print(\"ACADEMIC_SESSION: \", df[\"ACADEMIC_SESSION\"].unique())\n"
   ]
  },
  {
   "cell_type": "code",
   "execution_count": 6,
   "metadata": {
    "collapsed": false,
    "deletable": true,
    "editable": true,
    "jupyter": {
     "outputs_hidden": false
    }
   },
   "outputs": [
    {
     "name": "stdout",
     "output_type": "stream",
     "text": [
      "(6150, 14)\n"
     ]
    },
    {
     "data": {
      "text/html": [
       "<div>\n",
       "<style scoped>\n",
       "    .dataframe tbody tr th:only-of-type {\n",
       "        vertical-align: middle;\n",
       "    }\n",
       "\n",
       "    .dataframe tbody tr th {\n",
       "        vertical-align: top;\n",
       "    }\n",
       "\n",
       "    .dataframe thead th {\n",
       "        text-align: right;\n",
       "    }\n",
       "</style>\n",
       "<table border=\"1\" class=\"dataframe\">\n",
       "  <thead>\n",
       "    <tr style=\"text-align: right;\">\n",
       "      <th></th>\n",
       "      <th>EVENT_ID</th>\n",
       "      <th>EVENT_SUB_TYPE</th>\n",
       "      <th>EVENT_MED_NAME</th>\n",
       "      <th>SECTION</th>\n",
       "      <th>CREDITS</th>\n",
       "      <th>MAX_PARTICIPANT</th>\n",
       "      <th>ACADEMIC_YEAR</th>\n",
       "      <th>ACADEMIC_TERM</th>\n",
       "      <th>ACADEMIC_SESSION</th>\n",
       "      <th>START_DATE</th>\n",
       "      <th>END_DATE</th>\n",
       "      <th>CIP_CODE</th>\n",
       "      <th>REVISION_DATE</th>\n",
       "      <th>REVISION_TIME</th>\n",
       "    </tr>\n",
       "  </thead>\n",
       "  <tbody>\n",
       "    <tr>\n",
       "      <th>0</th>\n",
       "      <td>ACC 101</td>\n",
       "      <td>LEC</td>\n",
       "      <td>Financial Accounting</td>\n",
       "      <td>01</td>\n",
       "      <td>3.0</td>\n",
       "      <td>35</td>\n",
       "      <td>2011</td>\n",
       "      <td>FALL</td>\n",
       "      <td>MAIN</td>\n",
       "      <td>2011-08-31</td>\n",
       "      <td>2011-12-16</td>\n",
       "      <td></td>\n",
       "      <td>2013-08-19</td>\n",
       "      <td>1900-01-01 12:26:41.477</td>\n",
       "    </tr>\n",
       "    <tr>\n",
       "      <th>1</th>\n",
       "      <td>ACC 101</td>\n",
       "      <td>LEC</td>\n",
       "      <td>Financial Accounting</td>\n",
       "      <td>02</td>\n",
       "      <td>3.0</td>\n",
       "      <td>36</td>\n",
       "      <td>2011</td>\n",
       "      <td>FALL</td>\n",
       "      <td>MAIN</td>\n",
       "      <td>2011-08-31</td>\n",
       "      <td>2011-12-16</td>\n",
       "      <td></td>\n",
       "      <td>2012-05-07</td>\n",
       "      <td>1900-01-01 13:59:40.743</td>\n",
       "    </tr>\n",
       "    <tr>\n",
       "      <th>2</th>\n",
       "      <td>ACC 101</td>\n",
       "      <td>LEC</td>\n",
       "      <td>Financial Accounting</td>\n",
       "      <td>03</td>\n",
       "      <td>3.0</td>\n",
       "      <td>30</td>\n",
       "      <td>2011</td>\n",
       "      <td>FALL</td>\n",
       "      <td>MAIN</td>\n",
       "      <td>2011-08-31</td>\n",
       "      <td>2011-12-16</td>\n",
       "      <td>None</td>\n",
       "      <td>2011-12-16</td>\n",
       "      <td>1900-01-01 17:22:31.393</td>\n",
       "    </tr>\n",
       "    <tr>\n",
       "      <th>3</th>\n",
       "      <td>ACC 201</td>\n",
       "      <td>LEC</td>\n",
       "      <td>Small Bus Acct</td>\n",
       "      <td>01</td>\n",
       "      <td>3.0</td>\n",
       "      <td>0</td>\n",
       "      <td>2011</td>\n",
       "      <td>FALL</td>\n",
       "      <td>MAIN</td>\n",
       "      <td>2011-08-31</td>\n",
       "      <td>2011-12-16</td>\n",
       "      <td>None</td>\n",
       "      <td>2011-09-28</td>\n",
       "      <td>1900-01-01 13:25:25.420</td>\n",
       "    </tr>\n",
       "    <tr>\n",
       "      <th>4</th>\n",
       "      <td>ACC 301</td>\n",
       "      <td>LEC</td>\n",
       "      <td>Small Business Acc</td>\n",
       "      <td>01</td>\n",
       "      <td>3.0</td>\n",
       "      <td>25</td>\n",
       "      <td>2011</td>\n",
       "      <td>FALL</td>\n",
       "      <td>MAIN</td>\n",
       "      <td>2011-08-31</td>\n",
       "      <td>2011-12-16</td>\n",
       "      <td>None</td>\n",
       "      <td>2012-01-19</td>\n",
       "      <td>1900-01-01 12:47:48.237</td>\n",
       "    </tr>\n",
       "  </tbody>\n",
       "</table>\n",
       "</div>"
      ],
      "text/plain": [
       "  EVENT_ID EVENT_SUB_TYPE        EVENT_MED_NAME SECTION  CREDITS  \\\n",
       "0  ACC 101            LEC  Financial Accounting      01      3.0   \n",
       "1  ACC 101            LEC  Financial Accounting      02      3.0   \n",
       "2  ACC 101            LEC  Financial Accounting      03      3.0   \n",
       "3  ACC 201            LEC        Small Bus Acct      01      3.0   \n",
       "4  ACC 301            LEC    Small Business Acc      01      3.0   \n",
       "\n",
       "   MAX_PARTICIPANT ACADEMIC_YEAR ACADEMIC_TERM ACADEMIC_SESSION START_DATE  \\\n",
       "0               35          2011          FALL             MAIN 2011-08-31   \n",
       "1               36          2011          FALL             MAIN 2011-08-31   \n",
       "2               30          2011          FALL             MAIN 2011-08-31   \n",
       "3                0          2011          FALL             MAIN 2011-08-31   \n",
       "4               25          2011          FALL             MAIN 2011-08-31   \n",
       "\n",
       "    END_DATE CIP_CODE REVISION_DATE           REVISION_TIME  \n",
       "0 2011-12-16             2013-08-19 1900-01-01 12:26:41.477  \n",
       "1 2011-12-16             2012-05-07 1900-01-01 13:59:40.743  \n",
       "2 2011-12-16     None    2011-12-16 1900-01-01 17:22:31.393  \n",
       "3 2011-12-16     None    2011-09-28 1900-01-01 13:25:25.420  \n",
       "4 2011-12-16     None    2012-01-19 1900-01-01 12:47:48.237  "
      ]
     },
     "execution_count": 6,
     "metadata": {},
     "output_type": "execute_result"
    }
   ],
   "source": [
    "print(df.shape)\n",
    "df.head()\n"
   ]
  },
  {
   "cell_type": "code",
   "execution_count": 7,
   "metadata": {
    "deletable": true,
    "editable": true
   },
   "outputs": [],
   "source": [
    "df = df[~(df[\"EVENT_ID\"].str.contains(\"REG\", case=False))]\n",
    "df = df[~(df[\"EVENT_ID\"].str.contains(\"STDY\", case=False))]\n"
   ]
  },
  {
   "cell_type": "code",
   "execution_count": 8,
   "metadata": {
    "collapsed": false,
    "deletable": true,
    "editable": true,
    "jupyter": {
     "outputs_hidden": false
    }
   },
   "outputs": [
    {
     "name": "stdout",
     "output_type": "stream",
     "text": [
      "(5920, 14)\n"
     ]
    }
   ],
   "source": [
    "print(df.shape)\n"
   ]
  },
  {
   "cell_type": "code",
   "execution_count": 9,
   "metadata": {
    "collapsed": false,
    "deletable": true,
    "editable": true,
    "jupyter": {
     "outputs_hidden": false
    }
   },
   "outputs": [],
   "source": [
    "df = df.rename(\n",
    "    columns={\n",
    "        \"EVENT_MED_NAME\": \"course_section_name\",\n",
    "        \"CREDITS\": \"credit_hours\",\n",
    "        \"MAX_PARTICIPANT\": \"maximum_enrollment_count\",\n",
    "        \"START_DATE\": \"start_dt\",\n",
    "        \"END_DATE\": \"end_dt\",\n",
    "        \"CIP_CODE\": \"course_cip_code\",\n",
    "    }\n",
    ")\n"
   ]
  },
  {
   "cell_type": "code",
   "execution_count": 10,
   "metadata": {
    "deletable": true,
    "editable": true
   },
   "outputs": [],
   "source": [
    "crs_id = (\n",
    "    lambda c: (str(c[\"EVENT_ID\"]).replace(\" \", \"\") + str(c[\"EVENT_SUB_TYPE\"]).upper())\n",
    "    if ((c[\"EVENT_SUB_TYPE\"] == \"LAB\") | (c[\"EVENT_SUB_TYPE\"] == \"SI\"))\n",
    "    else (str(c[\"EVENT_ID\"]).replace(\" \", \"\"))\n",
    ")\n",
    "df.loc[:, \"course_id\"] = df.apply(crs_id, axis=1)\n"
   ]
  },
  {
   "cell_type": "code",
   "execution_count": 11,
   "metadata": {
    "collapsed": false,
    "deletable": true,
    "editable": true,
    "jupyter": {
     "outputs_hidden": false
    }
   },
   "outputs": [],
   "source": [
    "df.loc[:, \"course_section_id\"] = (\n",
    "    df[\"EVENT_ID\"]\n",
    "    + \".\"\n",
    "    + df[\"EVENT_SUB_TYPE\"]\n",
    "    + \".\"\n",
    "    + df[\"ACADEMIC_YEAR\"]\n",
    "    + \".\"\n",
    "    + df[\"ACADEMIC_TERM\"].str.title()\n",
    "    + \".\"\n",
    "    + df[\"SECTION\"]\n",
    ")\n",
    "df.loc[:, \"integration_id\"] = df.loc[:, \"course_section_id\"]\n"
   ]
  },
  {
   "cell_type": "code",
   "execution_count": 12,
   "metadata": {
    "collapsed": false,
    "deletable": true,
    "editable": true,
    "jupyter": {
     "outputs_hidden": false
    }
   },
   "outputs": [],
   "source": [
    "term_id = (\n",
    "    lambda c: (c[\"ACADEMIC_YEAR\"] + \".\" + str(c[\"ACADEMIC_TERM\"]).title())\n",
    "    if (c[\"ACADEMIC_SESSION\"] == \"MAIN\")\n",
    "    else (\n",
    "        c[\"ACADEMIC_YEAR\"]\n",
    "        + \".\"\n",
    "        + str(c[\"ACADEMIC_TERM\"]).title()\n",
    "        + \".\"\n",
    "        + c[\"ACADEMIC_SESSION\"]\n",
    "    )\n",
    ")\n",
    "df.loc[:, \"term_id\"] = df.apply(term_id, axis=1)\n"
   ]
  },
  {
   "cell_type": "code",
   "execution_count": 13,
   "metadata": {
    "deletable": true,
    "editable": true
   },
   "outputs": [],
   "source": [
    "df[\"AY\"] = (\n",
    "    pd.to_numeric(df[\"ACADEMIC_YEAR\"], errors=\"coerce\")\n",
    "    .fillna(sections_begin_year)\n",
    "    .astype(np.int64)\n",
    ")\n",
    "cat_yr = lambda c: c[\"AY\"] if (c[\"ACADEMIC_TERM\"] == \"FALL\") else (c[\"AY\"] - 1)\n",
    "df.loc[:, \"catalog_year\"] = df.apply(cat_yr, axis=1)\n"
   ]
  },
  {
   "cell_type": "code",
   "execution_count": 14,
   "metadata": {
    "collapsed": false,
    "deletable": true,
    "editable": true,
    "jupyter": {
     "outputs_hidden": false
    }
   },
   "outputs": [],
   "source": [
    "crs_sect_delv = (\n",
    "    lambda c: \"03\"\n",
    "    if str(c[\"SECTION\"])[:2] == \"HY\"\n",
    "    else (\"02\" if str(c[\"SECTION\"])[:2] == \"ON\" else \"01\")\n",
    ")\n",
    "df.loc[:, \"course_section_delivery\"] = df.apply(crs_sect_delv, axis=1)\n"
   ]
  },
  {
   "cell_type": "code",
   "execution_count": 15,
   "metadata": {
    "collapsed": false,
    "deletable": true,
    "editable": true,
    "jupyter": {
     "outputs_hidden": false
    }
   },
   "outputs": [
    {
     "name": "stdout",
     "output_type": "stream",
     "text": [
      "(5920, 21)\n"
     ]
    },
    {
     "data": {
      "text/html": [
       "<div>\n",
       "<style scoped>\n",
       "    .dataframe tbody tr th:only-of-type {\n",
       "        vertical-align: middle;\n",
       "    }\n",
       "\n",
       "    .dataframe tbody tr th {\n",
       "        vertical-align: top;\n",
       "    }\n",
       "\n",
       "    .dataframe thead th {\n",
       "        text-align: right;\n",
       "    }\n",
       "</style>\n",
       "<table border=\"1\" class=\"dataframe\">\n",
       "  <thead>\n",
       "    <tr style=\"text-align: right;\">\n",
       "      <th></th>\n",
       "      <th>EVENT_ID</th>\n",
       "      <th>EVENT_SUB_TYPE</th>\n",
       "      <th>course_section_name</th>\n",
       "      <th>SECTION</th>\n",
       "      <th>credit_hours</th>\n",
       "      <th>maximum_enrollment_count</th>\n",
       "      <th>ACADEMIC_YEAR</th>\n",
       "      <th>ACADEMIC_TERM</th>\n",
       "      <th>ACADEMIC_SESSION</th>\n",
       "      <th>start_dt</th>\n",
       "      <th>...</th>\n",
       "      <th>course_cip_code</th>\n",
       "      <th>REVISION_DATE</th>\n",
       "      <th>REVISION_TIME</th>\n",
       "      <th>course_id</th>\n",
       "      <th>course_section_id</th>\n",
       "      <th>integration_id</th>\n",
       "      <th>term_id</th>\n",
       "      <th>AY</th>\n",
       "      <th>catalog_year</th>\n",
       "      <th>course_section_delivery</th>\n",
       "    </tr>\n",
       "  </thead>\n",
       "  <tbody>\n",
       "    <tr>\n",
       "      <th>0</th>\n",
       "      <td>ACC 101</td>\n",
       "      <td>LEC</td>\n",
       "      <td>Financial Accounting</td>\n",
       "      <td>01</td>\n",
       "      <td>3.0</td>\n",
       "      <td>35</td>\n",
       "      <td>2011</td>\n",
       "      <td>FALL</td>\n",
       "      <td>MAIN</td>\n",
       "      <td>2011-08-31</td>\n",
       "      <td>...</td>\n",
       "      <td></td>\n",
       "      <td>2013-08-19</td>\n",
       "      <td>1900-01-01 12:26:41.477</td>\n",
       "      <td>ACC101</td>\n",
       "      <td>ACC 101.LEC.2011.Fall.01</td>\n",
       "      <td>ACC 101.LEC.2011.Fall.01</td>\n",
       "      <td>2011.Fall</td>\n",
       "      <td>2011</td>\n",
       "      <td>2011</td>\n",
       "      <td>01</td>\n",
       "    </tr>\n",
       "    <tr>\n",
       "      <th>1</th>\n",
       "      <td>ACC 101</td>\n",
       "      <td>LEC</td>\n",
       "      <td>Financial Accounting</td>\n",
       "      <td>02</td>\n",
       "      <td>3.0</td>\n",
       "      <td>36</td>\n",
       "      <td>2011</td>\n",
       "      <td>FALL</td>\n",
       "      <td>MAIN</td>\n",
       "      <td>2011-08-31</td>\n",
       "      <td>...</td>\n",
       "      <td></td>\n",
       "      <td>2012-05-07</td>\n",
       "      <td>1900-01-01 13:59:40.743</td>\n",
       "      <td>ACC101</td>\n",
       "      <td>ACC 101.LEC.2011.Fall.02</td>\n",
       "      <td>ACC 101.LEC.2011.Fall.02</td>\n",
       "      <td>2011.Fall</td>\n",
       "      <td>2011</td>\n",
       "      <td>2011</td>\n",
       "      <td>01</td>\n",
       "    </tr>\n",
       "    <tr>\n",
       "      <th>2</th>\n",
       "      <td>ACC 101</td>\n",
       "      <td>LEC</td>\n",
       "      <td>Financial Accounting</td>\n",
       "      <td>03</td>\n",
       "      <td>3.0</td>\n",
       "      <td>30</td>\n",
       "      <td>2011</td>\n",
       "      <td>FALL</td>\n",
       "      <td>MAIN</td>\n",
       "      <td>2011-08-31</td>\n",
       "      <td>...</td>\n",
       "      <td>None</td>\n",
       "      <td>2011-12-16</td>\n",
       "      <td>1900-01-01 17:22:31.393</td>\n",
       "      <td>ACC101</td>\n",
       "      <td>ACC 101.LEC.2011.Fall.03</td>\n",
       "      <td>ACC 101.LEC.2011.Fall.03</td>\n",
       "      <td>2011.Fall</td>\n",
       "      <td>2011</td>\n",
       "      <td>2011</td>\n",
       "      <td>01</td>\n",
       "    </tr>\n",
       "    <tr>\n",
       "      <th>3</th>\n",
       "      <td>ACC 201</td>\n",
       "      <td>LEC</td>\n",
       "      <td>Small Bus Acct</td>\n",
       "      <td>01</td>\n",
       "      <td>3.0</td>\n",
       "      <td>0</td>\n",
       "      <td>2011</td>\n",
       "      <td>FALL</td>\n",
       "      <td>MAIN</td>\n",
       "      <td>2011-08-31</td>\n",
       "      <td>...</td>\n",
       "      <td>None</td>\n",
       "      <td>2011-09-28</td>\n",
       "      <td>1900-01-01 13:25:25.420</td>\n",
       "      <td>ACC201</td>\n",
       "      <td>ACC 201.LEC.2011.Fall.01</td>\n",
       "      <td>ACC 201.LEC.2011.Fall.01</td>\n",
       "      <td>2011.Fall</td>\n",
       "      <td>2011</td>\n",
       "      <td>2011</td>\n",
       "      <td>01</td>\n",
       "    </tr>\n",
       "    <tr>\n",
       "      <th>4</th>\n",
       "      <td>ACC 301</td>\n",
       "      <td>LEC</td>\n",
       "      <td>Small Business Acc</td>\n",
       "      <td>01</td>\n",
       "      <td>3.0</td>\n",
       "      <td>25</td>\n",
       "      <td>2011</td>\n",
       "      <td>FALL</td>\n",
       "      <td>MAIN</td>\n",
       "      <td>2011-08-31</td>\n",
       "      <td>...</td>\n",
       "      <td>None</td>\n",
       "      <td>2012-01-19</td>\n",
       "      <td>1900-01-01 12:47:48.237</td>\n",
       "      <td>ACC301</td>\n",
       "      <td>ACC 301.LEC.2011.Fall.01</td>\n",
       "      <td>ACC 301.LEC.2011.Fall.01</td>\n",
       "      <td>2011.Fall</td>\n",
       "      <td>2011</td>\n",
       "      <td>2011</td>\n",
       "      <td>01</td>\n",
       "    </tr>\n",
       "  </tbody>\n",
       "</table>\n",
       "<p>5 rows × 21 columns</p>\n",
       "</div>"
      ],
      "text/plain": [
       "  EVENT_ID EVENT_SUB_TYPE   course_section_name SECTION  credit_hours  \\\n",
       "0  ACC 101            LEC  Financial Accounting      01           3.0   \n",
       "1  ACC 101            LEC  Financial Accounting      02           3.0   \n",
       "2  ACC 101            LEC  Financial Accounting      03           3.0   \n",
       "3  ACC 201            LEC        Small Bus Acct      01           3.0   \n",
       "4  ACC 301            LEC    Small Business Acc      01           3.0   \n",
       "\n",
       "   maximum_enrollment_count ACADEMIC_YEAR ACADEMIC_TERM ACADEMIC_SESSION  \\\n",
       "0                        35          2011          FALL             MAIN   \n",
       "1                        36          2011          FALL             MAIN   \n",
       "2                        30          2011          FALL             MAIN   \n",
       "3                         0          2011          FALL             MAIN   \n",
       "4                        25          2011          FALL             MAIN   \n",
       "\n",
       "    start_dt  ... course_cip_code REVISION_DATE           REVISION_TIME  \\\n",
       "0 2011-08-31  ...                    2013-08-19 1900-01-01 12:26:41.477   \n",
       "1 2011-08-31  ...                    2012-05-07 1900-01-01 13:59:40.743   \n",
       "2 2011-08-31  ...            None    2011-12-16 1900-01-01 17:22:31.393   \n",
       "3 2011-08-31  ...            None    2011-09-28 1900-01-01 13:25:25.420   \n",
       "4 2011-08-31  ...            None    2012-01-19 1900-01-01 12:47:48.237   \n",
       "\n",
       "  course_id         course_section_id            integration_id    term_id  \\\n",
       "0    ACC101  ACC 101.LEC.2011.Fall.01  ACC 101.LEC.2011.Fall.01  2011.Fall   \n",
       "1    ACC101  ACC 101.LEC.2011.Fall.02  ACC 101.LEC.2011.Fall.02  2011.Fall   \n",
       "2    ACC101  ACC 101.LEC.2011.Fall.03  ACC 101.LEC.2011.Fall.03  2011.Fall   \n",
       "3    ACC201  ACC 201.LEC.2011.Fall.01  ACC 201.LEC.2011.Fall.01  2011.Fall   \n",
       "4    ACC301  ACC 301.LEC.2011.Fall.01  ACC 301.LEC.2011.Fall.01  2011.Fall   \n",
       "\n",
       "     AY  catalog_year  course_section_delivery  \n",
       "0  2011          2011                       01  \n",
       "1  2011          2011                       01  \n",
       "2  2011          2011                       01  \n",
       "3  2011          2011                       01  \n",
       "4  2011          2011                       01  \n",
       "\n",
       "[5 rows x 21 columns]"
      ]
     },
     "execution_count": 15,
     "metadata": {},
     "output_type": "execute_result"
    }
   ],
   "source": [
    "print(df.shape)\n",
    "df.head()\n"
   ]
  },
  {
   "cell_type": "code",
   "execution_count": null,
   "metadata": {
    "collapsed": false,
    "deletable": true,
    "editable": true,
    "jupyter": {
     "outputs_hidden": false
    }
   },
   "outputs": [],
   "source": [
    "df[(df[\"SECTION\"].str[:2] == \"HY\")]\n"
   ]
  },
  {
   "cell_type": "code",
   "execution_count": 16,
   "metadata": {
    "deletable": true,
    "editable": true
   },
   "outputs": [],
   "source": [
    "crs_integ_id = (\n",
    "    lambda c: (c[\"EVENT_ID\"] + \".\" + str(c[\"catalog_year\"]))\n",
    "    if (c[\"EVENT_SUB_TYPE\"] == \"\")\n",
    "    else (c[\"EVENT_ID\"] + \".\" + c[\"EVENT_SUB_TYPE\"] + \".\" + str(c[\"catalog_year\"]))\n",
    ")\n",
    "df.loc[:, \"course_integration_id\"] = df.apply(crs_integ_id, axis=1)\n"
   ]
  },
  {
   "cell_type": "code",
   "execution_count": 17,
   "metadata": {
    "collapsed": false,
    "deletable": true,
    "editable": true,
    "jupyter": {
     "outputs_hidden": false
    }
   },
   "outputs": [
    {
     "name": "stdout",
     "output_type": "stream",
     "text": [
      "(5920, 22)\n"
     ]
    },
    {
     "data": {
      "text/html": [
       "<div>\n",
       "<style scoped>\n",
       "    .dataframe tbody tr th:only-of-type {\n",
       "        vertical-align: middle;\n",
       "    }\n",
       "\n",
       "    .dataframe tbody tr th {\n",
       "        vertical-align: top;\n",
       "    }\n",
       "\n",
       "    .dataframe thead th {\n",
       "        text-align: right;\n",
       "    }\n",
       "</style>\n",
       "<table border=\"1\" class=\"dataframe\">\n",
       "  <thead>\n",
       "    <tr style=\"text-align: right;\">\n",
       "      <th></th>\n",
       "      <th>EVENT_ID</th>\n",
       "      <th>EVENT_SUB_TYPE</th>\n",
       "      <th>course_section_name</th>\n",
       "      <th>SECTION</th>\n",
       "      <th>credit_hours</th>\n",
       "      <th>maximum_enrollment_count</th>\n",
       "      <th>ACADEMIC_YEAR</th>\n",
       "      <th>ACADEMIC_TERM</th>\n",
       "      <th>ACADEMIC_SESSION</th>\n",
       "      <th>start_dt</th>\n",
       "      <th>...</th>\n",
       "      <th>REVISION_DATE</th>\n",
       "      <th>REVISION_TIME</th>\n",
       "      <th>course_id</th>\n",
       "      <th>course_section_id</th>\n",
       "      <th>integration_id</th>\n",
       "      <th>term_id</th>\n",
       "      <th>AY</th>\n",
       "      <th>catalog_year</th>\n",
       "      <th>course_section_delivery</th>\n",
       "      <th>course_integration_id</th>\n",
       "    </tr>\n",
       "  </thead>\n",
       "  <tbody>\n",
       "    <tr>\n",
       "      <th>0</th>\n",
       "      <td>ACC 101</td>\n",
       "      <td>LEC</td>\n",
       "      <td>Financial Accounting</td>\n",
       "      <td>01</td>\n",
       "      <td>3.0</td>\n",
       "      <td>35</td>\n",
       "      <td>2011</td>\n",
       "      <td>FALL</td>\n",
       "      <td>MAIN</td>\n",
       "      <td>2011-08-31</td>\n",
       "      <td>...</td>\n",
       "      <td>2013-08-19</td>\n",
       "      <td>1900-01-01 12:26:41.477</td>\n",
       "      <td>ACC101</td>\n",
       "      <td>ACC 101.LEC.2011.Fall.01</td>\n",
       "      <td>ACC 101.LEC.2011.Fall.01</td>\n",
       "      <td>2011.Fall</td>\n",
       "      <td>2011</td>\n",
       "      <td>2011</td>\n",
       "      <td>01</td>\n",
       "      <td>ACC 101.LEC.2011</td>\n",
       "    </tr>\n",
       "    <tr>\n",
       "      <th>1</th>\n",
       "      <td>ACC 101</td>\n",
       "      <td>LEC</td>\n",
       "      <td>Financial Accounting</td>\n",
       "      <td>02</td>\n",
       "      <td>3.0</td>\n",
       "      <td>36</td>\n",
       "      <td>2011</td>\n",
       "      <td>FALL</td>\n",
       "      <td>MAIN</td>\n",
       "      <td>2011-08-31</td>\n",
       "      <td>...</td>\n",
       "      <td>2012-05-07</td>\n",
       "      <td>1900-01-01 13:59:40.743</td>\n",
       "      <td>ACC101</td>\n",
       "      <td>ACC 101.LEC.2011.Fall.02</td>\n",
       "      <td>ACC 101.LEC.2011.Fall.02</td>\n",
       "      <td>2011.Fall</td>\n",
       "      <td>2011</td>\n",
       "      <td>2011</td>\n",
       "      <td>01</td>\n",
       "      <td>ACC 101.LEC.2011</td>\n",
       "    </tr>\n",
       "    <tr>\n",
       "      <th>2</th>\n",
       "      <td>ACC 101</td>\n",
       "      <td>LEC</td>\n",
       "      <td>Financial Accounting</td>\n",
       "      <td>03</td>\n",
       "      <td>3.0</td>\n",
       "      <td>30</td>\n",
       "      <td>2011</td>\n",
       "      <td>FALL</td>\n",
       "      <td>MAIN</td>\n",
       "      <td>2011-08-31</td>\n",
       "      <td>...</td>\n",
       "      <td>2011-12-16</td>\n",
       "      <td>1900-01-01 17:22:31.393</td>\n",
       "      <td>ACC101</td>\n",
       "      <td>ACC 101.LEC.2011.Fall.03</td>\n",
       "      <td>ACC 101.LEC.2011.Fall.03</td>\n",
       "      <td>2011.Fall</td>\n",
       "      <td>2011</td>\n",
       "      <td>2011</td>\n",
       "      <td>01</td>\n",
       "      <td>ACC 101.LEC.2011</td>\n",
       "    </tr>\n",
       "    <tr>\n",
       "      <th>3</th>\n",
       "      <td>ACC 201</td>\n",
       "      <td>LEC</td>\n",
       "      <td>Small Bus Acct</td>\n",
       "      <td>01</td>\n",
       "      <td>3.0</td>\n",
       "      <td>0</td>\n",
       "      <td>2011</td>\n",
       "      <td>FALL</td>\n",
       "      <td>MAIN</td>\n",
       "      <td>2011-08-31</td>\n",
       "      <td>...</td>\n",
       "      <td>2011-09-28</td>\n",
       "      <td>1900-01-01 13:25:25.420</td>\n",
       "      <td>ACC201</td>\n",
       "      <td>ACC 201.LEC.2011.Fall.01</td>\n",
       "      <td>ACC 201.LEC.2011.Fall.01</td>\n",
       "      <td>2011.Fall</td>\n",
       "      <td>2011</td>\n",
       "      <td>2011</td>\n",
       "      <td>01</td>\n",
       "      <td>ACC 201.LEC.2011</td>\n",
       "    </tr>\n",
       "    <tr>\n",
       "      <th>4</th>\n",
       "      <td>ACC 301</td>\n",
       "      <td>LEC</td>\n",
       "      <td>Small Business Acc</td>\n",
       "      <td>01</td>\n",
       "      <td>3.0</td>\n",
       "      <td>25</td>\n",
       "      <td>2011</td>\n",
       "      <td>FALL</td>\n",
       "      <td>MAIN</td>\n",
       "      <td>2011-08-31</td>\n",
       "      <td>...</td>\n",
       "      <td>2012-01-19</td>\n",
       "      <td>1900-01-01 12:47:48.237</td>\n",
       "      <td>ACC301</td>\n",
       "      <td>ACC 301.LEC.2011.Fall.01</td>\n",
       "      <td>ACC 301.LEC.2011.Fall.01</td>\n",
       "      <td>2011.Fall</td>\n",
       "      <td>2011</td>\n",
       "      <td>2011</td>\n",
       "      <td>01</td>\n",
       "      <td>ACC 301.LEC.2011</td>\n",
       "    </tr>\n",
       "  </tbody>\n",
       "</table>\n",
       "<p>5 rows × 22 columns</p>\n",
       "</div>"
      ],
      "text/plain": [
       "  EVENT_ID EVENT_SUB_TYPE   course_section_name SECTION  credit_hours  \\\n",
       "0  ACC 101            LEC  Financial Accounting      01           3.0   \n",
       "1  ACC 101            LEC  Financial Accounting      02           3.0   \n",
       "2  ACC 101            LEC  Financial Accounting      03           3.0   \n",
       "3  ACC 201            LEC        Small Bus Acct      01           3.0   \n",
       "4  ACC 301            LEC    Small Business Acc      01           3.0   \n",
       "\n",
       "   maximum_enrollment_count ACADEMIC_YEAR ACADEMIC_TERM ACADEMIC_SESSION  \\\n",
       "0                        35          2011          FALL             MAIN   \n",
       "1                        36          2011          FALL             MAIN   \n",
       "2                        30          2011          FALL             MAIN   \n",
       "3                         0          2011          FALL             MAIN   \n",
       "4                        25          2011          FALL             MAIN   \n",
       "\n",
       "    start_dt  ... REVISION_DATE           REVISION_TIME course_id  \\\n",
       "0 2011-08-31  ...    2013-08-19 1900-01-01 12:26:41.477    ACC101   \n",
       "1 2011-08-31  ...    2012-05-07 1900-01-01 13:59:40.743    ACC101   \n",
       "2 2011-08-31  ...    2011-12-16 1900-01-01 17:22:31.393    ACC101   \n",
       "3 2011-08-31  ...    2011-09-28 1900-01-01 13:25:25.420    ACC201   \n",
       "4 2011-08-31  ...    2012-01-19 1900-01-01 12:47:48.237    ACC301   \n",
       "\n",
       "          course_section_id            integration_id    term_id    AY  \\\n",
       "0  ACC 101.LEC.2011.Fall.01  ACC 101.LEC.2011.Fall.01  2011.Fall  2011   \n",
       "1  ACC 101.LEC.2011.Fall.02  ACC 101.LEC.2011.Fall.02  2011.Fall  2011   \n",
       "2  ACC 101.LEC.2011.Fall.03  ACC 101.LEC.2011.Fall.03  2011.Fall  2011   \n",
       "3  ACC 201.LEC.2011.Fall.01  ACC 201.LEC.2011.Fall.01  2011.Fall  2011   \n",
       "4  ACC 301.LEC.2011.Fall.01  ACC 301.LEC.2011.Fall.01  2011.Fall  2011   \n",
       "\n",
       "  catalog_year  course_section_delivery  course_integration_id  \n",
       "0         2011                       01       ACC 101.LEC.2011  \n",
       "1         2011                       01       ACC 101.LEC.2011  \n",
       "2         2011                       01       ACC 101.LEC.2011  \n",
       "3         2011                       01       ACC 201.LEC.2011  \n",
       "4         2011                       01       ACC 301.LEC.2011  \n",
       "\n",
       "[5 rows x 22 columns]"
      ]
     },
     "execution_count": 17,
     "metadata": {},
     "output_type": "execute_result"
    }
   ],
   "source": [
    "print(df.shape)\n",
    "df.head()\n"
   ]
  },
  {
   "cell_type": "code",
   "execution_count": 15,
   "metadata": {
    "collapsed": false,
    "deletable": true,
    "editable": true,
    "jupyter": {
     "outputs_hidden": false
    },
    "scrolled": true
   },
   "outputs": [
    {
     "name": "stdout",
     "output_type": "stream",
     "text": [
      "(652, 8)\n"
     ]
    }
   ],
   "source": [
    "# read course_catalog.txt to find the correct catalog year\n",
    "dfcat = pd.read_csv(\"../course_catalog/course_catalog.txt\")\n",
    "print(dfcat.shape)\n"
   ]
  },
  {
   "cell_type": "code",
   "execution_count": null,
   "metadata": {
    "collapsed": false,
    "deletable": true,
    "editable": true,
    "jupyter": {
     "outputs_hidden": false
    }
   },
   "outputs": [],
   "source": [
    "dfcat.head()\n"
   ]
  },
  {
   "cell_type": "code",
   "execution_count": 16,
   "metadata": {
    "collapsed": true,
    "deletable": true,
    "editable": true,
    "jupyter": {
     "outputs_hidden": true
    }
   },
   "outputs": [],
   "source": [
    "dfcat = dfcat[[\"course_id\", \"integration_id\"]].rename(\n",
    "    {\"integration_id\": \"cat_integ_id\"}, axis=\"columns\"\n",
    ")\n"
   ]
  },
  {
   "cell_type": "code",
   "execution_count": null,
   "metadata": {
    "collapsed": false,
    "deletable": true,
    "editable": true,
    "jupyter": {
     "outputs_hidden": false
    }
   },
   "outputs": [],
   "source": [
    "print(dfcat.shape)\n",
    "dfcat.head()\n"
   ]
  },
  {
   "cell_type": "code",
   "execution_count": 17,
   "metadata": {
    "collapsed": true,
    "deletable": true,
    "editable": true,
    "jupyter": {
     "outputs_hidden": true
    }
   },
   "outputs": [],
   "source": [
    "df = pd.merge(df, dfcat, on=[\"course_id\"], how=\"left\")\n"
   ]
  },
  {
   "cell_type": "code",
   "execution_count": null,
   "metadata": {
    "collapsed": false,
    "deletable": true,
    "editable": true,
    "jupyter": {
     "outputs_hidden": false
    }
   },
   "outputs": [],
   "source": [
    "print(df.shape)\n",
    "df.head()\n"
   ]
  },
  {
   "cell_type": "code",
   "execution_count": 18,
   "metadata": {
    "collapsed": false,
    "deletable": true,
    "editable": true,
    "jupyter": {
     "outputs_hidden": false
    }
   },
   "outputs": [],
   "source": [
    "df = df.sort_values([\"integration_id\", \"course_integration_id\"], ascending=[True, True])\n",
    "\n",
    "# keep catalog_year before course year\n",
    "df = df.loc[(df[\"course_integration_id\"] >= df[\"cat_integ_id\"])]\n"
   ]
  },
  {
   "cell_type": "code",
   "execution_count": null,
   "metadata": {
    "collapsed": false,
    "deletable": true,
    "editable": true,
    "jupyter": {
     "outputs_hidden": false
    },
    "scrolled": true
   },
   "outputs": [],
   "source": [
    "print(df.shape)\n",
    "df.head(40)\n"
   ]
  },
  {
   "cell_type": "code",
   "execution_count": null,
   "metadata": {
    "collapsed": false,
    "deletable": true,
    "editable": true,
    "jupyter": {
     "outputs_hidden": false
    }
   },
   "outputs": [],
   "source": [
    "df = df.sort_values(\n",
    "    [\"course_section_id\", \"course_integration_id\"], ascending=[True, True]\n",
    ")\n",
    "# df[df.duplicated(['integration_id'])]\n"
   ]
  },
  {
   "cell_type": "code",
   "execution_count": null,
   "metadata": {
    "collapsed": false,
    "deletable": true,
    "editable": true,
    "jupyter": {
     "outputs_hidden": false
    },
    "scrolled": true
   },
   "outputs": [],
   "source": [
    "print(df.shape)\n",
    "df.head(40)\n"
   ]
  },
  {
   "cell_type": "code",
   "execution_count": null,
   "metadata": {
    "collapsed": false,
    "deletable": true,
    "editable": true,
    "jupyter": {
     "outputs_hidden": false
    }
   },
   "outputs": [],
   "source": [
    "df[df.duplicated([\"integration_id\"])]\n"
   ]
  },
  {
   "cell_type": "code",
   "execution_count": 19,
   "metadata": {
    "collapsed": false,
    "deletable": true,
    "editable": true,
    "jupyter": {
     "outputs_hidden": false
    },
    "scrolled": true
   },
   "outputs": [
    {
     "name": "stdout",
     "output_type": "stream",
     "text": [
      "(4916, 23)\n",
      "(4415, 23)\n"
     ]
    }
   ],
   "source": [
    "print(df.shape)\n",
    "df = df.sort_values(\n",
    "    [\"course_section_id\", \"course_integration_id\"], ascending=[True, True]\n",
    ").drop_duplicates([\"course_section_id\"], keep=\"last\")\n",
    "print(df.shape)\n"
   ]
  },
  {
   "cell_type": "code",
   "execution_count": null,
   "metadata": {
    "collapsed": false,
    "deletable": true,
    "editable": true,
    "jupyter": {
     "outputs_hidden": false
    },
    "scrolled": true
   },
   "outputs": [],
   "source": [
    "print(df.shape)\n",
    "df.head(40)\n"
   ]
  },
  {
   "cell_type": "code",
   "execution_count": 20,
   "metadata": {
    "collapsed": true,
    "deletable": true,
    "editable": true,
    "jupyter": {
     "outputs_hidden": true
    }
   },
   "outputs": [],
   "source": [
    "df.loc[:, \"course_integration_id\"] = df.loc[:, \"cat_integ_id\"]\n"
   ]
  },
  {
   "cell_type": "code",
   "execution_count": null,
   "metadata": {
    "collapsed": false,
    "deletable": true,
    "editable": true,
    "jupyter": {
     "outputs_hidden": false
    },
    "scrolled": true
   },
   "outputs": [],
   "source": [
    "print(df.shape)\n",
    "df.head(40)\n"
   ]
  },
  {
   "cell_type": "code",
   "execution_count": 21,
   "metadata": {
    "collapsed": true,
    "deletable": true,
    "editable": true,
    "jupyter": {
     "outputs_hidden": true
    }
   },
   "outputs": [],
   "source": [
    "# save for teaching.txt below\n",
    "dfs = df.copy()\n"
   ]
  },
  {
   "cell_type": "code",
   "execution_count": 22,
   "metadata": {
    "collapsed": false,
    "deletable": true,
    "editable": true,
    "jupyter": {
     "outputs_hidden": false
    }
   },
   "outputs": [
    {
     "data": {
      "text/html": [
       "<div>\n",
       "<style scoped>\n",
       "    .dataframe tbody tr th:only-of-type {\n",
       "        vertical-align: middle;\n",
       "    }\n",
       "\n",
       "    .dataframe tbody tr th {\n",
       "        vertical-align: top;\n",
       "    }\n",
       "\n",
       "    .dataframe thead th {\n",
       "        text-align: right;\n",
       "    }\n",
       "</style>\n",
       "<table border=\"1\" class=\"dataframe\">\n",
       "  <thead>\n",
       "    <tr style=\"text-align: right;\">\n",
       "      <th></th>\n",
       "      <th>EVENT_ID</th>\n",
       "      <th>EVENT_SUB_TYPE</th>\n",
       "      <th>course_section_name</th>\n",
       "      <th>SECTION</th>\n",
       "      <th>credit_hours</th>\n",
       "      <th>maximum_enrollment_count</th>\n",
       "      <th>ACADEMIC_YEAR</th>\n",
       "      <th>ACADEMIC_TERM</th>\n",
       "      <th>ACADEMIC_SESSION</th>\n",
       "      <th>start_dt</th>\n",
       "      <th>...</th>\n",
       "      <th>REVISION_TIME</th>\n",
       "      <th>course_id</th>\n",
       "      <th>course_section_id</th>\n",
       "      <th>integration_id</th>\n",
       "      <th>term_id</th>\n",
       "      <th>AY</th>\n",
       "      <th>catalog_year</th>\n",
       "      <th>course_section_delivery</th>\n",
       "      <th>course_integration_id</th>\n",
       "      <th>cat_integ_id</th>\n",
       "    </tr>\n",
       "  </thead>\n",
       "  <tbody>\n",
       "    <tr>\n",
       "      <th>0</th>\n",
       "      <td>ACC 101</td>\n",
       "      <td>LEC</td>\n",
       "      <td>Financial Accounting</td>\n",
       "      <td>01</td>\n",
       "      <td>3.0</td>\n",
       "      <td>35</td>\n",
       "      <td>2011</td>\n",
       "      <td>FALL</td>\n",
       "      <td>MAIN</td>\n",
       "      <td>2011-08-31</td>\n",
       "      <td>...</td>\n",
       "      <td>1900-01-01 12:26:41.477</td>\n",
       "      <td>ACC101</td>\n",
       "      <td>ACC 101.LEC.2011.Fall.01</td>\n",
       "      <td>ACC 101.LEC.2011.Fall.01</td>\n",
       "      <td>2011.Fall</td>\n",
       "      <td>2011</td>\n",
       "      <td>2011</td>\n",
       "      <td>01</td>\n",
       "      <td>ACC 101.LEC.2010</td>\n",
       "      <td>ACC 101.LEC.2010</td>\n",
       "    </tr>\n",
       "    <tr>\n",
       "      <th>1</th>\n",
       "      <td>ACC 101</td>\n",
       "      <td>LEC</td>\n",
       "      <td>Financial Accounting</td>\n",
       "      <td>02</td>\n",
       "      <td>3.0</td>\n",
       "      <td>36</td>\n",
       "      <td>2011</td>\n",
       "      <td>FALL</td>\n",
       "      <td>MAIN</td>\n",
       "      <td>2011-08-31</td>\n",
       "      <td>...</td>\n",
       "      <td>1900-01-01 13:59:40.743</td>\n",
       "      <td>ACC101</td>\n",
       "      <td>ACC 101.LEC.2011.Fall.02</td>\n",
       "      <td>ACC 101.LEC.2011.Fall.02</td>\n",
       "      <td>2011.Fall</td>\n",
       "      <td>2011</td>\n",
       "      <td>2011</td>\n",
       "      <td>01</td>\n",
       "      <td>ACC 101.LEC.2010</td>\n",
       "      <td>ACC 101.LEC.2010</td>\n",
       "    </tr>\n",
       "    <tr>\n",
       "      <th>2</th>\n",
       "      <td>ACC 101</td>\n",
       "      <td>LEC</td>\n",
       "      <td>Financial Accounting</td>\n",
       "      <td>03</td>\n",
       "      <td>3.0</td>\n",
       "      <td>30</td>\n",
       "      <td>2011</td>\n",
       "      <td>FALL</td>\n",
       "      <td>MAIN</td>\n",
       "      <td>2011-08-31</td>\n",
       "      <td>...</td>\n",
       "      <td>1900-01-01 17:22:31.393</td>\n",
       "      <td>ACC101</td>\n",
       "      <td>ACC 101.LEC.2011.Fall.03</td>\n",
       "      <td>ACC 101.LEC.2011.Fall.03</td>\n",
       "      <td>2011.Fall</td>\n",
       "      <td>2011</td>\n",
       "      <td>2011</td>\n",
       "      <td>01</td>\n",
       "      <td>ACC 101.LEC.2010</td>\n",
       "      <td>ACC 101.LEC.2010</td>\n",
       "    </tr>\n",
       "    <tr>\n",
       "      <th>414</th>\n",
       "      <td>ACC 101</td>\n",
       "      <td>LEC</td>\n",
       "      <td>Financial Accounting</td>\n",
       "      <td>01</td>\n",
       "      <td>3.0</td>\n",
       "      <td>37</td>\n",
       "      <td>2011</td>\n",
       "      <td>SPRING</td>\n",
       "      <td>MAIN</td>\n",
       "      <td>2011-01-24</td>\n",
       "      <td>...</td>\n",
       "      <td>1900-01-01 16:19:39.223</td>\n",
       "      <td>ACC101</td>\n",
       "      <td>ACC 101.LEC.2011.Spring.01</td>\n",
       "      <td>ACC 101.LEC.2011.Spring.01</td>\n",
       "      <td>2011.Spring</td>\n",
       "      <td>2011</td>\n",
       "      <td>2010</td>\n",
       "      <td>01</td>\n",
       "      <td>ACC 101.LEC.2010</td>\n",
       "      <td>ACC 101.LEC.2010</td>\n",
       "    </tr>\n",
       "    <tr>\n",
       "      <th>415</th>\n",
       "      <td>ACC 101</td>\n",
       "      <td>LEC</td>\n",
       "      <td>Financial Accounting</td>\n",
       "      <td>02</td>\n",
       "      <td>3.0</td>\n",
       "      <td>40</td>\n",
       "      <td>2011</td>\n",
       "      <td>SPRING</td>\n",
       "      <td>MAIN</td>\n",
       "      <td>2011-01-24</td>\n",
       "      <td>...</td>\n",
       "      <td>1900-01-01 11:55:12.630</td>\n",
       "      <td>ACC101</td>\n",
       "      <td>ACC 101.LEC.2011.Spring.02</td>\n",
       "      <td>ACC 101.LEC.2011.Spring.02</td>\n",
       "      <td>2011.Spring</td>\n",
       "      <td>2011</td>\n",
       "      <td>2010</td>\n",
       "      <td>01</td>\n",
       "      <td>ACC 101.LEC.2010</td>\n",
       "      <td>ACC 101.LEC.2010</td>\n",
       "    </tr>\n",
       "  </tbody>\n",
       "</table>\n",
       "<p>5 rows Ã— 23 columns</p>\n",
       "</div>"
      ],
      "text/plain": [
       "    EVENT_ID EVENT_SUB_TYPE   course_section_name SECTION  credit_hours  \\\n",
       "0    ACC 101            LEC  Financial Accounting      01           3.0   \n",
       "1    ACC 101            LEC  Financial Accounting      02           3.0   \n",
       "2    ACC 101            LEC  Financial Accounting      03           3.0   \n",
       "414  ACC 101            LEC  Financial Accounting      01           3.0   \n",
       "415  ACC 101            LEC  Financial Accounting      02           3.0   \n",
       "\n",
       "     maximum_enrollment_count ACADEMIC_YEAR ACADEMIC_TERM ACADEMIC_SESSION  \\\n",
       "0                          35          2011          FALL             MAIN   \n",
       "1                          36          2011          FALL             MAIN   \n",
       "2                          30          2011          FALL             MAIN   \n",
       "414                        37          2011        SPRING             MAIN   \n",
       "415                        40          2011        SPRING             MAIN   \n",
       "\n",
       "      start_dt        ...                  REVISION_TIME course_id  \\\n",
       "0   2011-08-31        ...        1900-01-01 12:26:41.477    ACC101   \n",
       "1   2011-08-31        ...        1900-01-01 13:59:40.743    ACC101   \n",
       "2   2011-08-31        ...        1900-01-01 17:22:31.393    ACC101   \n",
       "414 2011-01-24        ...        1900-01-01 16:19:39.223    ACC101   \n",
       "415 2011-01-24        ...        1900-01-01 11:55:12.630    ACC101   \n",
       "\n",
       "              course_section_id              integration_id      term_id  \\\n",
       "0      ACC 101.LEC.2011.Fall.01    ACC 101.LEC.2011.Fall.01    2011.Fall   \n",
       "1      ACC 101.LEC.2011.Fall.02    ACC 101.LEC.2011.Fall.02    2011.Fall   \n",
       "2      ACC 101.LEC.2011.Fall.03    ACC 101.LEC.2011.Fall.03    2011.Fall   \n",
       "414  ACC 101.LEC.2011.Spring.01  ACC 101.LEC.2011.Spring.01  2011.Spring   \n",
       "415  ACC 101.LEC.2011.Spring.02  ACC 101.LEC.2011.Spring.02  2011.Spring   \n",
       "\n",
       "       AY catalog_year course_section_delivery  course_integration_id  \\\n",
       "0    2011         2011                      01       ACC 101.LEC.2010   \n",
       "1    2011         2011                      01       ACC 101.LEC.2010   \n",
       "2    2011         2011                      01       ACC 101.LEC.2010   \n",
       "414  2011         2010                      01       ACC 101.LEC.2010   \n",
       "415  2011         2010                      01       ACC 101.LEC.2010   \n",
       "\n",
       "         cat_integ_id  \n",
       "0    ACC 101.LEC.2010  \n",
       "1    ACC 101.LEC.2010  \n",
       "2    ACC 101.LEC.2010  \n",
       "414  ACC 101.LEC.2010  \n",
       "415  ACC 101.LEC.2010  \n",
       "\n",
       "[5 rows x 23 columns]"
      ]
     },
     "execution_count": 22,
     "metadata": {},
     "output_type": "execute_result"
    }
   ],
   "source": [
    "dfs.head()\n"
   ]
  },
  {
   "cell_type": "code",
   "execution_count": 23,
   "metadata": {
    "collapsed": false,
    "deletable": true,
    "editable": true,
    "jupyter": {
     "outputs_hidden": false
    },
    "scrolled": true
   },
   "outputs": [],
   "source": [
    "df = df.loc[\n",
    "    :,\n",
    "    [\n",
    "        \"integration_id\",\n",
    "        \"course_section_name\",\n",
    "        \"course_section_id\",\n",
    "        \"start_dt\",\n",
    "        \"end_dt\",\n",
    "        \"term_id\",\n",
    "        \"course_integration_id\",\n",
    "        \"course_section_delivery\",\n",
    "        \"maximum_enrollment_count\",\n",
    "        \"credit_hours\",\n",
    "    ],\n",
    "]\n",
    "\n",
    "df = df.sort_values([\"integration_id\"])\n"
   ]
  },
  {
   "cell_type": "code",
   "execution_count": null,
   "metadata": {
    "collapsed": false,
    "deletable": true,
    "editable": true,
    "jupyter": {
     "outputs_hidden": false
    }
   },
   "outputs": [],
   "source": [
    "print(df.shape)\n",
    "df.head()\n"
   ]
  },
  {
   "cell_type": "code",
   "execution_count": 24,
   "metadata": {
    "collapsed": true,
    "deletable": true,
    "editable": true,
    "jupyter": {
     "outputs_hidden": true
    }
   },
   "outputs": [],
   "source": [
    "today = datetime.now().strftime(\"%Y%m%d\")\n",
    "fn_output = f\"{today}_sections.txt\"\n",
    "df.to_csv(fn_output, index=False)\n"
   ]
  },
  {
   "cell_type": "code",
   "execution_count": null,
   "metadata": {
    "collapsed": true,
    "deletable": true,
    "editable": true,
    "jupyter": {
     "outputs_hidden": true
    }
   },
   "outputs": [],
   "source": []
  },
  {
   "cell_type": "markdown",
   "metadata": {
    "deletable": true,
    "editable": true
   },
   "source": [
    "## teaching.txt\n"
   ]
  },
  {
   "cell_type": "code",
   "execution_count": 25,
   "metadata": {
    "collapsed": true,
    "deletable": true,
    "editable": true,
    "jupyter": {
     "outputs_hidden": true
    }
   },
   "outputs": [],
   "source": [
    "sql_str = (\n",
    "    \"SELECT * FROM SECTIONPER WHERE \"\n",
    "    + \"EVENT_SUB_TYPE NOT IN ('ADV') \"\n",
    "    + f\"AND ACADEMIC_YEAR >= '{sections_begin_year}' \"\n",
    "    + \"AND ACADEMIC_TERM IN ('FALL', 'SPRING', 'SUMMER') \"\n",
    "    + \"AND ACADEMIC_SESSION IN ('MAIN', 'CULN', 'EXT', 'FNRR', 'HEOP',\"\n",
    "    + \" 'SLAB', 'BLOCK A', 'BLOCK AB', 'BLOCK B') \"\n",
    ")\n",
    "df_sectionper = pd.read_sql_query(sql_str, connection)\n"
   ]
  },
  {
   "cell_type": "code",
   "execution_count": 26,
   "metadata": {
    "collapsed": true,
    "deletable": true,
    "editable": true,
    "jupyter": {
     "outputs_hidden": true
    }
   },
   "outputs": [],
   "source": [
    "df_sectionper = df_sectionper[\n",
    "    [\n",
    "        \"ACADEMIC_YEAR\",\n",
    "        \"ACADEMIC_TERM\",\n",
    "        \"ACADEMIC_SESSION\",\n",
    "        \"EVENT_ID\",\n",
    "        \"EVENT_SUB_TYPE\",\n",
    "        \"SECTION\",\n",
    "        \"PERSON_CODE_ID\",\n",
    "    ]\n",
    "]\n"
   ]
  },
  {
   "cell_type": "code",
   "execution_count": 27,
   "metadata": {
    "collapsed": false,
    "deletable": true,
    "editable": true,
    "jupyter": {
     "outputs_hidden": false
    }
   },
   "outputs": [
    {
     "name": "stdout",
     "output_type": "stream",
     "text": [
      "(4940, 7)\n",
      "(4415, 23)\n"
     ]
    }
   ],
   "source": [
    "print(df_sectionper.shape)\n",
    "print(dfs.shape)\n"
   ]
  },
  {
   "cell_type": "code",
   "execution_count": 31,
   "metadata": {
    "collapsed": false,
    "deletable": true,
    "editable": true,
    "jupyter": {
     "outputs_hidden": false
    }
   },
   "outputs": [],
   "source": [
    "dft = pd.merge(\n",
    "    dfs,\n",
    "    df_sectionper,\n",
    "    on=[\n",
    "        \"ACADEMIC_YEAR\",\n",
    "        \"ACADEMIC_TERM\",\n",
    "        \"ACADEMIC_SESSION\",\n",
    "        \"EVENT_ID\",\n",
    "        \"EVENT_SUB_TYPE\",\n",
    "        \"SECTION\",\n",
    "    ],\n",
    "    how=\"left\",\n",
    ")\n"
   ]
  },
  {
   "cell_type": "code",
   "execution_count": 32,
   "metadata": {
    "collapsed": false,
    "deletable": true,
    "editable": true,
    "jupyter": {
     "outputs_hidden": false
    }
   },
   "outputs": [
    {
     "name": "stdout",
     "output_type": "stream",
     "text": [
      "(4620, 24)\n"
     ]
    },
    {
     "data": {
      "text/html": [
       "<div>\n",
       "<style scoped>\n",
       "    .dataframe tbody tr th:only-of-type {\n",
       "        vertical-align: middle;\n",
       "    }\n",
       "\n",
       "    .dataframe tbody tr th {\n",
       "        vertical-align: top;\n",
       "    }\n",
       "\n",
       "    .dataframe thead th {\n",
       "        text-align: right;\n",
       "    }\n",
       "</style>\n",
       "<table border=\"1\" class=\"dataframe\">\n",
       "  <thead>\n",
       "    <tr style=\"text-align: right;\">\n",
       "      <th></th>\n",
       "      <th>EVENT_ID</th>\n",
       "      <th>EVENT_SUB_TYPE</th>\n",
       "      <th>course_section_name</th>\n",
       "      <th>SECTION</th>\n",
       "      <th>credit_hours</th>\n",
       "      <th>maximum_enrollment_count</th>\n",
       "      <th>ACADEMIC_YEAR</th>\n",
       "      <th>ACADEMIC_TERM</th>\n",
       "      <th>ACADEMIC_SESSION</th>\n",
       "      <th>start_dt</th>\n",
       "      <th>...</th>\n",
       "      <th>course_id</th>\n",
       "      <th>course_section_id</th>\n",
       "      <th>integration_id</th>\n",
       "      <th>term_id</th>\n",
       "      <th>AY</th>\n",
       "      <th>catalog_year</th>\n",
       "      <th>course_section_delivery</th>\n",
       "      <th>course_integration_id</th>\n",
       "      <th>cat_integ_id</th>\n",
       "      <th>PERSON_CODE_ID</th>\n",
       "    </tr>\n",
       "  </thead>\n",
       "  <tbody>\n",
       "    <tr>\n",
       "      <th>0</th>\n",
       "      <td>ACC 101</td>\n",
       "      <td>LEC</td>\n",
       "      <td>Financial Accounting</td>\n",
       "      <td>01</td>\n",
       "      <td>3.0</td>\n",
       "      <td>35</td>\n",
       "      <td>2011</td>\n",
       "      <td>FALL</td>\n",
       "      <td>MAIN</td>\n",
       "      <td>2011-08-31</td>\n",
       "      <td>...</td>\n",
       "      <td>ACC101</td>\n",
       "      <td>ACC 101.LEC.2011.Fall.01</td>\n",
       "      <td>ACC 101.LEC.2011.Fall.01</td>\n",
       "      <td>2011.Fall</td>\n",
       "      <td>2011</td>\n",
       "      <td>2011</td>\n",
       "      <td>01</td>\n",
       "      <td>ACC 101.LEC.2010</td>\n",
       "      <td>ACC 101.LEC.2010</td>\n",
       "      <td>P000000065</td>\n",
       "    </tr>\n",
       "    <tr>\n",
       "      <th>1</th>\n",
       "      <td>ACC 101</td>\n",
       "      <td>LEC</td>\n",
       "      <td>Financial Accounting</td>\n",
       "      <td>02</td>\n",
       "      <td>3.0</td>\n",
       "      <td>36</td>\n",
       "      <td>2011</td>\n",
       "      <td>FALL</td>\n",
       "      <td>MAIN</td>\n",
       "      <td>2011-08-31</td>\n",
       "      <td>...</td>\n",
       "      <td>ACC101</td>\n",
       "      <td>ACC 101.LEC.2011.Fall.02</td>\n",
       "      <td>ACC 101.LEC.2011.Fall.02</td>\n",
       "      <td>2011.Fall</td>\n",
       "      <td>2011</td>\n",
       "      <td>2011</td>\n",
       "      <td>01</td>\n",
       "      <td>ACC 101.LEC.2010</td>\n",
       "      <td>ACC 101.LEC.2010</td>\n",
       "      <td>P000000065</td>\n",
       "    </tr>\n",
       "    <tr>\n",
       "      <th>2</th>\n",
       "      <td>ACC 101</td>\n",
       "      <td>LEC</td>\n",
       "      <td>Financial Accounting</td>\n",
       "      <td>03</td>\n",
       "      <td>3.0</td>\n",
       "      <td>30</td>\n",
       "      <td>2011</td>\n",
       "      <td>FALL</td>\n",
       "      <td>MAIN</td>\n",
       "      <td>2011-08-31</td>\n",
       "      <td>...</td>\n",
       "      <td>ACC101</td>\n",
       "      <td>ACC 101.LEC.2011.Fall.03</td>\n",
       "      <td>ACC 101.LEC.2011.Fall.03</td>\n",
       "      <td>2011.Fall</td>\n",
       "      <td>2011</td>\n",
       "      <td>2011</td>\n",
       "      <td>01</td>\n",
       "      <td>ACC 101.LEC.2010</td>\n",
       "      <td>ACC 101.LEC.2010</td>\n",
       "      <td>P000000065</td>\n",
       "    </tr>\n",
       "    <tr>\n",
       "      <th>3</th>\n",
       "      <td>ACC 101</td>\n",
       "      <td>LEC</td>\n",
       "      <td>Financial Accounting</td>\n",
       "      <td>01</td>\n",
       "      <td>3.0</td>\n",
       "      <td>37</td>\n",
       "      <td>2011</td>\n",
       "      <td>SPRING</td>\n",
       "      <td>MAIN</td>\n",
       "      <td>2011-01-24</td>\n",
       "      <td>...</td>\n",
       "      <td>ACC101</td>\n",
       "      <td>ACC 101.LEC.2011.Spring.01</td>\n",
       "      <td>ACC 101.LEC.2011.Spring.01</td>\n",
       "      <td>2011.Spring</td>\n",
       "      <td>2011</td>\n",
       "      <td>2010</td>\n",
       "      <td>01</td>\n",
       "      <td>ACC 101.LEC.2010</td>\n",
       "      <td>ACC 101.LEC.2010</td>\n",
       "      <td>P000000065</td>\n",
       "    </tr>\n",
       "    <tr>\n",
       "      <th>4</th>\n",
       "      <td>ACC 101</td>\n",
       "      <td>LEC</td>\n",
       "      <td>Financial Accounting</td>\n",
       "      <td>02</td>\n",
       "      <td>3.0</td>\n",
       "      <td>40</td>\n",
       "      <td>2011</td>\n",
       "      <td>SPRING</td>\n",
       "      <td>MAIN</td>\n",
       "      <td>2011-01-24</td>\n",
       "      <td>...</td>\n",
       "      <td>ACC101</td>\n",
       "      <td>ACC 101.LEC.2011.Spring.02</td>\n",
       "      <td>ACC 101.LEC.2011.Spring.02</td>\n",
       "      <td>2011.Spring</td>\n",
       "      <td>2011</td>\n",
       "      <td>2010</td>\n",
       "      <td>01</td>\n",
       "      <td>ACC 101.LEC.2010</td>\n",
       "      <td>ACC 101.LEC.2010</td>\n",
       "      <td>P000000065</td>\n",
       "    </tr>\n",
       "  </tbody>\n",
       "</table>\n",
       "<p>5 rows Ã— 24 columns</p>\n",
       "</div>"
      ],
      "text/plain": [
       "  EVENT_ID EVENT_SUB_TYPE   course_section_name SECTION  credit_hours  \\\n",
       "0  ACC 101            LEC  Financial Accounting      01           3.0   \n",
       "1  ACC 101            LEC  Financial Accounting      02           3.0   \n",
       "2  ACC 101            LEC  Financial Accounting      03           3.0   \n",
       "3  ACC 101            LEC  Financial Accounting      01           3.0   \n",
       "4  ACC 101            LEC  Financial Accounting      02           3.0   \n",
       "\n",
       "   maximum_enrollment_count ACADEMIC_YEAR ACADEMIC_TERM ACADEMIC_SESSION  \\\n",
       "0                        35          2011          FALL             MAIN   \n",
       "1                        36          2011          FALL             MAIN   \n",
       "2                        30          2011          FALL             MAIN   \n",
       "3                        37          2011        SPRING             MAIN   \n",
       "4                        40          2011        SPRING             MAIN   \n",
       "\n",
       "    start_dt       ...       course_id           course_section_id  \\\n",
       "0 2011-08-31       ...          ACC101    ACC 101.LEC.2011.Fall.01   \n",
       "1 2011-08-31       ...          ACC101    ACC 101.LEC.2011.Fall.02   \n",
       "2 2011-08-31       ...          ACC101    ACC 101.LEC.2011.Fall.03   \n",
       "3 2011-01-24       ...          ACC101  ACC 101.LEC.2011.Spring.01   \n",
       "4 2011-01-24       ...          ACC101  ACC 101.LEC.2011.Spring.02   \n",
       "\n",
       "               integration_id      term_id    AY catalog_year  \\\n",
       "0    ACC 101.LEC.2011.Fall.01    2011.Fall  2011         2011   \n",
       "1    ACC 101.LEC.2011.Fall.02    2011.Fall  2011         2011   \n",
       "2    ACC 101.LEC.2011.Fall.03    2011.Fall  2011         2011   \n",
       "3  ACC 101.LEC.2011.Spring.01  2011.Spring  2011         2010   \n",
       "4  ACC 101.LEC.2011.Spring.02  2011.Spring  2011         2010   \n",
       "\n",
       "  course_section_delivery course_integration_id      cat_integ_id  \\\n",
       "0                      01      ACC 101.LEC.2010  ACC 101.LEC.2010   \n",
       "1                      01      ACC 101.LEC.2010  ACC 101.LEC.2010   \n",
       "2                      01      ACC 101.LEC.2010  ACC 101.LEC.2010   \n",
       "3                      01      ACC 101.LEC.2010  ACC 101.LEC.2010   \n",
       "4                      01      ACC 101.LEC.2010  ACC 101.LEC.2010   \n",
       "\n",
       "   PERSON_CODE_ID  \n",
       "0      P000000065  \n",
       "1      P000000065  \n",
       "2      P000000065  \n",
       "3      P000000065  \n",
       "4      P000000065  \n",
       "\n",
       "[5 rows x 24 columns]"
      ]
     },
     "execution_count": 32,
     "metadata": {},
     "output_type": "execute_result"
    }
   ],
   "source": [
    "print(dft.shape)\n",
    "dft.head()\n"
   ]
  },
  {
   "cell_type": "code",
   "execution_count": 33,
   "metadata": {
    "collapsed": false,
    "deletable": true,
    "editable": true,
    "jupyter": {
     "outputs_hidden": false
    }
   },
   "outputs": [
    {
     "data": {
      "text/html": [
       "<div>\n",
       "<style scoped>\n",
       "    .dataframe tbody tr th:only-of-type {\n",
       "        vertical-align: middle;\n",
       "    }\n",
       "\n",
       "    .dataframe tbody tr th {\n",
       "        vertical-align: top;\n",
       "    }\n",
       "\n",
       "    .dataframe thead th {\n",
       "        text-align: right;\n",
       "    }\n",
       "</style>\n",
       "<table border=\"1\" class=\"dataframe\">\n",
       "  <thead>\n",
       "    <tr style=\"text-align: right;\">\n",
       "      <th></th>\n",
       "      <th>EVENT_ID</th>\n",
       "      <th>EVENT_SUB_TYPE</th>\n",
       "      <th>course_section_name</th>\n",
       "      <th>SECTION</th>\n",
       "      <th>credit_hours</th>\n",
       "      <th>maximum_enrollment_count</th>\n",
       "      <th>ACADEMIC_YEAR</th>\n",
       "      <th>ACADEMIC_TERM</th>\n",
       "      <th>ACADEMIC_SESSION</th>\n",
       "      <th>start_dt</th>\n",
       "      <th>...</th>\n",
       "      <th>course_id</th>\n",
       "      <th>course_section_id</th>\n",
       "      <th>integration_id</th>\n",
       "      <th>term_id</th>\n",
       "      <th>AY</th>\n",
       "      <th>catalog_year</th>\n",
       "      <th>course_section_delivery</th>\n",
       "      <th>course_integration_id</th>\n",
       "      <th>cat_integ_id</th>\n",
       "      <th>PERSON_CODE_ID</th>\n",
       "    </tr>\n",
       "  </thead>\n",
       "  <tbody>\n",
       "    <tr>\n",
       "      <th>55</th>\n",
       "      <td>BAK 150</td>\n",
       "      <td>COMB</td>\n",
       "      <td>Found In Baking A3</td>\n",
       "      <td>01</td>\n",
       "      <td>4.0</td>\n",
       "      <td>0</td>\n",
       "      <td>2012</td>\n",
       "      <td>FALL</td>\n",
       "      <td>MAIN</td>\n",
       "      <td>2012-08-29</td>\n",
       "      <td>...</td>\n",
       "      <td>BAK150</td>\n",
       "      <td>BAK 150.COMB.2012.Fall.01</td>\n",
       "      <td>BAK 150.COMB.2012.Fall.01</td>\n",
       "      <td>2012.Fall</td>\n",
       "      <td>2012</td>\n",
       "      <td>2012</td>\n",
       "      <td>01</td>\n",
       "      <td>BAK 150.COMB.2010</td>\n",
       "      <td>BAK 150.COMB.2010</td>\n",
       "      <td>NaN</td>\n",
       "    </tr>\n",
       "    <tr>\n",
       "      <th>164</th>\n",
       "      <td>BAK 270</td>\n",
       "      <td>COMB</td>\n",
       "      <td>InternatBakPastryA3</td>\n",
       "      <td>03</td>\n",
       "      <td>4.0</td>\n",
       "      <td>0</td>\n",
       "      <td>2012</td>\n",
       "      <td>FALL</td>\n",
       "      <td>MAIN</td>\n",
       "      <td>2012-08-29</td>\n",
       "      <td>...</td>\n",
       "      <td>BAK270</td>\n",
       "      <td>BAK 270.COMB.2012.Fall.03</td>\n",
       "      <td>BAK 270.COMB.2012.Fall.03</td>\n",
       "      <td>2012.Fall</td>\n",
       "      <td>2012</td>\n",
       "      <td>2012</td>\n",
       "      <td>01</td>\n",
       "      <td>BAK 270.COMB.2011</td>\n",
       "      <td>BAK 270.COMB.2011</td>\n",
       "      <td>NaN</td>\n",
       "    </tr>\n",
       "    <tr>\n",
       "      <th>182</th>\n",
       "      <td>BAK 275</td>\n",
       "      <td>COMB</td>\n",
       "      <td>Confect&amp;DecorWkB3</td>\n",
       "      <td>03</td>\n",
       "      <td>4.0</td>\n",
       "      <td>0</td>\n",
       "      <td>2012</td>\n",
       "      <td>FALL</td>\n",
       "      <td>MAIN</td>\n",
       "      <td>2012-10-17</td>\n",
       "      <td>...</td>\n",
       "      <td>BAK275</td>\n",
       "      <td>BAK 275.COMB.2012.Fall.03</td>\n",
       "      <td>BAK 275.COMB.2012.Fall.03</td>\n",
       "      <td>2012.Fall</td>\n",
       "      <td>2012</td>\n",
       "      <td>2012</td>\n",
       "      <td>01</td>\n",
       "      <td>BAK 275.COMB.2010</td>\n",
       "      <td>BAK 275.COMB.2010</td>\n",
       "      <td>NaN</td>\n",
       "    </tr>\n",
       "    <tr>\n",
       "      <th>317</th>\n",
       "      <td>BIO 101</td>\n",
       "      <td>LEC</td>\n",
       "      <td>Biology I</td>\n",
       "      <td>02</td>\n",
       "      <td>4.0</td>\n",
       "      <td>0</td>\n",
       "      <td>2012</td>\n",
       "      <td>FALL</td>\n",
       "      <td>MAIN</td>\n",
       "      <td>2012-08-29</td>\n",
       "      <td>...</td>\n",
       "      <td>BIO101</td>\n",
       "      <td>BIO 101.LEC.2012.Fall.02</td>\n",
       "      <td>BIO 101.LEC.2012.Fall.02</td>\n",
       "      <td>2012.Fall</td>\n",
       "      <td>2012</td>\n",
       "      <td>2012</td>\n",
       "      <td>01</td>\n",
       "      <td>BIO 101.LEC.2011</td>\n",
       "      <td>BIO 101.LEC.2011</td>\n",
       "      <td>NaN</td>\n",
       "    </tr>\n",
       "    <tr>\n",
       "      <th>339</th>\n",
       "      <td>BIO 102</td>\n",
       "      <td>LAB</td>\n",
       "      <td>Biology II</td>\n",
       "      <td>01</td>\n",
       "      <td>0.0</td>\n",
       "      <td>0</td>\n",
       "      <td>2013</td>\n",
       "      <td>SPRING</td>\n",
       "      <td>MAIN</td>\n",
       "      <td>2013-01-23</td>\n",
       "      <td>...</td>\n",
       "      <td>BIO102lab</td>\n",
       "      <td>BIO 102.LAB.2013.Spring.01</td>\n",
       "      <td>BIO 102.LAB.2013.Spring.01</td>\n",
       "      <td>2013.Spring</td>\n",
       "      <td>2013</td>\n",
       "      <td>2012</td>\n",
       "      <td>01</td>\n",
       "      <td>BIO 102.LAB.2010</td>\n",
       "      <td>BIO 102.LAB.2010</td>\n",
       "      <td>NaN</td>\n",
       "    </tr>\n",
       "  </tbody>\n",
       "</table>\n",
       "<p>5 rows Ã— 24 columns</p>\n",
       "</div>"
      ],
      "text/plain": [
       "    EVENT_ID EVENT_SUB_TYPE  course_section_name SECTION  credit_hours  \\\n",
       "55   BAK 150           COMB   Found In Baking A3      01           4.0   \n",
       "164  BAK 270           COMB  InternatBakPastryA3      03           4.0   \n",
       "182  BAK 275           COMB    Confect&DecorWkB3      03           4.0   \n",
       "317  BIO 101            LEC            Biology I      02           4.0   \n",
       "339  BIO 102            LAB           Biology II      01           0.0   \n",
       "\n",
       "     maximum_enrollment_count ACADEMIC_YEAR ACADEMIC_TERM ACADEMIC_SESSION  \\\n",
       "55                          0          2012          FALL             MAIN   \n",
       "164                         0          2012          FALL             MAIN   \n",
       "182                         0          2012          FALL             MAIN   \n",
       "317                         0          2012          FALL             MAIN   \n",
       "339                         0          2013        SPRING             MAIN   \n",
       "\n",
       "      start_dt       ...        course_id           course_section_id  \\\n",
       "55  2012-08-29       ...           BAK150   BAK 150.COMB.2012.Fall.01   \n",
       "164 2012-08-29       ...           BAK270   BAK 270.COMB.2012.Fall.03   \n",
       "182 2012-10-17       ...           BAK275   BAK 275.COMB.2012.Fall.03   \n",
       "317 2012-08-29       ...           BIO101    BIO 101.LEC.2012.Fall.02   \n",
       "339 2013-01-23       ...        BIO102lab  BIO 102.LAB.2013.Spring.01   \n",
       "\n",
       "                 integration_id      term_id    AY catalog_year  \\\n",
       "55    BAK 150.COMB.2012.Fall.01    2012.Fall  2012         2012   \n",
       "164   BAK 270.COMB.2012.Fall.03    2012.Fall  2012         2012   \n",
       "182   BAK 275.COMB.2012.Fall.03    2012.Fall  2012         2012   \n",
       "317    BIO 101.LEC.2012.Fall.02    2012.Fall  2012         2012   \n",
       "339  BIO 102.LAB.2013.Spring.01  2013.Spring  2013         2012   \n",
       "\n",
       "    course_section_delivery course_integration_id       cat_integ_id  \\\n",
       "55                       01     BAK 150.COMB.2010  BAK 150.COMB.2010   \n",
       "164                      01     BAK 270.COMB.2011  BAK 270.COMB.2011   \n",
       "182                      01     BAK 275.COMB.2010  BAK 275.COMB.2010   \n",
       "317                      01      BIO 101.LEC.2011   BIO 101.LEC.2011   \n",
       "339                      01      BIO 102.LAB.2010   BIO 102.LAB.2010   \n",
       "\n",
       "     PERSON_CODE_ID  \n",
       "55              NaN  \n",
       "164             NaN  \n",
       "182             NaN  \n",
       "317             NaN  \n",
       "339             NaN  \n",
       "\n",
       "[5 rows x 24 columns]"
      ]
     },
     "execution_count": 33,
     "metadata": {},
     "output_type": "execute_result"
    }
   ],
   "source": [
    "dft[dft[\"PERSON_CODE_ID\"].isnull()].head()\n"
   ]
  },
  {
   "cell_type": "code",
   "execution_count": 34,
   "metadata": {
    "collapsed": false,
    "deletable": true,
    "editable": true,
    "jupyter": {
     "outputs_hidden": false
    }
   },
   "outputs": [
    {
     "name": "stdout",
     "output_type": "stream",
     "text": [
      "(4620, 24)\n",
      "(4509, 24)\n"
     ]
    }
   ],
   "source": [
    "print(dft.shape)\n",
    "dft = dft[~dft[\"PERSON_CODE_ID\"].isnull()]\n",
    "print(dft.shape)\n"
   ]
  },
  {
   "cell_type": "code",
   "execution_count": null,
   "metadata": {
    "collapsed": true,
    "deletable": true,
    "editable": true,
    "jupyter": {
     "outputs_hidden": true
    }
   },
   "outputs": [],
   "source": []
  },
  {
   "cell_type": "code",
   "execution_count": 35,
   "metadata": {
    "collapsed": false,
    "deletable": true,
    "editable": true,
    "jupyter": {
     "outputs_hidden": false
    }
   },
   "outputs": [],
   "source": [
    "dft = dft[[\"course_section_id\", \"PERSON_CODE_ID\"]].rename(\n",
    "    {\n",
    "        \"course_section_id\": \"course_section_integration_id\",\n",
    "        \"PERSON_CODE_ID\": \"user_integration_id\",\n",
    "    },\n",
    "    axis=\"columns\",\n",
    ")\n"
   ]
  },
  {
   "cell_type": "code",
   "execution_count": 36,
   "metadata": {
    "collapsed": false,
    "deletable": true,
    "editable": true,
    "jupyter": {
     "outputs_hidden": false
    }
   },
   "outputs": [
    {
     "name": "stdout",
     "output_type": "stream",
     "text": [
      "(4509, 2)\n"
     ]
    },
    {
     "data": {
      "text/html": [
       "<div>\n",
       "<style scoped>\n",
       "    .dataframe tbody tr th:only-of-type {\n",
       "        vertical-align: middle;\n",
       "    }\n",
       "\n",
       "    .dataframe tbody tr th {\n",
       "        vertical-align: top;\n",
       "    }\n",
       "\n",
       "    .dataframe thead th {\n",
       "        text-align: right;\n",
       "    }\n",
       "</style>\n",
       "<table border=\"1\" class=\"dataframe\">\n",
       "  <thead>\n",
       "    <tr style=\"text-align: right;\">\n",
       "      <th></th>\n",
       "      <th>course_section_integration_id</th>\n",
       "      <th>user_integration_id</th>\n",
       "    </tr>\n",
       "  </thead>\n",
       "  <tbody>\n",
       "    <tr>\n",
       "      <th>0</th>\n",
       "      <td>ACC 101.LEC.2011.Fall.01</td>\n",
       "      <td>P000000065</td>\n",
       "    </tr>\n",
       "    <tr>\n",
       "      <th>1</th>\n",
       "      <td>ACC 101.LEC.2011.Fall.02</td>\n",
       "      <td>P000000065</td>\n",
       "    </tr>\n",
       "    <tr>\n",
       "      <th>2</th>\n",
       "      <td>ACC 101.LEC.2011.Fall.03</td>\n",
       "      <td>P000000065</td>\n",
       "    </tr>\n",
       "    <tr>\n",
       "      <th>3</th>\n",
       "      <td>ACC 101.LEC.2011.Spring.01</td>\n",
       "      <td>P000000065</td>\n",
       "    </tr>\n",
       "    <tr>\n",
       "      <th>4</th>\n",
       "      <td>ACC 101.LEC.2011.Spring.02</td>\n",
       "      <td>P000000065</td>\n",
       "    </tr>\n",
       "  </tbody>\n",
       "</table>\n",
       "</div>"
      ],
      "text/plain": [
       "  course_section_integration_id user_integration_id\n",
       "0      ACC 101.LEC.2011.Fall.01          P000000065\n",
       "1      ACC 101.LEC.2011.Fall.02          P000000065\n",
       "2      ACC 101.LEC.2011.Fall.03          P000000065\n",
       "3    ACC 101.LEC.2011.Spring.01          P000000065\n",
       "4    ACC 101.LEC.2011.Spring.02          P000000065"
      ]
     },
     "execution_count": 36,
     "metadata": {},
     "output_type": "execute_result"
    }
   ],
   "source": [
    "print(dft.shape)\n",
    "dft.head()\n"
   ]
  },
  {
   "cell_type": "code",
   "execution_count": 37,
   "metadata": {
    "collapsed": true,
    "deletable": true,
    "editable": true,
    "jupyter": {
     "outputs_hidden": true
    }
   },
   "outputs": [],
   "source": [
    "dft.loc[:, \"user_role\"] = \"INSTRUCTOR\"\n",
    "dft.loc[:, \"available_ind\"] = \"1\"\n"
   ]
  },
  {
   "cell_type": "code",
   "execution_count": 38,
   "metadata": {
    "collapsed": false,
    "deletable": true,
    "editable": true,
    "jupyter": {
     "outputs_hidden": false
    }
   },
   "outputs": [
    {
     "name": "stdout",
     "output_type": "stream",
     "text": [
      "(4509, 4)\n"
     ]
    },
    {
     "data": {
      "text/html": [
       "<div>\n",
       "<style scoped>\n",
       "    .dataframe tbody tr th:only-of-type {\n",
       "        vertical-align: middle;\n",
       "    }\n",
       "\n",
       "    .dataframe tbody tr th {\n",
       "        vertical-align: top;\n",
       "    }\n",
       "\n",
       "    .dataframe thead th {\n",
       "        text-align: right;\n",
       "    }\n",
       "</style>\n",
       "<table border=\"1\" class=\"dataframe\">\n",
       "  <thead>\n",
       "    <tr style=\"text-align: right;\">\n",
       "      <th></th>\n",
       "      <th>course_section_integration_id</th>\n",
       "      <th>user_integration_id</th>\n",
       "      <th>user_role</th>\n",
       "      <th>available_ind</th>\n",
       "    </tr>\n",
       "  </thead>\n",
       "  <tbody>\n",
       "    <tr>\n",
       "      <th>0</th>\n",
       "      <td>ACC 101.LEC.2011.Fall.01</td>\n",
       "      <td>P000000065</td>\n",
       "      <td>INSTRUCTOR</td>\n",
       "      <td>1</td>\n",
       "    </tr>\n",
       "    <tr>\n",
       "      <th>1</th>\n",
       "      <td>ACC 101.LEC.2011.Fall.02</td>\n",
       "      <td>P000000065</td>\n",
       "      <td>INSTRUCTOR</td>\n",
       "      <td>1</td>\n",
       "    </tr>\n",
       "    <tr>\n",
       "      <th>2</th>\n",
       "      <td>ACC 101.LEC.2011.Fall.03</td>\n",
       "      <td>P000000065</td>\n",
       "      <td>INSTRUCTOR</td>\n",
       "      <td>1</td>\n",
       "    </tr>\n",
       "    <tr>\n",
       "      <th>3</th>\n",
       "      <td>ACC 101.LEC.2011.Spring.01</td>\n",
       "      <td>P000000065</td>\n",
       "      <td>INSTRUCTOR</td>\n",
       "      <td>1</td>\n",
       "    </tr>\n",
       "    <tr>\n",
       "      <th>4</th>\n",
       "      <td>ACC 101.LEC.2011.Spring.02</td>\n",
       "      <td>P000000065</td>\n",
       "      <td>INSTRUCTOR</td>\n",
       "      <td>1</td>\n",
       "    </tr>\n",
       "  </tbody>\n",
       "</table>\n",
       "</div>"
      ],
      "text/plain": [
       "  course_section_integration_id user_integration_id   user_role available_ind\n",
       "0      ACC 101.LEC.2011.Fall.01          P000000065  INSTRUCTOR             1\n",
       "1      ACC 101.LEC.2011.Fall.02          P000000065  INSTRUCTOR             1\n",
       "2      ACC 101.LEC.2011.Fall.03          P000000065  INSTRUCTOR             1\n",
       "3    ACC 101.LEC.2011.Spring.01          P000000065  INSTRUCTOR             1\n",
       "4    ACC 101.LEC.2011.Spring.02          P000000065  INSTRUCTOR             1"
      ]
     },
     "execution_count": 38,
     "metadata": {},
     "output_type": "execute_result"
    }
   ],
   "source": [
    "print(dft.shape)\n",
    "dft.head()\n"
   ]
  },
  {
   "cell_type": "code",
   "execution_count": 39,
   "metadata": {
    "collapsed": true,
    "deletable": true,
    "editable": true,
    "jupyter": {
     "outputs_hidden": true
    }
   },
   "outputs": [],
   "source": [
    "dft = dft.sort_values([\"course_section_integration_id\", \"user_integration_id\"])\n"
   ]
  },
  {
   "cell_type": "code",
   "execution_count": 40,
   "metadata": {
    "collapsed": true,
    "deletable": true,
    "editable": true,
    "jupyter": {
     "outputs_hidden": true
    }
   },
   "outputs": [],
   "source": [
    "today = datetime.now().strftime(\"%Y%m%d\")\n",
    "fn_output = f\"{today}_teaching.txt\"\n",
    "dft.to_csv(fn_output, index=False)\n"
   ]
  },
  {
   "cell_type": "code",
   "execution_count": null,
   "metadata": {
    "collapsed": true,
    "deletable": true,
    "editable": true,
    "jupyter": {
     "outputs_hidden": true
    }
   },
   "outputs": [],
   "source": []
  }
 ],
 "metadata": {
  "kernelspec": {
   "display_name": "Python 3",
   "language": "python",
   "name": "python3"
  },
  "language_info": {
   "codemirror_mode": {
    "name": "ipython",
    "version": 3
   },
   "file_extension": ".py",
   "mimetype": "text/x-python",
   "name": "python",
   "nbconvert_exporter": "python",
   "pygments_lexer": "ipython3",
   "version": "3.8.1"
  }
 },
 "nbformat": 4,
 "nbformat_minor": 4
}
